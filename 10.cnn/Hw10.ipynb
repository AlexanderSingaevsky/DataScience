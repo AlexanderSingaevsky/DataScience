{
 "cells": [
  {
   "cell_type": "code",
   "execution_count": 1,
   "id": "initial_id",
   "metadata": {
    "collapsed": true,
    "ExecuteTime": {
     "end_time": "2023-12-14T14:09:13.014237300Z",
     "start_time": "2023-12-14T14:09:09.894782600Z"
    }
   },
   "outputs": [
    {
     "name": "stderr",
     "output_type": "stream",
     "text": [
      "2023-12-14 16:09:10.337682: I external/local_tsl/tsl/cuda/cudart_stub.cc:31] Could not find cuda drivers on your machine, GPU will not be used.\n",
      "2023-12-14 16:09:10.395794: E external/local_xla/xla/stream_executor/cuda/cuda_dnn.cc:9261] Unable to register cuDNN factory: Attempting to register factory for plugin cuDNN when one has already been registered\n",
      "2023-12-14 16:09:10.395828: E external/local_xla/xla/stream_executor/cuda/cuda_fft.cc:607] Unable to register cuFFT factory: Attempting to register factory for plugin cuFFT when one has already been registered\n",
      "2023-12-14 16:09:10.397087: E external/local_xla/xla/stream_executor/cuda/cuda_blas.cc:1515] Unable to register cuBLAS factory: Attempting to register factory for plugin cuBLAS when one has already been registered\n",
      "2023-12-14 16:09:10.404785: I external/local_tsl/tsl/cuda/cudart_stub.cc:31] Could not find cuda drivers on your machine, GPU will not be used.\n",
      "2023-12-14 16:09:10.406040: I tensorflow/core/platform/cpu_feature_guard.cc:182] This TensorFlow binary is optimized to use available CPU instructions in performance-critical operations.\n",
      "To enable the following instructions: FMA, in other operations, rebuild TensorFlow with the appropriate compiler flags.\n",
      "2023-12-14 16:09:11.594348: W tensorflow/compiler/tf2tensorrt/utils/py_utils.cc:38] TF-TRT Warning: Could not find TensorRT\n"
     ]
    }
   ],
   "source": [
    "import numpy as np\n",
    "import tensorflow as tf\n",
    "\n",
    "from tensorflow.keras.models import Sequential\n",
    "from tensorflow.keras.layers import Dense,Flatten , MaxPooling2D, Conv2D, Dropout\n",
    "from tensorflow.keras.optimizers import Adam\n",
    "\n",
    "import matplotlib.pyplot as plt"
   ]
  },
  {
   "cell_type": "code",
   "execution_count": 2,
   "outputs": [],
   "source": [
    "data = tf.keras.datasets.fashion_mnist.load_data()"
   ],
   "metadata": {
    "collapsed": false,
    "ExecuteTime": {
     "end_time": "2023-12-14T14:09:15.953184900Z",
     "start_time": "2023-12-14T14:09:15.296756300Z"
    }
   },
   "id": "5c7eca214643561"
  },
  {
   "cell_type": "code",
   "execution_count": 3,
   "outputs": [],
   "source": [
    "(x_train, y_train), (x_test, y_test) = data"
   ],
   "metadata": {
    "collapsed": false,
    "ExecuteTime": {
     "end_time": "2023-12-14T14:09:17.937205300Z",
     "start_time": "2023-12-14T14:09:17.924235800Z"
    }
   },
   "id": "c20e2da27a090e6c"
  },
  {
   "cell_type": "code",
   "execution_count": 4,
   "outputs": [
    {
     "name": "stderr",
     "output_type": "stream",
     "text": [
      "2023-12-14 16:09:20.229636: I external/local_xla/xla/stream_executor/cuda/cuda_executor.cc:887] could not open file to read NUMA node: /sys/bus/pci/devices/0000:01:00.0/numa_node\n",
      "Your kernel may have been built without NUMA support.\n",
      "2023-12-14 16:09:20.229985: W tensorflow/core/common_runtime/gpu/gpu_device.cc:2256] Cannot dlopen some GPU libraries. Please make sure the missing libraries mentioned above are installed properly if you would like to use GPU. Follow the guide at https://www.tensorflow.org/install/gpu for how to download and setup the required libraries for your platform.\n",
      "Skipping registering GPU devices...\n",
      "2023-12-14 16:09:20.233563: W external/local_tsl/tsl/framework/cpu_allocator_impl.cc:83] Allocation of 376320000 exceeds 10% of free system memory.\n",
      "2023-12-14 16:09:20.561989: W external/local_tsl/tsl/framework/cpu_allocator_impl.cc:83] Allocation of 188160000 exceeds 10% of free system memory.\n"
     ]
    }
   ],
   "source": [
    "x_train, x_test = tf.cast(x_train/255.0, tf.float32), tf.cast(x_test/255.0, tf.float32)"
   ],
   "metadata": {
    "collapsed": false,
    "ExecuteTime": {
     "end_time": "2023-12-14T14:09:21.864284400Z",
     "start_time": "2023-12-14T14:09:19.287363900Z"
    }
   },
   "id": "c4a265e06a3b4e39"
  },
  {
   "cell_type": "code",
   "execution_count": 6,
   "outputs": [
    {
     "name": "stdout",
     "output_type": "stream",
     "text": [
      "Model: \"sequential_1\"\n",
      "_________________________________________________________________\n",
      " Layer (type)                Output Shape              Param #   \n",
      "=================================================================\n",
      " conv2d_1 (Conv2D)           (None, 26, 26, 32)        320       \n",
      "                                                                 \n",
      " max_pooling2d (MaxPooling2  (None, 13, 13, 32)        0         \n",
      " D)                                                              \n",
      "                                                                 \n",
      " dropout (Dropout)           (None, 13, 13, 32)        0         \n",
      "                                                                 \n",
      " flatten (Flatten)           (None, 5408)              0         \n",
      "                                                                 \n",
      " dense (Dense)               (None, 32)                173088    \n",
      "                                                                 \n",
      " dense_1 (Dense)             (None, 10)                330       \n",
      "                                                                 \n",
      "=================================================================\n",
      "Total params: 173738 (678.66 KB)\n",
      "Trainable params: 173738 (678.66 KB)\n",
      "Non-trainable params: 0 (0.00 Byte)\n",
      "_________________________________________________________________\n"
     ]
    }
   ],
   "source": [
    "model_cnn = Sequential()\n",
    "model_cnn.add(Conv2D(filters=32,kernel_size=3,activation='relu',input_shape = (28, 28, 1)))\n",
    "model_cnn.add(MaxPooling2D(pool_size=2))\n",
    "model_cnn.add(Dropout(0.2))\n",
    "model_cnn.add(Flatten())\n",
    "model_cnn.add(Dense(32,activation='relu'))\n",
    "model_cnn.add(Dense(10,activation = 'softmax'))\n",
    "model_cnn.summary()\n"
   ],
   "metadata": {
    "collapsed": false,
    "ExecuteTime": {
     "end_time": "2023-12-14T14:10:04.579023800Z",
     "start_time": "2023-12-14T14:10:04.442442300Z"
    }
   },
   "id": "5daf3b4f320b81c9"
  },
  {
   "cell_type": "code",
   "execution_count": 8,
   "outputs": [],
   "source": [
    "model_cnn.compile(optimizer=Adam(learning_rate=0.001), loss='sparse_categorical_crossentropy', metrics=['accuracy'])"
   ],
   "metadata": {
    "collapsed": false,
    "ExecuteTime": {
     "end_time": "2023-12-14T14:10:43.047352700Z",
     "start_time": "2023-12-14T14:10:43.025377900Z"
    }
   },
   "id": "3dfb62856757e441"
  },
  {
   "cell_type": "code",
   "execution_count": 9,
   "outputs": [
    {
     "name": "stdout",
     "output_type": "stream",
     "text": [
      "Epoch 1/100\n",
      "1875/1875 [==============================] - 28s 14ms/step - loss: 0.4551 - accuracy: 0.8391\n",
      "Epoch 2/100\n",
      "1875/1875 [==============================] - 29s 16ms/step - loss: 0.3170 - accuracy: 0.8864\n",
      "Epoch 3/100\n",
      "1875/1875 [==============================] - 29s 15ms/step - loss: 0.2787 - accuracy: 0.9011\n",
      "Epoch 4/100\n",
      "1875/1875 [==============================] - 30s 16ms/step - loss: 0.2577 - accuracy: 0.9073\n",
      "Epoch 5/100\n",
      "1875/1875 [==============================] - 28s 15ms/step - loss: 0.2396 - accuracy: 0.9122\n",
      "Epoch 6/100\n",
      "1875/1875 [==============================] - 26s 14ms/step - loss: 0.2246 - accuracy: 0.9166\n",
      "Epoch 7/100\n",
      "1875/1875 [==============================] - 29s 15ms/step - loss: 0.2101 - accuracy: 0.9234\n",
      "Epoch 8/100\n",
      "1875/1875 [==============================] - 28s 15ms/step - loss: 0.1994 - accuracy: 0.9263\n",
      "Epoch 9/100\n",
      "1875/1875 [==============================] - 28s 15ms/step - loss: 0.1899 - accuracy: 0.9312\n",
      "Epoch 10/100\n",
      "1875/1875 [==============================] - 31s 16ms/step - loss: 0.1802 - accuracy: 0.9325\n",
      "Epoch 11/100\n",
      "1875/1875 [==============================] - 27s 14ms/step - loss: 0.1714 - accuracy: 0.9369\n",
      "Epoch 12/100\n",
      "1875/1875 [==============================] - 28s 15ms/step - loss: 0.1647 - accuracy: 0.9380\n",
      "Epoch 13/100\n",
      "1875/1875 [==============================] - 29s 15ms/step - loss: 0.1588 - accuracy: 0.9406\n",
      "Epoch 14/100\n",
      "1875/1875 [==============================] - 27s 14ms/step - loss: 0.1504 - accuracy: 0.9440\n",
      "Epoch 15/100\n",
      "1875/1875 [==============================] - 27s 15ms/step - loss: 0.1478 - accuracy: 0.9446\n",
      "Epoch 16/100\n",
      "1875/1875 [==============================] - 28s 15ms/step - loss: 0.1404 - accuracy: 0.9475\n",
      "Epoch 17/100\n",
      "1875/1875 [==============================] - 28s 15ms/step - loss: 0.1375 - accuracy: 0.9490\n",
      "Epoch 18/100\n",
      "1875/1875 [==============================] - 28s 15ms/step - loss: 0.1337 - accuracy: 0.9493\n",
      "Epoch 19/100\n",
      "1875/1875 [==============================] - 28s 15ms/step - loss: 0.1304 - accuracy: 0.9510\n",
      "Epoch 20/100\n",
      "1875/1875 [==============================] - 27s 14ms/step - loss: 0.1265 - accuracy: 0.9520\n",
      "Epoch 21/100\n",
      "1875/1875 [==============================] - 28s 15ms/step - loss: 0.1233 - accuracy: 0.9538\n",
      "Epoch 22/100\n",
      "1875/1875 [==============================] - 26s 14ms/step - loss: 0.1186 - accuracy: 0.9544\n",
      "Epoch 23/100\n",
      "1875/1875 [==============================] - 25s 13ms/step - loss: 0.1161 - accuracy: 0.9560\n",
      "Epoch 24/100\n",
      "1875/1875 [==============================] - 26s 14ms/step - loss: 0.1120 - accuracy: 0.9572\n",
      "Epoch 25/100\n",
      "1875/1875 [==============================] - 28s 15ms/step - loss: 0.1091 - accuracy: 0.9588\n",
      "Epoch 26/100\n",
      "1875/1875 [==============================] - 27s 14ms/step - loss: 0.1070 - accuracy: 0.9586\n",
      "Epoch 27/100\n",
      "1875/1875 [==============================] - 26s 14ms/step - loss: 0.1050 - accuracy: 0.9602\n",
      "Epoch 28/100\n",
      "1875/1875 [==============================] - 26s 14ms/step - loss: 0.1013 - accuracy: 0.9613\n",
      "Epoch 29/100\n",
      "1875/1875 [==============================] - 27s 14ms/step - loss: 0.1000 - accuracy: 0.9623\n",
      "Epoch 30/100\n",
      "1875/1875 [==============================] - 26s 14ms/step - loss: 0.0999 - accuracy: 0.9622\n",
      "Epoch 31/100\n",
      "1875/1875 [==============================] - 28s 15ms/step - loss: 0.0972 - accuracy: 0.9639\n",
      "Epoch 32/100\n",
      "1875/1875 [==============================] - 27s 15ms/step - loss: 0.0946 - accuracy: 0.9641\n",
      "Epoch 33/100\n",
      "1875/1875 [==============================] - 27s 14ms/step - loss: 0.0950 - accuracy: 0.9636\n",
      "Epoch 34/100\n",
      "1875/1875 [==============================] - 27s 14ms/step - loss: 0.0909 - accuracy: 0.9663\n",
      "Epoch 35/100\n",
      "1875/1875 [==============================] - 28s 15ms/step - loss: 0.0892 - accuracy: 0.9672\n",
      "Epoch 36/100\n",
      "1875/1875 [==============================] - 27s 14ms/step - loss: 0.0883 - accuracy: 0.9667\n",
      "Epoch 37/100\n",
      "1875/1875 [==============================] - 26s 14ms/step - loss: 0.0855 - accuracy: 0.9677\n",
      "Epoch 38/100\n",
      "1875/1875 [==============================] - 27s 14ms/step - loss: 0.0834 - accuracy: 0.9679\n",
      "Epoch 39/100\n",
      "1875/1875 [==============================] - 28s 15ms/step - loss: 0.0827 - accuracy: 0.9689\n",
      "Epoch 40/100\n",
      "1875/1875 [==============================] - 26s 14ms/step - loss: 0.0843 - accuracy: 0.9683\n",
      "Epoch 41/100\n",
      "1875/1875 [==============================] - 26s 14ms/step - loss: 0.0824 - accuracy: 0.9686\n",
      "Epoch 42/100\n",
      "1875/1875 [==============================] - 27s 14ms/step - loss: 0.0802 - accuracy: 0.9693\n",
      "Epoch 43/100\n",
      "1875/1875 [==============================] - 27s 14ms/step - loss: 0.0791 - accuracy: 0.9696\n",
      "Epoch 44/100\n",
      "1875/1875 [==============================] - 27s 14ms/step - loss: 0.0777 - accuracy: 0.9704\n",
      "Epoch 45/100\n",
      "1875/1875 [==============================] - 27s 14ms/step - loss: 0.0778 - accuracy: 0.9706\n",
      "Epoch 46/100\n",
      "1875/1875 [==============================] - 24s 13ms/step - loss: 0.0768 - accuracy: 0.9708\n",
      "Epoch 47/100\n",
      "1875/1875 [==============================] - 24s 13ms/step - loss: 0.0757 - accuracy: 0.9714\n",
      "Epoch 48/100\n",
      "1875/1875 [==============================] - 25s 13ms/step - loss: 0.0741 - accuracy: 0.9719\n",
      "Epoch 49/100\n",
      "1875/1875 [==============================] - 26s 14ms/step - loss: 0.0725 - accuracy: 0.9724\n",
      "Epoch 50/100\n",
      "1875/1875 [==============================] - 27s 15ms/step - loss: 0.0728 - accuracy: 0.9721\n",
      "Epoch 51/100\n",
      "1875/1875 [==============================] - 26s 14ms/step - loss: 0.0712 - accuracy: 0.9730\n",
      "Epoch 52/100\n",
      "1875/1875 [==============================] - 26s 14ms/step - loss: 0.0716 - accuracy: 0.9731\n",
      "Epoch 53/100\n",
      "1875/1875 [==============================] - 28s 15ms/step - loss: 0.0680 - accuracy: 0.9743\n",
      "Epoch 54/100\n",
      "1875/1875 [==============================] - 28s 15ms/step - loss: 0.0704 - accuracy: 0.9737\n",
      "Epoch 55/100\n",
      "1875/1875 [==============================] - 27s 14ms/step - loss: 0.0684 - accuracy: 0.9744\n",
      "Epoch 56/100\n",
      "1875/1875 [==============================] - 27s 15ms/step - loss: 0.0678 - accuracy: 0.9743\n",
      "Epoch 57/100\n",
      "1875/1875 [==============================] - 26s 14ms/step - loss: 0.0679 - accuracy: 0.9740\n",
      "Epoch 58/100\n",
      "1875/1875 [==============================] - 27s 14ms/step - loss: 0.0658 - accuracy: 0.9753\n",
      "Epoch 59/100\n",
      "1875/1875 [==============================] - 27s 14ms/step - loss: 0.0653 - accuracy: 0.9751\n",
      "Epoch 60/100\n",
      "1875/1875 [==============================] - 27s 15ms/step - loss: 0.0657 - accuracy: 0.9757\n",
      "Epoch 61/100\n",
      "1875/1875 [==============================] - 27s 15ms/step - loss: 0.0633 - accuracy: 0.9759\n",
      "Epoch 62/100\n",
      "1875/1875 [==============================] - 25s 14ms/step - loss: 0.0647 - accuracy: 0.9758\n",
      "Epoch 63/100\n",
      "1875/1875 [==============================] - 28s 15ms/step - loss: 0.0636 - accuracy: 0.9763\n",
      "Epoch 64/100\n",
      "1875/1875 [==============================] - 25s 14ms/step - loss: 0.0631 - accuracy: 0.9763\n",
      "Epoch 65/100\n",
      "1875/1875 [==============================] - 27s 15ms/step - loss: 0.0632 - accuracy: 0.9770\n",
      "Epoch 66/100\n",
      "1875/1875 [==============================] - 27s 15ms/step - loss: 0.0592 - accuracy: 0.9775\n",
      "Epoch 67/100\n",
      "1875/1875 [==============================] - 26s 14ms/step - loss: 0.0595 - accuracy: 0.9777\n",
      "Epoch 68/100\n",
      "1875/1875 [==============================] - 26s 14ms/step - loss: 0.0599 - accuracy: 0.9772\n",
      "Epoch 69/100\n",
      "1875/1875 [==============================] - 26s 14ms/step - loss: 0.0578 - accuracy: 0.9785\n",
      "Epoch 70/100\n",
      "1875/1875 [==============================] - 25s 14ms/step - loss: 0.0609 - accuracy: 0.9777\n",
      "Epoch 71/100\n",
      "1875/1875 [==============================] - 26s 14ms/step - loss: 0.0595 - accuracy: 0.9782\n",
      "Epoch 72/100\n",
      "1875/1875 [==============================] - 26s 14ms/step - loss: 0.0588 - accuracy: 0.9782\n",
      "Epoch 73/100\n",
      "1875/1875 [==============================] - 26s 14ms/step - loss: 0.0578 - accuracy: 0.9788\n",
      "Epoch 74/100\n",
      "1875/1875 [==============================] - 27s 14ms/step - loss: 0.0595 - accuracy: 0.9778\n",
      "Epoch 75/100\n",
      "1875/1875 [==============================] - 27s 14ms/step - loss: 0.0580 - accuracy: 0.9782\n",
      "Epoch 76/100\n",
      "1875/1875 [==============================] - 25s 13ms/step - loss: 0.0578 - accuracy: 0.9786\n",
      "Epoch 77/100\n",
      "1875/1875 [==============================] - 28s 15ms/step - loss: 0.0548 - accuracy: 0.9799\n",
      "Epoch 78/100\n",
      "1875/1875 [==============================] - 25s 13ms/step - loss: 0.0570 - accuracy: 0.9795\n",
      "Epoch 79/100\n",
      "1875/1875 [==============================] - 26s 14ms/step - loss: 0.0560 - accuracy: 0.9795\n",
      "Epoch 80/100\n",
      "1875/1875 [==============================] - 26s 14ms/step - loss: 0.0565 - accuracy: 0.9792\n",
      "Epoch 81/100\n",
      "1875/1875 [==============================] - 28s 15ms/step - loss: 0.0550 - accuracy: 0.9791\n",
      "Epoch 82/100\n",
      "1875/1875 [==============================] - 27s 14ms/step - loss: 0.0531 - accuracy: 0.9801\n",
      "Epoch 83/100\n",
      "1875/1875 [==============================] - 27s 14ms/step - loss: 0.0541 - accuracy: 0.9798\n",
      "Epoch 84/100\n",
      "1875/1875 [==============================] - 27s 14ms/step - loss: 0.0564 - accuracy: 0.9788\n",
      "Epoch 85/100\n",
      "1875/1875 [==============================] - 27s 15ms/step - loss: 0.0524 - accuracy: 0.9815\n",
      "Epoch 86/100\n",
      "1875/1875 [==============================] - 29s 15ms/step - loss: 0.0535 - accuracy: 0.9805\n",
      "Epoch 87/100\n",
      "1875/1875 [==============================] - 28s 15ms/step - loss: 0.0538 - accuracy: 0.9808\n",
      "Epoch 88/100\n",
      "1875/1875 [==============================] - 26s 14ms/step - loss: 0.0537 - accuracy: 0.9801\n",
      "Epoch 89/100\n",
      "1875/1875 [==============================] - 26s 14ms/step - loss: 0.0526 - accuracy: 0.9805\n",
      "Epoch 90/100\n",
      "1875/1875 [==============================] - 26s 14ms/step - loss: 0.0509 - accuracy: 0.9814\n",
      "Epoch 91/100\n",
      "1875/1875 [==============================] - 26s 14ms/step - loss: 0.0480 - accuracy: 0.9822\n",
      "Epoch 92/100\n",
      "1875/1875 [==============================] - 26s 14ms/step - loss: 0.0511 - accuracy: 0.9815\n",
      "Epoch 93/100\n",
      "1875/1875 [==============================] - 25s 13ms/step - loss: 0.0508 - accuracy: 0.9811\n",
      "Epoch 94/100\n",
      "1875/1875 [==============================] - 26s 14ms/step - loss: 0.0519 - accuracy: 0.9808\n",
      "Epoch 95/100\n",
      "1875/1875 [==============================] - 28s 15ms/step - loss: 0.0488 - accuracy: 0.9817\n",
      "Epoch 96/100\n",
      "1875/1875 [==============================] - 26s 14ms/step - loss: 0.0489 - accuracy: 0.9822\n",
      "Epoch 97/100\n",
      "1875/1875 [==============================] - 26s 14ms/step - loss: 0.0492 - accuracy: 0.9820\n",
      "Epoch 98/100\n",
      "1875/1875 [==============================] - 25s 14ms/step - loss: 0.0500 - accuracy: 0.9817\n",
      "Epoch 99/100\n",
      "1875/1875 [==============================] - 26s 14ms/step - loss: 0.0474 - accuracy: 0.9826\n",
      "Epoch 100/100\n",
      "1875/1875 [==============================] - 29s 16ms/step - loss: 0.0509 - accuracy: 0.9813\n"
     ]
    },
    {
     "data": {
      "text/plain": "<keras.src.callbacks.History at 0x7fbb4fd6cd90>"
     },
     "execution_count": 9,
     "metadata": {},
     "output_type": "execute_result"
    }
   ],
   "source": [
    "model_cnn.fit(x_train, y_train, batch_size=32, epochs=100)"
   ],
   "metadata": {
    "collapsed": false,
    "ExecuteTime": {
     "end_time": "2023-12-14T14:55:34.544137Z",
     "start_time": "2023-12-14T14:10:46.595857900Z"
    }
   },
   "id": "4857133adadc683f"
  },
  {
   "cell_type": "code",
   "execution_count": 10,
   "outputs": [
    {
     "name": "stdout",
     "output_type": "stream",
     "text": [
      "313/313 [==============================] - 2s 6ms/step - loss: 0.5540 - accuracy: 0.9073\n"
     ]
    },
    {
     "data": {
      "text/plain": "[0.554036557674408, 0.9072999954223633]"
     },
     "execution_count": 10,
     "metadata": {},
     "output_type": "execute_result"
    }
   ],
   "source": [
    "model_cnn.evaluate(x_test, y_test)"
   ],
   "metadata": {
    "collapsed": false,
    "ExecuteTime": {
     "end_time": "2023-12-14T14:55:54.815901300Z",
     "start_time": "2023-12-14T14:55:52.809064100Z"
    }
   },
   "id": "df381f925e9c2a40"
  },
  {
   "cell_type": "code",
   "execution_count": null,
   "outputs": [],
   "source": [],
   "metadata": {
    "collapsed": false
   },
   "id": "2a92c6f90ca055fe"
  }
 ],
 "metadata": {
  "kernelspec": {
   "display_name": "Python 3",
   "language": "python",
   "name": "python3"
  },
  "language_info": {
   "codemirror_mode": {
    "name": "ipython",
    "version": 2
   },
   "file_extension": ".py",
   "mimetype": "text/x-python",
   "name": "python",
   "nbconvert_exporter": "python",
   "pygments_lexer": "ipython2",
   "version": "2.7.6"
  }
 },
 "nbformat": 4,
 "nbformat_minor": 5
}
