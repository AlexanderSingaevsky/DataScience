{
 "cells": [
  {
   "cell_type": "code",
   "execution_count": 1,
   "id": "initial_id",
   "metadata": {
    "collapsed": true,
    "ExecuteTime": {
     "end_time": "2023-12-14T17:24:27.713644500Z",
     "start_time": "2023-12-14T17:24:22.034673400Z"
    },
    "id": "initial_id"
   },
   "outputs": [],
   "source": [
    "import numpy as np\n",
    "import tensorflow as tf\n",
    "from tensorflow.keras.applications import VGG16\n",
    "from tensorflow.keras import layers\n",
    "from tensorflow.keras.models import Sequential\n",
    "from tensorflow.keras.layers import Flatten, Dense, Dropout\n",
    "from tensorflow.keras.utils import to_categorical\n",
    "from tensorflow.keras.optimizers import Adam"
   ]
  },
  {
   "cell_type": "code",
   "execution_count": 2,
   "outputs": [],
   "source": [
    "data = tf.keras.datasets.fashion_mnist.load_data()"
   ],
   "metadata": {
    "ExecuteTime": {
     "end_time": "2023-12-14T17:24:32.227924Z",
     "start_time": "2023-12-14T17:24:31.426511500Z"
    },
    "id": "daf77a482dc0e82b"
   },
   "id": "daf77a482dc0e82b"
  },
  {
   "cell_type": "code",
   "execution_count": 3,
   "outputs": [],
   "source": [
    "(x_train, y_train), (x_test, y_test) = data"
   ],
   "metadata": {
    "ExecuteTime": {
     "end_time": "2023-12-14T17:24:32.858992600Z",
     "start_time": "2023-12-14T17:24:32.834991300Z"
    },
    "id": "d51dac356ac683b8"
   },
   "id": "d51dac356ac683b8"
  },
  {
   "cell_type": "code",
   "source": [
    "y_train = to_categorical(y_train, num_classes=10)\n",
    "y_test = to_categorical(y_test, num_classes=10)"
   ],
   "metadata": {
    "id": "2-WCzQDRb4FW"
   },
   "id": "2-WCzQDRb4FW",
   "execution_count": 8,
   "outputs": []
  },
  {
   "cell_type": "code",
   "source": [
    "def preprocess_images(images):\n",
    "    images = np.stack((images,) * 3, axis=-1)\n",
    "    images = images.astype(\"float32\") / 255.0\n",
    "    return images\n",
    "\n",
    "\n",
    "x_train = preprocess_images(x_train)\n",
    "x_test = preprocess_images(x_test)\n",
    "\n",
    "\n",
    "x_train = tf.image.resize(x_train, (32, 32))\n",
    "x_test = tf.image.resize(x_test, (32, 32))"
   ],
   "metadata": {
    "id": "OGQU6nM1akLN"
   },
   "id": "OGQU6nM1akLN",
   "execution_count": 4,
   "outputs": []
  },
  {
   "cell_type": "code",
   "execution_count": 5,
   "outputs": [
    {
     "output_type": "stream",
     "name": "stdout",
     "text": [
      "Model: \"sequential\"\n",
      "_________________________________________________________________\n",
      " Layer (type)                Output Shape              Param #   \n",
      "=================================================================\n",
      " vgg16 (Functional)          (None, 1, 1, 512)         14714688  \n",
      "                                                                 \n",
      " flatten (Flatten)           (None, 512)               0         \n",
      "                                                                 \n",
      " dense (Dense)               (None, 256)               131328    \n",
      "                                                                 \n",
      " dense_1 (Dense)             (None, 128)               32896     \n",
      "                                                                 \n",
      " dropout (Dropout)           (None, 128)               0         \n",
      "                                                                 \n",
      " dense_2 (Dense)             (None, 64)                8256      \n",
      "                                                                 \n",
      " dense_3 (Dense)             (None, 10)                650       \n",
      "                                                                 \n",
      "=================================================================\n",
      "Total params: 14887818 (56.79 MB)\n",
      "Trainable params: 14887818 (56.79 MB)\n",
      "Non-trainable params: 0 (0.00 Byte)\n",
      "_________________________________________________________________\n"
     ]
    }
   ],
   "source": [
    "vgg = VGG16( weights=\"imagenet\", include_top=False, input_tensor=layers.Input(shape=(32, 32, 3)),)\n",
    "\n",
    "model_vgg = Sequential()\n",
    "model_vgg.add(vgg)\n",
    "model_vgg.add(Flatten())\n",
    "model_vgg.add(Dense(256, activation=\"relu\"))\n",
    "model_vgg.add(Dense(128, activation = 'relu'))\n",
    "model_vgg.add(Dropout(0.5))\n",
    "model_vgg.add(Dense(64, activation = 'relu'))\n",
    "model_vgg.add(Dense(10, activation=\"softmax\"))\n",
    "model_vgg.summary()"
   ],
   "metadata": {
    "ExecuteTime": {
     "end_time": "2023-12-14T17:24:44.703336300Z",
     "start_time": "2023-12-14T17:24:43.460006400Z"
    },
    "colab": {
     "base_uri": "https://localhost:8080/"
    },
    "id": "665eaa7f6c581bd1",
    "outputId": "8198eaaa-bc89-4ad7-8c84-fd9f0f20ddcf"
   },
   "id": "665eaa7f6c581bd1"
  },
  {
   "cell_type": "code",
   "execution_count": 10,
   "outputs": [],
   "source": [
    "model_vgg.compile(optimizer=Adam(learning_rate=0.001),loss='categorical_crossentropy', metrics=['accuracy'])"
   ],
   "metadata": {
    "ExecuteTime": {
     "end_time": "2023-12-14T17:24:46.097137300Z",
     "start_time": "2023-12-14T17:24:46.067137900Z"
    },
    "id": "be9a77b99949de73"
   },
   "id": "be9a77b99949de73"
  },
  {
   "cell_type": "code",
   "execution_count": 11,
   "outputs": [
    {
     "output_type": "stream",
     "name": "stdout",
     "text": [
      "Epoch 1/10\n",
      "1875/1875 [==============================] - 62s 30ms/step - loss: 0.9373 - accuracy: 0.6175 - val_loss: 0.6253 - val_accuracy: 0.7603\n",
      "Epoch 2/10\n",
      "1875/1875 [==============================] - 56s 30ms/step - loss: 0.5083 - accuracy: 0.8260 - val_loss: 0.4159 - val_accuracy: 0.8496\n",
      "Epoch 3/10\n",
      "1875/1875 [==============================] - 56s 30ms/step - loss: 0.4242 - accuracy: 0.8584 - val_loss: 0.4751 - val_accuracy: 0.8361\n",
      "Epoch 4/10\n",
      "1875/1875 [==============================] - 57s 30ms/step - loss: 0.3418 - accuracy: 0.8848 - val_loss: 0.3244 - val_accuracy: 0.8835\n",
      "Epoch 5/10\n",
      "1875/1875 [==============================] - 59s 31ms/step - loss: 0.3230 - accuracy: 0.8930 - val_loss: 0.2977 - val_accuracy: 0.8974\n",
      "Epoch 6/10\n",
      "1875/1875 [==============================] - 56s 30ms/step - loss: 0.3031 - accuracy: 0.8995 - val_loss: 0.3054 - val_accuracy: 0.8962\n",
      "Epoch 7/10\n",
      "1875/1875 [==============================] - 56s 30ms/step - loss: 0.2783 - accuracy: 0.9088 - val_loss: 0.3015 - val_accuracy: 0.9032\n",
      "Epoch 8/10\n",
      "1875/1875 [==============================] - 56s 30ms/step - loss: 0.2953 - accuracy: 0.9043 - val_loss: 0.2680 - val_accuracy: 0.9090\n",
      "Epoch 9/10\n",
      "1875/1875 [==============================] - 56s 30ms/step - loss: 0.2444 - accuracy: 0.9192 - val_loss: 0.2945 - val_accuracy: 0.9052\n",
      "Epoch 10/10\n",
      "1875/1875 [==============================] - 56s 30ms/step - loss: 0.2518 - accuracy: 0.9190 - val_loss: 0.2660 - val_accuracy: 0.9087\n"
     ]
    },
    {
     "output_type": "execute_result",
     "data": {
      "text/plain": [
       "<keras.src.callbacks.History at 0x7954a59ded10>"
      ]
     },
     "metadata": {},
     "execution_count": 11
    }
   ],
   "source": [
    "model_vgg.fit(x_train, y_train, epochs=10, validation_data=(x_test, y_test))"
   ],
   "metadata": {
    "ExecuteTime": {
     "end_time": "2023-12-14T17:25:22.356779100Z",
     "start_time": "2023-12-14T17:24:48.088893900Z"
    },
    "colab": {
     "base_uri": "https://localhost:8080/"
    },
    "id": "afe0352c031aa4b4",
    "outputId": "0db6a84c-c226-4701-a8da-fb1fb8a98f26"
   },
   "id": "afe0352c031aa4b4"
  },
  {
   "cell_type": "code",
   "execution_count": 12,
   "outputs": [
    {
     "output_type": "stream",
     "name": "stdout",
     "text": [
      "313/313 [==============================] - 3s 9ms/step - loss: 0.2660 - accuracy: 0.9087\n"
     ]
    },
    {
     "output_type": "execute_result",
     "data": {
      "text/plain": [
       "[0.26600152254104614, 0.9086999893188477]"
      ]
     },
     "metadata": {},
     "execution_count": 12
    }
   ],
   "source": [
    "model_vgg.evaluate(x_test, y_test)"
   ],
   "metadata": {
    "colab": {
     "base_uri": "https://localhost:8080/"
    },
    "id": "a99d677aa96ed824",
    "outputId": "55159665-6da3-426a-de8a-d22ca79de4d8"
   },
   "id": "a99d677aa96ed824"
  }
 ],
 "metadata": {
  "kernelspec": {
   "display_name": "Python 3",
   "name": "python3"
  },
  "language_info": {
   "codemirror_mode": {
    "name": "ipython",
    "version": 2
   },
   "file_extension": ".py",
   "mimetype": "text/x-python",
   "name": "python",
   "nbconvert_exporter": "python",
   "pygments_lexer": "ipython2",
   "version": "2.7.6"
  },
  "colab": {
   "provenance": [],
   "gpuType": "T4"
  },
  "accelerator": "GPU"
 },
 "nbformat": 4,
 "nbformat_minor": 5
}
