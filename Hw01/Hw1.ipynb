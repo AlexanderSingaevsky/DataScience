{
 "cells": [
  {
   "cell_type": "code",
   "execution_count": null,
   "outputs": [],
   "source": [
    "import numpy as np"
   ],
   "metadata": {
    "collapsed": false
   },
   "id": "5667ca347a05a39d"
  },
  {
   "cell_type": "markdown",
   "source": [
    "1. Створіть одновимірний масив (вектор) з першими 10-ма натуральними числами та виведіть його значення."
   ],
   "metadata": {
    "collapsed": false
   },
   "id": "bf957eb9b7bf7072"
  },
  {
   "cell_type": "code",
   "execution_count": null,
   "outputs": [],
   "source": [
    "natural_numbers_vector = np.arange(1, 11)\n",
    "print(natural_numbers_vector)"
   ],
   "metadata": {
    "collapsed": false
   },
   "id": "8ea7357287dd659"
  },
  {
   "cell_type": "markdown",
   "source": [
    "2. Створіть двовимірний масив (матрицю) розміром 3x3, заповніть його нулями та виведіть його значення."
   ],
   "metadata": {
    "collapsed": false
   },
   "id": "4f31de08f93fa97"
  },
  {
   "cell_type": "code",
   "execution_count": null,
   "outputs": [],
   "source": [
    "zero_matrix = np.zeros((3, 3))\n",
    "print(zero_matrix)"
   ],
   "metadata": {
    "collapsed": false
   },
   "id": "613e87816fb4186a"
  },
  {
   "cell_type": "markdown",
   "source": [
    "3. Створіть масив розміром 5x5, заповніть його випадковими цілими числами в діапазоні від 1 до 10 та виведіть його значення."
   ],
   "metadata": {
    "collapsed": false
   },
   "id": "83f8fa277fc4bc34"
  },
  {
   "cell_type": "code",
   "execution_count": null,
   "outputs": [],
   "source": [
    "random_matrix = np.random.randint(1, 11, size=(5, 5))\n",
    "print(random_matrix)"
   ],
   "metadata": {
    "collapsed": false
   },
   "id": "73f67b94d6f98d22"
  },
  {
   "cell_type": "markdown",
   "source": [
    "4. Створіть масив розміром 4x4, заповніть його випадковими дійсними числами в діапазоні від 0 до 1 та виведіть його значення."
   ],
   "metadata": {
    "collapsed": false
   },
   "id": "1b20eb2ee1a06f50"
  },
  {
   "cell_type": "code",
   "execution_count": null,
   "outputs": [],
   "source": [
    "matrix = np.random.rand(4, 4)\n",
    "print(matrix)"
   ],
   "metadata": {
    "collapsed": false
   },
   "id": "50469ea741e3ddb8"
  },
  {
   "cell_type": "markdown",
   "source": [
    "5. Створіть два одновимірних масиви розміром 5, заповніть їх випадковими цілими числами в діапазоні від 1 до 10 та виконайте на них поелементні операції додавання, віднімання та множення."
   ],
   "metadata": {
    "collapsed": false
   },
   "id": "8e598d2dff485bf1"
  },
  {
   "cell_type": "code",
   "execution_count": null,
   "outputs": [],
   "source": [
    "vector1 = np.random.randint(1, 11, size=5)\n",
    "vector2 = np.random.randint(1, 11, size=5)\n",
    "\n",
    "add_result = vector1 + vector2\n",
    "sub_result = vector1 - vector2\n",
    "mul_result = vector1 * vector2\n",
    "\n",
    "print(\"Вектор 1:\", vector1)\n",
    "print(\"Вектор 2:\", vector2)\n",
    "print(\"Результат додавання:\", add_result)\n",
    "print(\"Результат віднімання:\", sub_result)\n",
    "print(\"Результат множення:\", mul_result)"
   ],
   "metadata": {
    "collapsed": false
   },
   "id": "8e0545f703ea2b9d"
  },
  {
   "cell_type": "markdown",
   "source": [
    "6. Створіть два вектори розміром 7, заповніть довільними числами та знайдіть їх скалярний добуток."
   ],
   "metadata": {
    "collapsed": false
   },
   "id": "b1b1dcec19b4ace7"
  },
  {
   "cell_type": "code",
   "execution_count": null,
   "outputs": [],
   "source": [
    "vector1 = np.random.rand(7)\n",
    "vector2 = np.random.rand(7)\n",
    "dot_product = np.dot(vector1, vector2)\n",
    "\n",
    "print(\"Вектор 1:\", vector1)\n",
    "print(\"Вектор 2:\", vector2)\n",
    "print(\"Скалярний добуток:\", dot_product)"
   ],
   "metadata": {
    "collapsed": false
   },
   "id": "3c3858bbad5410cb"
  },
  {
   "cell_type": "markdown",
   "source": [
    "7. Створіть дві матриці розміром 2x2 та 2x3, заповніть їх випадковими цілими числами в діапазоні від 1 до 10 та перемножте їх між собою."
   ],
   "metadata": {
    "collapsed": false
   },
   "id": "6446bc0809cbac50"
  },
  {
   "cell_type": "code",
   "execution_count": null,
   "outputs": [],
   "source": [
    "matrix1 = np.random.randint(1, 11, size=(2, 2))\n",
    "matrix2 = np.random.randint(1, 11, size=(2, 3))\n",
    "\n",
    "result = np.dot(matrix1, matrix2)\n",
    "\n",
    "print(f\"Перша матриця:\\n{matrix1}\")\n",
    "print(f\"Друга матриця:\\n{matrix2}\")\n",
    "print(f\"Результат множення матриць:\\n{result}\")"
   ],
   "metadata": {
    "collapsed": false
   },
   "id": "cbb72b382f7ea09f"
  },
  {
   "cell_type": "markdown",
   "source": [
    "8. Створіть матрицю розміром 3x3, заповніть її випадковими цілими числами в діапазоні від 1 до 10 та знайдіть її обернену матрицю."
   ],
   "metadata": {
    "collapsed": false
   },
   "id": "d22889973094e6de"
  },
  {
   "cell_type": "code",
   "execution_count": null,
   "outputs": [],
   "source": [
    "matrix = np.random.randint(1, 11, size=(3, 3))\n",
    "inverse_matrix = np.linalg.inv(matrix)\n",
    "\n",
    "print(f\"Матриця:\\n{matrix}\")\n",
    "print(f\"Обернена матриця:\\n{inverse_matrix}\")"
   ],
   "metadata": {
    "collapsed": false
   },
   "id": "7cd768307c8f04aa"
  },
  {
   "cell_type": "markdown",
   "source": [
    "9. Створіть матрицю розміром 4x4, заповніть її випадковими дійсними числами в діапазоні від 0 до 1 та транспонуйте її."
   ],
   "metadata": {
    "collapsed": false
   },
   "id": "2f871f7c04839826"
  },
  {
   "cell_type": "code",
   "execution_count": null,
   "outputs": [],
   "source": [
    "matrix = np.random.rand(4, 4)\n",
    "transposed_matrix = np.transpose(matrix)\n",
    "\n",
    "print(f\"Початкова матриця:\\n{matrix}\")\n",
    "print(f\"Транспонована матриця:\\n{transposed_matrix}\")"
   ],
   "metadata": {
    "collapsed": false
   },
   "id": "94b606da9ed25902"
  },
  {
   "cell_type": "markdown",
   "source": [
    "10. Створіть матрицю розміром 3x4 та вектор розміром 4, заповніть їх випадковими цілими числами в діапазоні від 1 до 10 та перемножте матрицю на вектор."
   ],
   "metadata": {
    "collapsed": false
   },
   "id": "c7feaa83b0581956"
  },
  {
   "cell_type": "code",
   "execution_count": null,
   "outputs": [],
   "source": [
    "matrix = np.random.randint(1, 11, size=(3, 4))\n",
    "vector = np.random.randint(1, 11, size=4)\n",
    "result = np.dot(matrix, vector)\n",
    "\n",
    "print(f\"Матриця 3x4:\\n{matrix}\")\n",
    "print(f\"Вектор 4:\\n{vector}\")\n",
    "print(f\"Результат множення:\\n{result}\")"
   ],
   "metadata": {
    "collapsed": false
   },
   "id": "60b8cdae93fa799"
  },
  {
   "cell_type": "markdown",
   "source": [
    "11. Створіть матрицю розміром 2x3 та вектор розміром 3, заповніть їх випадковими дійсними числами в діапазоні від 0 до 1 та перемножте матрицю на вектор."
   ],
   "metadata": {
    "collapsed": false
   },
   "id": "13268b5df121289"
  },
  {
   "cell_type": "code",
   "execution_count": null,
   "outputs": [],
   "source": [
    "matrix = np.random.rand(2, 3)\n",
    "vector = np.random.rand(3)\n",
    "result = np.dot(matrix, vector)\n",
    "\n",
    "print(f\"Матриця 2x3:\\n{matrix}\")\n",
    "print(f\"Вектор 3:\\n{vector}\")\n",
    "print(f\"Результат множення:\\n{result}\")"
   ],
   "metadata": {
    "collapsed": false
   },
   "id": "ff92ca54d05079c6"
  },
  {
   "cell_type": "markdown",
   "source": [
    "12. Створіть дві матриці розміром 2x2, заповніть їх випадковими цілими числами в діапазоні від 1 до 10 та виконайте їхнє поелементне множення."
   ],
   "metadata": {
    "collapsed": false
   },
   "id": "fc0a0a7519892059"
  },
  {
   "cell_type": "code",
   "execution_count": null,
   "outputs": [],
   "source": [
    "matrix1 = np.random.randint(1, 11, size=(2, 2))\n",
    "matrix2 = np.random.randint(1, 11, size=(2, 2))\n",
    "result = matrix1 * matrix2\n",
    "\n",
    "print(f\"Перша матриця 2x2:\\n{matrix1}\")\n",
    "print(f\"Друга матриця 2x2:\\n{matrix2}\")\n",
    "print(f\"Результат поелементного множення:\\n{result}\")"
   ],
   "metadata": {
    "collapsed": false
   },
   "id": "4907d7a152cc2933"
  },
  {
   "cell_type": "markdown",
   "source": [
    "13. Створіть дві матриці розміром 2x2, заповніть їх випадковими цілими числами в діапазоні від 1 до 10 та знайдіть їх добуток."
   ],
   "metadata": {
    "collapsed": false
   },
   "id": "48cd1e8e9b1112ac"
  },
  {
   "cell_type": "code",
   "execution_count": null,
   "outputs": [],
   "source": [
    "matrix1 = np.random.randint(1, 11, size=(2, 2))\n",
    "matrix2 = np.random.randint(1, 11, size=(2, 2))\n",
    "result = np.dot(matrix1, matrix2)\n",
    "\n",
    "print(f\"Перша матриця 2x2:\\n{matrix1}\")\n",
    "print(f\"Друга матриця 2x2:\\n{matrix2}\")\n",
    "print(f\"Результат добутку матриць:\\n{result}\")"
   ],
   "metadata": {
    "collapsed": false
   },
   "id": "6f51716d5da7eaec"
  },
  {
   "cell_type": "markdown",
   "source": [
    "14. Створіть матрицю розміром 5x5, заповніть її випадковими цілими числами в діапазоні від 1 до 100 та знайдіть суму елементів матриці."
   ],
   "metadata": {
    "collapsed": false
   },
   "id": "b07e0dcaa25b395d"
  },
  {
   "cell_type": "code",
   "execution_count": null,
   "outputs": [],
   "source": [
    "matrix = np.random.randint(1, 101, size=(5, 5))\n",
    "sum_of_elements = np.sum(matrix)\n",
    "\n",
    "print(f\"Матриця 5x5:\\n{matrix}\")\n",
    "print(f\"Сума елементів матриці: {sum_of_elements}\")"
   ],
   "metadata": {
    "collapsed": false
   },
   "id": "7e9c6633803d6f11"
  },
  {
   "cell_type": "markdown",
   "source": [
    "15. Створіть дві матриці розміром 4x4, заповніть їх випадковими цілими числами в діапазоні від 1 до 10 та знайдіть їхню різницю."
   ],
   "metadata": {
    "collapsed": false
   },
   "id": "516299719e2412e5"
  },
  {
   "cell_type": "code",
   "execution_count": null,
   "outputs": [],
   "source": [
    "matrix1 = np.random.randint(1, 11, size=(4, 4))\n",
    "matrix2 = np.random.randint(1, 11, size=(4, 4))\n",
    "difference = matrix1 - matrix2\n",
    "\n",
    "print(f\"Перша матриця 4x4:\\n{matrix1}\")\n",
    "print(f\"Друга матриця 4x4:\\n{matrix2}\")\n",
    "print(f\"Різниця матриць:\\n{difference}\")"
   ],
   "metadata": {
    "collapsed": false
   },
   "id": "ecddbaa2f65cc188"
  },
  {
   "cell_type": "markdown",
   "source": [
    "16. Створіть матрицю розміром 3x3, заповніть її випадковими дійсними числами в діапазоні від 0 до 1 та знайдіть вектор-стовпчик, що містить суму елементів кожного рядка матриці."
   ],
   "metadata": {
    "collapsed": false
   },
   "id": "c28c1028ed3c44f"
  },
  {
   "cell_type": "code",
   "execution_count": 20,
   "outputs": [
    {
     "name": "stdout",
     "output_type": "stream",
     "text": [
      "Матриця 3x3:\n",
      "[[0.86147951 0.72134098 0.96911195]\n",
      " [0.09317163 0.50129666 0.55804794]\n",
      " [0.57669505 0.51234038 0.50155641]]\n",
      "Вектор-стовпчик із сумами рядків:\n",
      "[[2.55193244]\n",
      " [1.15251623]\n",
      " [1.59059183]]\n"
     ]
    }
   ],
   "source": [
    "matrix = np.random.rand(3, 3)\n",
    "row_sums = np.sum(matrix, axis=1)\n",
    "sum_vector = row_sums.reshape(-1, 1)\n",
    "\n",
    "print(f\"Матриця 3x3:\\n{matrix}\")\n",
    "print(f\"Вектор-стовпчик із сумами рядків:\\n{sum_vector}\")"
   ],
   "metadata": {
    "collapsed": false,
    "ExecuteTime": {
     "end_time": "2023-09-23T11:17:24.228648500Z",
     "start_time": "2023-09-23T11:17:24.222464900Z"
    }
   },
   "id": "6629718731142439"
  },
  {
   "cell_type": "markdown",
   "source": [
    "17. Створіть матрицю розміром 3x4 з довільними цілими числами і створінь матрицю з квадратами цих чисел."
   ],
   "metadata": {
    "collapsed": false
   },
   "id": "b3e465cf1a60de41"
  },
  {
   "cell_type": "code",
   "execution_count": null,
   "outputs": [],
   "source": [
    "matrix = np.random.randint(-100, 100, size=(3, 4))\n",
    "squared_matrix = matrix ** 2\n",
    "\n",
    "print(f\"Початкова матриця 3x4:\\n{matrix}\")\n",
    "print(f\"Матриця з квадратами чисел:\\n{squared_matrix}\")"
   ],
   "metadata": {
    "collapsed": false
   },
   "id": "d714c3cf0a1c1749"
  },
  {
   "cell_type": "markdown",
   "source": [
    "18. Створіть вектор розміром 4, заповніть його випадковими цілими числами в діапазоні від 1 до 50 та знайдіть вектор з квадратними коренями цих чисел."
   ],
   "metadata": {
    "collapsed": false
   },
   "id": "990c75e848050aa0"
  },
  {
   "cell_type": "code",
   "execution_count": null,
   "outputs": [],
   "source": [
    "vector = np.random.randint(1, 51, size=4)\n",
    "sqrt_vector = np.sqrt(vector)\n",
    "\n",
    "print(f\"Початковий вектор розміром 4:\\n{vector}\")\n",
    "print(f\"Вектор з квадратними коренями:\\n{sqrt_vector}\")"
   ],
   "metadata": {
    "collapsed": false
   },
   "id": "b67d43a4b8496e32"
  },
  {
   "cell_type": "code",
   "execution_count": null,
   "outputs": [],
   "source": [],
   "metadata": {
    "collapsed": false
   },
   "id": "a224a2c9c6f08833"
  }
 ],
 "metadata": {
  "kernelspec": {
   "display_name": "Python 3",
   "language": "python",
   "name": "python3"
  },
  "language_info": {
   "codemirror_mode": {
    "name": "ipython",
    "version": 2
   },
   "file_extension": ".py",
   "mimetype": "text/x-python",
   "name": "python",
   "nbconvert_exporter": "python",
   "pygments_lexer": "ipython2",
   "version": "2.7.6"
  }
 },
 "nbformat": 4,
 "nbformat_minor": 5
}
