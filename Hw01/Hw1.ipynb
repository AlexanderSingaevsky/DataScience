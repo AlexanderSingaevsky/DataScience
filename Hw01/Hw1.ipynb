{
 "cells": [
  {
   "cell_type": "markdown",
   "source": [
    "Homework 1"
   ],
   "metadata": {
    "collapsed": false
   },
   "id": "af70c178bb015e3d"
  },
  {
   "cell_type": "code",
   "execution_count": 20,
   "outputs": [],
   "source": [
    "import numpy as np"
   ],
   "metadata": {
    "collapsed": false,
    "ExecuteTime": {
     "end_time": "2023-09-23T11:26:32.589222400Z",
     "start_time": "2023-09-23T11:26:32.389781Z"
    }
   },
   "id": "5667ca347a05a39d"
  },
  {
   "cell_type": "markdown",
   "source": [
    "1. Створіть одновимірний масив (вектор) з першими 10-ма натуральними числами та виведіть його значення."
   ],
   "metadata": {
    "collapsed": false
   },
   "id": "bf957eb9b7bf7072"
  },
  {
   "cell_type": "code",
   "execution_count": 21,
   "outputs": [
    {
     "name": "stdout",
     "output_type": "stream",
     "text": [
      "[ 1  2  3  4  5  6  7  8  9 10]\n"
     ]
    }
   ],
   "source": [
    "natural_numbers_vector = np.arange(1, 11)\n",
    "print(natural_numbers_vector)"
   ],
   "metadata": {
    "collapsed": false,
    "ExecuteTime": {
     "end_time": "2023-09-23T11:26:32.742289900Z",
     "start_time": "2023-09-23T11:26:32.410419400Z"
    }
   },
   "id": "8ea7357287dd659"
  },
  {
   "cell_type": "markdown",
   "source": [
    "2. Створіть двовимірний масив (матрицю) розміром 3x3, заповніть його нулями та виведіть його значення."
   ],
   "metadata": {
    "collapsed": false
   },
   "id": "4f31de08f93fa97"
  },
  {
   "cell_type": "code",
   "execution_count": 22,
   "outputs": [
    {
     "name": "stdout",
     "output_type": "stream",
     "text": [
      "[[0. 0. 0.]\n",
      " [0. 0. 0.]\n",
      " [0. 0. 0.]]\n"
     ]
    }
   ],
   "source": [
    "zero_matrix = np.zeros((3, 3))\n",
    "print(zero_matrix)"
   ],
   "metadata": {
    "collapsed": false,
    "ExecuteTime": {
     "end_time": "2023-09-23T11:26:32.762222200Z",
     "start_time": "2023-09-23T11:26:32.417934Z"
    }
   },
   "id": "613e87816fb4186a"
  },
  {
   "cell_type": "markdown",
   "source": [
    "3. Створіть масив розміром 5x5, заповніть його випадковими цілими числами в діапазоні від 1 до 10 та виведіть його значення."
   ],
   "metadata": {
    "collapsed": false
   },
   "id": "83f8fa277fc4bc34"
  },
  {
   "cell_type": "code",
   "execution_count": 23,
   "outputs": [
    {
     "name": "stdout",
     "output_type": "stream",
     "text": [
      "[[ 7  2  5  6  9]\n",
      " [ 8  6 10 10  8]\n",
      " [10  5 10  4 10]\n",
      " [ 6  8  4  4 10]\n",
      " [10  6  6  3  2]]\n"
     ]
    }
   ],
   "source": [
    "random_matrix = np.random.randint(1, 11, size=(5, 5))\n",
    "print(random_matrix)"
   ],
   "metadata": {
    "collapsed": false,
    "ExecuteTime": {
     "end_time": "2023-09-23T11:26:32.765221500Z",
     "start_time": "2023-09-23T11:26:32.429752700Z"
    }
   },
   "id": "73f67b94d6f98d22"
  },
  {
   "cell_type": "markdown",
   "source": [
    "4. Створіть масив розміром 4x4, заповніть його випадковими дійсними числами в діапазоні від 0 до 1 та виведіть його значення."
   ],
   "metadata": {
    "collapsed": false
   },
   "id": "1b20eb2ee1a06f50"
  },
  {
   "cell_type": "code",
   "execution_count": 24,
   "outputs": [
    {
     "name": "stdout",
     "output_type": "stream",
     "text": [
      "[[0.51291165 0.20418887 0.48095695 0.80343028]\n",
      " [0.69517957 0.17871181 0.77999471 0.58520184]\n",
      " [0.86943956 0.8016991  0.67396202 0.5070811 ]\n",
      " [0.03506507 0.52804649 0.12384322 0.16800903]]\n"
     ]
    }
   ],
   "source": [
    "matrix = np.random.rand(4, 4)\n",
    "print(matrix)"
   ],
   "metadata": {
    "collapsed": false,
    "ExecuteTime": {
     "end_time": "2023-09-23T11:26:32.781288100Z",
     "start_time": "2023-09-23T11:26:32.438268500Z"
    }
   },
   "id": "50469ea741e3ddb8"
  },
  {
   "cell_type": "markdown",
   "source": [
    "5. Створіть два одновимірних масиви розміром 5, заповніть їх випадковими цілими числами в діапазоні від 1 до 10 та виконайте на них поелементні операції додавання, віднімання та множення."
   ],
   "metadata": {
    "collapsed": false
   },
   "id": "8e598d2dff485bf1"
  },
  {
   "cell_type": "code",
   "execution_count": 25,
   "outputs": [
    {
     "name": "stdout",
     "output_type": "stream",
     "text": [
      "Вектор 1: [ 3 10  3  1  8]\n",
      "Вектор 2: [4 3 1 1 4]\n",
      "Результат додавання: [ 7 13  4  2 12]\n",
      "Результат віднімання: [-1  7  2  0  4]\n",
      "Результат множення: [12 30  3  1 32]\n"
     ]
    }
   ],
   "source": [
    "vector1 = np.random.randint(1, 11, size=5)\n",
    "vector2 = np.random.randint(1, 11, size=5)\n",
    "\n",
    "add_result = vector1 + vector2\n",
    "sub_result = vector1 - vector2\n",
    "mul_result = vector1 * vector2\n",
    "\n",
    "print(\"Вектор 1:\", vector1)\n",
    "print(\"Вектор 2:\", vector2)\n",
    "print(\"Результат додавання:\", add_result)\n",
    "print(\"Результат віднімання:\", sub_result)\n",
    "print(\"Результат множення:\", mul_result)"
   ],
   "metadata": {
    "collapsed": false,
    "ExecuteTime": {
     "end_time": "2023-09-23T11:26:32.786275Z",
     "start_time": "2023-09-23T11:26:32.448934600Z"
    }
   },
   "id": "8e0545f703ea2b9d"
  },
  {
   "cell_type": "markdown",
   "source": [
    "6. Створіть два вектори розміром 7, заповніть довільними числами та знайдіть їх скалярний добуток."
   ],
   "metadata": {
    "collapsed": false
   },
   "id": "b1b1dcec19b4ace7"
  },
  {
   "cell_type": "code",
   "execution_count": 26,
   "outputs": [
    {
     "name": "stdout",
     "output_type": "stream",
     "text": [
      "Вектор 1: [0.41918141 0.78817507 0.48177244 0.05827395 0.70873494 0.29622405\n",
      " 0.84549169]\n",
      "Вектор 2: [0.2040247  0.31632887 0.2391846  0.90760706 0.24362719 0.75531862\n",
      " 0.69310424]\n",
      "Скалярний добуток: 1.4853928054873662\n"
     ]
    }
   ],
   "source": [
    "vector1 = np.random.rand(7)\n",
    "vector2 = np.random.rand(7)\n",
    "dot_product = np.dot(vector1, vector2)\n",
    "\n",
    "print(\"Вектор 1:\", vector1)\n",
    "print(\"Вектор 2:\", vector2)\n",
    "print(\"Скалярний добуток:\", dot_product)"
   ],
   "metadata": {
    "collapsed": false,
    "ExecuteTime": {
     "end_time": "2023-09-23T11:26:32.789222600Z",
     "start_time": "2023-09-23T11:26:32.458063200Z"
    }
   },
   "id": "3c3858bbad5410cb"
  },
  {
   "cell_type": "markdown",
   "source": [
    "7. Створіть дві матриці розміром 2x2 та 2x3, заповніть їх випадковими цілими числами в діапазоні від 1 до 10 та перемножте їх між собою."
   ],
   "metadata": {
    "collapsed": false
   },
   "id": "6446bc0809cbac50"
  },
  {
   "cell_type": "code",
   "execution_count": 27,
   "outputs": [
    {
     "name": "stdout",
     "output_type": "stream",
     "text": [
      "Перша матриця:\n",
      "[[10  8]\n",
      " [ 5  1]]\n",
      "Друга матриця:\n",
      "[[ 2 10  9]\n",
      " [10 10  5]]\n",
      "Результат множення матриць:\n",
      "[[100 180 130]\n",
      " [ 20  60  50]]\n"
     ]
    }
   ],
   "source": [
    "matrix1 = np.random.randint(1, 11, size=(2, 2))\n",
    "matrix2 = np.random.randint(1, 11, size=(2, 3))\n",
    "\n",
    "result = np.dot(matrix1, matrix2)\n",
    "\n",
    "print(f\"Перша матриця:\\n{matrix1}\")\n",
    "print(f\"Друга матриця:\\n{matrix2}\")\n",
    "print(f\"Результат множення матриць:\\n{result}\")"
   ],
   "metadata": {
    "collapsed": false,
    "ExecuteTime": {
     "end_time": "2023-09-23T11:26:32.804224Z",
     "start_time": "2023-09-23T11:26:32.468011300Z"
    }
   },
   "id": "cbb72b382f7ea09f"
  },
  {
   "cell_type": "markdown",
   "source": [
    "8. Створіть матрицю розміром 3x3, заповніть її випадковими цілими числами в діапазоні від 1 до 10 та знайдіть її обернену матрицю."
   ],
   "metadata": {
    "collapsed": false
   },
   "id": "d22889973094e6de"
  },
  {
   "cell_type": "code",
   "execution_count": 28,
   "outputs": [
    {
     "name": "stdout",
     "output_type": "stream",
     "text": [
      "Матриця:\n",
      "[[ 3  2  8]\n",
      " [ 6  8  3]\n",
      " [ 1  4 10]]\n",
      "Обернена матриця:\n",
      "[[ 0.31192661  0.05504587 -0.26605505]\n",
      " [-0.26146789  0.10091743  0.17889908]\n",
      " [ 0.0733945  -0.04587156  0.05504587]]\n"
     ]
    }
   ],
   "source": [
    "matrix = np.random.randint(1, 11, size=(3, 3))\n",
    "inverse_matrix = np.linalg.inv(matrix)\n",
    "\n",
    "print(f\"Матриця:\\n{matrix}\")\n",
    "print(f\"Обернена матриця:\\n{inverse_matrix}\")"
   ],
   "metadata": {
    "collapsed": false,
    "ExecuteTime": {
     "end_time": "2023-09-23T11:26:32.808257600Z",
     "start_time": "2023-09-23T11:26:32.477000100Z"
    }
   },
   "id": "7cd768307c8f04aa"
  },
  {
   "cell_type": "markdown",
   "source": [
    "9. Створіть матрицю розміром 4x4, заповніть її випадковими дійсними числами в діапазоні від 0 до 1 та транспонуйте її."
   ],
   "metadata": {
    "collapsed": false
   },
   "id": "2f871f7c04839826"
  },
  {
   "cell_type": "code",
   "execution_count": 29,
   "outputs": [
    {
     "name": "stdout",
     "output_type": "stream",
     "text": [
      "Початкова матриця:\n",
      "[[0.93387076 0.53546467 0.57334718 0.04739875]\n",
      " [0.41599215 0.60604814 0.06135962 0.44735597]\n",
      " [0.3602538  0.51395139 0.48207495 0.74162905]\n",
      " [0.20631863 0.98149059 0.27362625 0.71028744]]\n",
      "Транспонована матриця:\n",
      "[[0.93387076 0.41599215 0.3602538  0.20631863]\n",
      " [0.53546467 0.60604814 0.51395139 0.98149059]\n",
      " [0.57334718 0.06135962 0.48207495 0.27362625]\n",
      " [0.04739875 0.44735597 0.74162905 0.71028744]]\n"
     ]
    }
   ],
   "source": [
    "matrix = np.random.rand(4, 4)\n",
    "transposed_matrix = np.transpose(matrix)\n",
    "\n",
    "print(f\"Початкова матриця:\\n{matrix}\")\n",
    "print(f\"Транспонована матриця:\\n{transposed_matrix}\")"
   ],
   "metadata": {
    "collapsed": false,
    "ExecuteTime": {
     "end_time": "2023-09-23T11:26:32.827222800Z",
     "start_time": "2023-09-23T11:26:32.485962900Z"
    }
   },
   "id": "94b606da9ed25902"
  },
  {
   "cell_type": "markdown",
   "source": [
    "10. Створіть матрицю розміром 3x4 та вектор розміром 4, заповніть їх випадковими цілими числами в діапазоні від 1 до 10 та перемножте матрицю на вектор."
   ],
   "metadata": {
    "collapsed": false
   },
   "id": "c7feaa83b0581956"
  },
  {
   "cell_type": "code",
   "execution_count": 30,
   "outputs": [
    {
     "name": "stdout",
     "output_type": "stream",
     "text": [
      "Матриця 3x4:\n",
      "[[ 3  6  9  5]\n",
      " [ 6  7  7  3]\n",
      " [ 7 10  8  9]]\n",
      "Вектор 4:\n",
      "[ 9 10  4  5]\n",
      "Результат множення:\n",
      "[148 167 240]\n"
     ]
    }
   ],
   "source": [
    "matrix = np.random.randint(1, 11, size=(3, 4))\n",
    "vector = np.random.randint(1, 11, size=4)\n",
    "result = np.dot(matrix, vector)\n",
    "\n",
    "print(f\"Матриця 3x4:\\n{matrix}\")\n",
    "print(f\"Вектор 4:\\n{vector}\")\n",
    "print(f\"Результат множення:\\n{result}\")"
   ],
   "metadata": {
    "collapsed": false,
    "ExecuteTime": {
     "end_time": "2023-09-23T11:26:32.831222500Z",
     "start_time": "2023-09-23T11:26:32.494485400Z"
    }
   },
   "id": "60b8cdae93fa799"
  },
  {
   "cell_type": "markdown",
   "source": [
    "11. Створіть матрицю розміром 2x3 та вектор розміром 3, заповніть їх випадковими дійсними числами в діапазоні від 0 до 1 та перемножте матрицю на вектор."
   ],
   "metadata": {
    "collapsed": false
   },
   "id": "13268b5df121289"
  },
  {
   "cell_type": "code",
   "execution_count": 31,
   "outputs": [
    {
     "name": "stdout",
     "output_type": "stream",
     "text": [
      "Матриця 2x3:\n",
      "[[0.57459206 0.91765908 0.91049725]\n",
      " [0.59955919 0.24793159 0.16868025]]\n",
      "Вектор 3:\n",
      "[0.4965329  0.38122659 0.73074808]\n",
      "Результат множення:\n",
      "[1.30048401 0.51548175]\n"
     ]
    }
   ],
   "source": [
    "matrix = np.random.rand(2, 3)\n",
    "vector = np.random.rand(3)\n",
    "result = np.dot(matrix, vector)\n",
    "\n",
    "print(f\"Матриця 2x3:\\n{matrix}\")\n",
    "print(f\"Вектор 3:\\n{vector}\")\n",
    "print(f\"Результат множення:\\n{result}\")"
   ],
   "metadata": {
    "collapsed": false,
    "ExecuteTime": {
     "end_time": "2023-09-23T11:26:32.836223Z",
     "start_time": "2023-09-23T11:26:32.502472900Z"
    }
   },
   "id": "ff92ca54d05079c6"
  },
  {
   "cell_type": "markdown",
   "source": [
    "12. Створіть дві матриці розміром 2x2, заповніть їх випадковими цілими числами в діапазоні від 1 до 10 та виконайте їхнє поелементне множення."
   ],
   "metadata": {
    "collapsed": false
   },
   "id": "fc0a0a7519892059"
  },
  {
   "cell_type": "code",
   "execution_count": 32,
   "outputs": [
    {
     "name": "stdout",
     "output_type": "stream",
     "text": [
      "Перша матриця 2x2:\n",
      "[[1 7]\n",
      " [9 3]]\n",
      "Друга матриця 2x2:\n",
      "[[7 5]\n",
      " [1 2]]\n",
      "Результат поелементного множення:\n",
      "[[ 7 35]\n",
      " [ 9  6]]\n"
     ]
    }
   ],
   "source": [
    "matrix1 = np.random.randint(1, 11, size=(2, 2))\n",
    "matrix2 = np.random.randint(1, 11, size=(2, 2))\n",
    "result = matrix1 * matrix2\n",
    "\n",
    "print(f\"Перша матриця 2x2:\\n{matrix1}\")\n",
    "print(f\"Друга матриця 2x2:\\n{matrix2}\")\n",
    "print(f\"Результат поелементного множення:\\n{result}\")"
   ],
   "metadata": {
    "collapsed": false,
    "ExecuteTime": {
     "end_time": "2023-09-23T11:26:32.852222500Z",
     "start_time": "2023-09-23T11:26:32.512702600Z"
    }
   },
   "id": "4907d7a152cc2933"
  },
  {
   "cell_type": "markdown",
   "source": [
    "13. Створіть дві матриці розміром 2x2, заповніть їх випадковими цілими числами в діапазоні від 1 до 10 та знайдіть їх добуток."
   ],
   "metadata": {
    "collapsed": false
   },
   "id": "48cd1e8e9b1112ac"
  },
  {
   "cell_type": "code",
   "execution_count": 33,
   "outputs": [
    {
     "name": "stdout",
     "output_type": "stream",
     "text": [
      "Перша матриця 2x2:\n",
      "[[3 5]\n",
      " [7 7]]\n",
      "Друга матриця 2x2:\n",
      "[[4 8]\n",
      " [4 4]]\n",
      "Результат добутку матриць:\n",
      "[[32 44]\n",
      " [56 84]]\n"
     ]
    }
   ],
   "source": [
    "matrix1 = np.random.randint(1, 11, size=(2, 2))\n",
    "matrix2 = np.random.randint(1, 11, size=(2, 2))\n",
    "result = np.dot(matrix1, matrix2)\n",
    "\n",
    "print(f\"Перша матриця 2x2:\\n{matrix1}\")\n",
    "print(f\"Друга матриця 2x2:\\n{matrix2}\")\n",
    "print(f\"Результат добутку матриць:\\n{result}\")"
   ],
   "metadata": {
    "collapsed": false,
    "ExecuteTime": {
     "end_time": "2023-09-23T11:26:32.856222800Z",
     "start_time": "2023-09-23T11:26:32.521026400Z"
    }
   },
   "id": "6f51716d5da7eaec"
  },
  {
   "cell_type": "markdown",
   "source": [
    "14. Створіть матрицю розміром 5x5, заповніть її випадковими цілими числами в діапазоні від 1 до 100 та знайдіть суму елементів матриці."
   ],
   "metadata": {
    "collapsed": false
   },
   "id": "b07e0dcaa25b395d"
  },
  {
   "cell_type": "code",
   "execution_count": 34,
   "outputs": [
    {
     "name": "stdout",
     "output_type": "stream",
     "text": [
      "Матриця 5x5:\n",
      "[[94 94 48 27 36]\n",
      " [21 58  3 97 74]\n",
      " [51 80 53 62 46]\n",
      " [10 26 83 91  9]\n",
      " [61 80 57 55 55]]\n",
      "Сума елементів матриці: 1371\n"
     ]
    }
   ],
   "source": [
    "matrix = np.random.randint(1, 101, size=(5, 5))\n",
    "sum_of_elements = np.sum(matrix)\n",
    "\n",
    "print(f\"Матриця 5x5:\\n{matrix}\")\n",
    "print(f\"Сума елементів матриці: {sum_of_elements}\")"
   ],
   "metadata": {
    "collapsed": false,
    "ExecuteTime": {
     "end_time": "2023-09-23T11:26:32.860222200Z",
     "start_time": "2023-09-23T11:26:32.528786300Z"
    }
   },
   "id": "7e9c6633803d6f11"
  },
  {
   "cell_type": "markdown",
   "source": [
    "15. Створіть дві матриці розміром 4x4, заповніть їх випадковими цілими числами в діапазоні від 1 до 10 та знайдіть їхню різницю."
   ],
   "metadata": {
    "collapsed": false
   },
   "id": "516299719e2412e5"
  },
  {
   "cell_type": "code",
   "execution_count": 35,
   "outputs": [
    {
     "name": "stdout",
     "output_type": "stream",
     "text": [
      "Перша матриця 4x4:\n",
      "[[ 2  6  4  2]\n",
      " [ 4  5  7  4]\n",
      " [ 7  7  6  4]\n",
      " [ 6 10 10  2]]\n",
      "Друга матриця 4x4:\n",
      "[[2 5 3 2]\n",
      " [1 1 6 3]\n",
      " [6 9 5 9]\n",
      " [3 6 5 3]]\n",
      "Різниця матриць:\n",
      "[[ 0  1  1  0]\n",
      " [ 3  4  1  1]\n",
      " [ 1 -2  1 -5]\n",
      " [ 3  4  5 -1]]\n"
     ]
    }
   ],
   "source": [
    "matrix1 = np.random.randint(1, 11, size=(4, 4))\n",
    "matrix2 = np.random.randint(1, 11, size=(4, 4))\n",
    "difference = matrix1 - matrix2\n",
    "\n",
    "print(f\"Перша матриця 4x4:\\n{matrix1}\")\n",
    "print(f\"Друга матриця 4x4:\\n{matrix2}\")\n",
    "print(f\"Різниця матриць:\\n{difference}\")"
   ],
   "metadata": {
    "collapsed": false,
    "ExecuteTime": {
     "end_time": "2023-09-23T11:26:32.877222700Z",
     "start_time": "2023-09-23T11:26:32.538369800Z"
    }
   },
   "id": "ecddbaa2f65cc188"
  },
  {
   "cell_type": "markdown",
   "source": [
    "16. Створіть матрицю розміром 3x3, заповніть її випадковими дійсними числами в діапазоні від 0 до 1 та знайдіть вектор-стовпчик, що містить суму елементів кожного рядка матриці."
   ],
   "metadata": {
    "collapsed": false
   },
   "id": "c28c1028ed3c44f"
  },
  {
   "cell_type": "code",
   "execution_count": 36,
   "outputs": [
    {
     "name": "stdout",
     "output_type": "stream",
     "text": [
      "Матриця 3x3:\n",
      "[[0.19387437 0.13302838 0.86970028]\n",
      " [0.20969717 0.02317213 0.28276705]\n",
      " [0.03798931 0.64712595 0.90269806]]\n",
      "Вектор-стовпчик із сумами рядків:\n",
      "[[1.19660303]\n",
      " [0.51563634]\n",
      " [1.58781331]]\n"
     ]
    }
   ],
   "source": [
    "matrix = np.random.rand(3, 3)\n",
    "row_sums = np.sum(matrix, axis=1)\n",
    "sum_vector = row_sums.reshape(-1, 1)\n",
    "\n",
    "print(f\"Матриця 3x3:\\n{matrix}\")\n",
    "print(f\"Вектор-стовпчик із сумами рядків:\\n{sum_vector}\")"
   ],
   "metadata": {
    "collapsed": false,
    "ExecuteTime": {
     "end_time": "2023-09-23T11:26:32.881222Z",
     "start_time": "2023-09-23T11:26:32.546299700Z"
    }
   },
   "id": "6629718731142439"
  },
  {
   "cell_type": "markdown",
   "source": [
    "17. Створіть матрицю розміром 3x4 з довільними цілими числами і створінь матрицю з квадратами цих чисел."
   ],
   "metadata": {
    "collapsed": false
   },
   "id": "b3e465cf1a60de41"
  },
  {
   "cell_type": "code",
   "execution_count": 37,
   "outputs": [
    {
     "name": "stdout",
     "output_type": "stream",
     "text": [
      "Початкова матриця 3x4:\n",
      "[[ 45  71  15 -91]\n",
      " [-36 -80 -90 -56]\n",
      " [ -6  38 -23   4]]\n",
      "Матриця з квадратами чисел:\n",
      "[[2025 5041  225 8281]\n",
      " [1296 6400 8100 3136]\n",
      " [  36 1444  529   16]]\n"
     ]
    }
   ],
   "source": [
    "matrix = np.random.randint(-100, 100, size=(3, 4))\n",
    "squared_matrix = matrix ** 2\n",
    "\n",
    "print(f\"Початкова матриця 3x4:\\n{matrix}\")\n",
    "print(f\"Матриця з квадратами чисел:\\n{squared_matrix}\")"
   ],
   "metadata": {
    "collapsed": false,
    "ExecuteTime": {
     "end_time": "2023-09-23T11:26:32.901221800Z",
     "start_time": "2023-09-23T11:26:32.553945100Z"
    }
   },
   "id": "d714c3cf0a1c1749"
  },
  {
   "cell_type": "markdown",
   "source": [
    "18. Створіть вектор розміром 4, заповніть його випадковими цілими числами в діапазоні від 1 до 50 та знайдіть вектор з квадратними коренями цих чисел."
   ],
   "metadata": {
    "collapsed": false
   },
   "id": "990c75e848050aa0"
  },
  {
   "cell_type": "code",
   "execution_count": 38,
   "outputs": [
    {
     "name": "stdout",
     "output_type": "stream",
     "text": [
      "Початковий вектор розміром 4:\n",
      "[18 41 33 10]\n",
      "Вектор з квадратними коренями:\n",
      "[4.24264069 6.40312424 5.74456265 3.16227766]\n"
     ]
    }
   ],
   "source": [
    "vector = np.random.randint(1, 51, size=4)\n",
    "sqrt_vector = np.sqrt(vector)\n",
    "\n",
    "print(f\"Початковий вектор розміром 4:\\n{vector}\")\n",
    "print(f\"Вектор з квадратними коренями:\\n{sqrt_vector}\")"
   ],
   "metadata": {
    "collapsed": false,
    "ExecuteTime": {
     "end_time": "2023-09-23T11:26:32.911221300Z",
     "start_time": "2023-09-23T11:26:32.563673900Z"
    }
   },
   "id": "b67d43a4b8496e32"
  },
  {
   "cell_type": "code",
   "execution_count": 38,
   "outputs": [],
   "source": [],
   "metadata": {
    "collapsed": false,
    "ExecuteTime": {
     "end_time": "2023-09-23T11:26:32.911221300Z",
     "start_time": "2023-09-23T11:26:32.570214100Z"
    }
   },
   "id": "a224a2c9c6f08833"
  }
 ],
 "metadata": {
  "kernelspec": {
   "display_name": "Python 3",
   "language": "python",
   "name": "python3"
  },
  "language_info": {
   "codemirror_mode": {
    "name": "ipython",
    "version": 2
   },
   "file_extension": ".py",
   "mimetype": "text/x-python",
   "name": "python",
   "nbconvert_exporter": "python",
   "pygments_lexer": "ipython2",
   "version": "2.7.6"
  }
 },
 "nbformat": 4,
 "nbformat_minor": 5
}
