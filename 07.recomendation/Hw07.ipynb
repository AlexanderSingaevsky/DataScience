{
 "cells": [
  {
   "cell_type": "code",
   "execution_count": 1,
   "outputs": [],
   "source": [
    "from surprise import Dataset, SVD, SVDpp, NMF\n",
    "from surprise.model_selection import cross_validate, GridSearchCV"
   ],
   "metadata": {
    "collapsed": false,
    "ExecuteTime": {
     "end_time": "2023-12-11T12:51:08.423122100Z",
     "start_time": "2023-12-11T12:51:08.099360100Z"
    }
   },
   "id": "90f0ab968c754e8b"
  },
  {
   "cell_type": "code",
   "execution_count": 2,
   "outputs": [],
   "source": [
    "data = Dataset.load_builtin('ml-100k')"
   ],
   "metadata": {
    "collapsed": false,
    "ExecuteTime": {
     "end_time": "2023-12-11T12:51:08.760376600Z",
     "start_time": "2023-12-11T12:51:08.423122100Z"
    }
   },
   "id": "585b32e31d59c679"
  },
  {
   "cell_type": "code",
   "execution_count": 3,
   "outputs": [],
   "source": [
    "param_grid_svd = {\n",
    "    'n_epochs': [5, 10, 20],\n",
    "    'lr_all': [0.002, 0.005],\n",
    "    'reg_all': [0.4, 0.6] \n",
    "}"
   ],
   "metadata": {
    "collapsed": false,
    "ExecuteTime": {
     "end_time": "2023-12-11T12:51:08.761376400Z",
     "start_time": "2023-12-11T12:51:08.758862600Z"
    }
   },
   "id": "f17975697a6892f8"
  },
  {
   "cell_type": "code",
   "execution_count": 4,
   "outputs": [],
   "source": [
    "param_grid_nmf = {\n",
    "    'n_factors': [15, 20],\n",
    "    'n_epochs': [50, 70],\n",
    "    'reg_pu': [0.06, 0.08],\n",
    "    'reg_qi': [0.06, 0.08]\n",
    "}"
   ],
   "metadata": {
    "collapsed": false,
    "ExecuteTime": {
     "end_time": "2023-12-11T12:51:08.773686700Z",
     "start_time": "2023-12-11T12:51:08.765378Z"
    }
   },
   "id": "1e37fd30cafdcd9d"
  },
  {
   "cell_type": "code",
   "execution_count": 5,
   "outputs": [],
   "source": [
    "gs_svd = GridSearchCV(SVD, param_grid_svd, measures=['rmse'], cv=3, n_jobs=-1)\n",
    "gs_nmf = GridSearchCV(NMF, param_grid_nmf, measures=['rmse'], cv=3,  n_jobs=-1)"
   ],
   "metadata": {
    "collapsed": false,
    "ExecuteTime": {
     "end_time": "2023-12-11T12:51:08.773686700Z",
     "start_time": "2023-12-11T12:51:08.773169100Z"
    }
   },
   "id": "c2949430af3f7c5d"
  },
  {
   "cell_type": "code",
   "execution_count": 6,
   "outputs": [
    {
     "name": "stdout",
     "output_type": "stream",
     "text": [
      "CPU times: total: 4.98 s\n",
      "Wall time: 9.42 s\n"
     ]
    }
   ],
   "source": [
    "%%time\n",
    "gs_svd.fit(data)"
   ],
   "metadata": {
    "collapsed": false,
    "ExecuteTime": {
     "end_time": "2023-12-11T12:51:18.203341500Z",
     "start_time": "2023-12-11T12:51:08.779027500Z"
    }
   },
   "id": "fc262e8fe2929ba6"
  },
  {
   "cell_type": "code",
   "execution_count": 7,
   "outputs": [
    {
     "name": "stdout",
     "output_type": "stream",
     "text": [
      "CPU times: total: 6.73 s\n",
      "Wall time: 16.8 s\n"
     ]
    }
   ],
   "source": [
    "%%time\n",
    "gs_nmf.fit(data)"
   ],
   "metadata": {
    "collapsed": false,
    "ExecuteTime": {
     "end_time": "2023-12-11T12:51:35.013440700Z",
     "start_time": "2023-12-11T12:51:18.205342Z"
    }
   },
   "id": "b1a2639de7481225"
  },
  {
   "cell_type": "code",
   "execution_count": 8,
   "outputs": [
    {
     "name": "stdout",
     "output_type": "stream",
     "text": [
      "Best parameters SVD: {'n_epochs': 20, 'lr_all': 0.005, 'reg_all': 0.4}\n",
      "Best parameters NMF: {'n_factors': 20, 'n_epochs': 70, 'reg_pu': 0.08, 'reg_qi': 0.08}\n"
     ]
    }
   ],
   "source": [
    "best_params_svd = gs_svd.best_params['rmse']\n",
    "best_params_nmf = gs_nmf.best_params['rmse']\n",
    "print(f\"Best parameters SVD: {best_params_svd}\")\n",
    "print(f\"Best parameters NMF: {best_params_nmf}\")"
   ],
   "metadata": {
    "collapsed": false,
    "ExecuteTime": {
     "end_time": "2023-12-11T12:51:35.030695Z",
     "start_time": "2023-12-11T12:51:35.016119200Z"
    }
   },
   "id": "98903c336d771e4d"
  },
  {
   "cell_type": "code",
   "execution_count": 9,
   "outputs": [],
   "source": [
    "model_svd = SVD(**best_params_svd)\n",
    "model_svdpp = SVDpp(**best_params_svd)\n",
    "model_nmf = NMF(**best_params_nmf)"
   ],
   "metadata": {
    "collapsed": false,
    "ExecuteTime": {
     "end_time": "2023-12-11T12:51:35.030695Z",
     "start_time": "2023-12-11T12:51:35.022634500Z"
    }
   },
   "id": "510d368f39ce85c"
  },
  {
   "cell_type": "code",
   "execution_count": 10,
   "outputs": [
    {
     "name": "stdout",
     "output_type": "stream",
     "text": [
      "Evaluating RMSE of algorithm SVD on 5 split(s).\n",
      "\n",
      "                  Fold 1  Fold 2  Fold 3  Fold 4  Fold 5  Mean    Std     \n",
      "RMSE (testset)    0.9626  0.9591  0.9567  0.9465  0.9586  0.9567  0.0054  \n",
      "Fit time          0.93    0.94    0.91    1.04    0.98    0.96    0.05    \n",
      "Test time         0.29    0.36    0.33    0.27    0.26    0.30    0.04    \n",
      "CPU times: total: 1.27 s\n",
      "Wall time: 2.47 s\n"
     ]
    }
   ],
   "source": [
    "%%time\n",
    "cross_validate(model_svd, data, measures=['RMSE'], cv=5,n_jobs=-1,  verbose=True);"
   ],
   "metadata": {
    "collapsed": false,
    "ExecuteTime": {
     "end_time": "2023-12-11T12:51:37.502531300Z",
     "start_time": "2023-12-11T12:51:35.031697600Z"
    }
   },
   "id": "ce55fd1ae51bda81"
  },
  {
   "cell_type": "code",
   "execution_count": 11,
   "outputs": [
    {
     "name": "stdout",
     "output_type": "stream",
     "text": [
      "Evaluating RMSE of algorithm SVDpp on 5 split(s).\n",
      "\n",
      "                  Fold 1  Fold 2  Fold 3  Fold 4  Fold 5  Mean    Std     \n",
      "RMSE (testset)    0.9624  0.9495  0.9655  0.9535  0.9520  0.9566  0.0062  \n",
      "Fit time          39.80   40.10   39.88   40.04   39.68   39.90   0.16    \n",
      "Test time         6.03    6.01    6.03    5.96    5.95    6.00    0.04    \n",
      "CPU times: total: 1.27 s\n",
      "Wall time: 47.1 s\n"
     ]
    }
   ],
   "source": [
    "%%time\n",
    "cross_validate(model_svdpp, data, measures=['RMSE'], cv=5, n_jobs=-1, verbose=True);"
   ],
   "metadata": {
    "collapsed": false,
    "ExecuteTime": {
     "end_time": "2023-12-11T12:52:24.599281100Z",
     "start_time": "2023-12-11T12:51:37.504531600Z"
    }
   },
   "id": "d342a3835330ffb4"
  },
  {
   "cell_type": "code",
   "execution_count": 12,
   "outputs": [
    {
     "name": "stdout",
     "output_type": "stream",
     "text": [
      "Evaluating RMSE of algorithm NMF on 5 split(s).\n",
      "\n",
      "                  Fold 1  Fold 2  Fold 3  Fold 4  Fold 5  Mean    Std     \n",
      "RMSE (testset)    0.9484  0.9524  0.9442  0.9540  0.9383  0.9475  0.0057  \n",
      "Fit time          2.23    2.24    2.22    2.21    2.25    2.23    0.01    \n",
      "Test time         0.22    0.22    0.21    0.22    0.20    0.21    0.01    \n",
      "CPU times: total: 1.45 s\n",
      "Wall time: 3.87 s\n"
     ]
    }
   ],
   "source": [
    "%%time\n",
    "cross_validate(model_nmf, data, measures=['RMSE'], cv=5, n_jobs=-1, verbose=True);"
   ],
   "metadata": {
    "collapsed": false,
    "ExecuteTime": {
     "end_time": "2023-12-11T12:52:28.483180300Z",
     "start_time": "2023-12-11T12:52:24.601280700Z"
    }
   },
   "id": "ba0a1b39755b3b75"
  }
 ],
 "metadata": {
  "kernelspec": {
   "display_name": "Python 3",
   "language": "python",
   "name": "python3"
  },
  "language_info": {
   "codemirror_mode": {
    "name": "ipython",
    "version": 2
   },
   "file_extension": ".py",
   "mimetype": "text/x-python",
   "name": "python",
   "nbconvert_exporter": "python",
   "pygments_lexer": "ipython2",
   "version": "2.7.6"
  }
 },
 "nbformat": 4,
 "nbformat_minor": 5
}
