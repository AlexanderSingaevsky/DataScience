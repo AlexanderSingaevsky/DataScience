{
 "cells": [
  {
   "cell_type": "code",
   "execution_count": 1,
   "outputs": [],
   "source": [
    "from surprise import Dataset, SVD, SVDpp, NMF\n",
    "from surprise.model_selection import cross_validate, GridSearchCV"
   ],
   "metadata": {
    "collapsed": false,
    "ExecuteTime": {
     "end_time": "2023-12-11T13:18:49.094359800Z",
     "start_time": "2023-12-11T13:18:48.777416100Z"
    }
   },
   "id": "90f0ab968c754e8b"
  },
  {
   "cell_type": "code",
   "execution_count": 2,
   "outputs": [],
   "source": [
    "data = Dataset.load_builtin('ml-100k')"
   ],
   "metadata": {
    "collapsed": false,
    "ExecuteTime": {
     "end_time": "2023-12-11T13:18:49.386344400Z",
     "start_time": "2023-12-11T13:18:49.096360200Z"
    }
   },
   "id": "585b32e31d59c679"
  },
  {
   "cell_type": "code",
   "execution_count": 3,
   "outputs": [],
   "source": [
    "param_grid_svd = {\n",
    "    'n_epochs': [5, 10, 20],\n",
    "    'lr_all': [0.002, 0.005],\n",
    "    'reg_all': [0.4, 0.6] \n",
    "}"
   ],
   "metadata": {
    "collapsed": false,
    "ExecuteTime": {
     "end_time": "2023-12-11T13:18:49.401818500Z",
     "start_time": "2023-12-11T13:18:49.389786400Z"
    }
   },
   "id": "f17975697a6892f8"
  },
  {
   "cell_type": "code",
   "execution_count": 4,
   "outputs": [],
   "source": [
    "param_grid_nmf = {\n",
    "    'n_factors': [15, 20],\n",
    "    'n_epochs': [50, 70],\n",
    "    'reg_pu': [0.06, 0.08],\n",
    "    'reg_qi': [0.06, 0.08]\n",
    "}"
   ],
   "metadata": {
    "collapsed": false,
    "ExecuteTime": {
     "end_time": "2023-12-11T13:18:49.401818500Z",
     "start_time": "2023-12-11T13:18:49.397302400Z"
    }
   },
   "id": "1e37fd30cafdcd9d"
  },
  {
   "cell_type": "code",
   "execution_count": 5,
   "outputs": [],
   "source": [
    "gs_svd = GridSearchCV(SVD, param_grid_svd, measures=['rmse'], cv=3, n_jobs=-1)\n",
    "gs_nmf = GridSearchCV(NMF, param_grid_nmf, measures=['rmse'], cv=3,  n_jobs=-1)"
   ],
   "metadata": {
    "collapsed": false,
    "ExecuteTime": {
     "end_time": "2023-12-11T13:18:49.415878500Z",
     "start_time": "2023-12-11T13:18:49.403360300Z"
    }
   },
   "id": "c2949430af3f7c5d"
  },
  {
   "cell_type": "code",
   "execution_count": 6,
   "outputs": [
    {
     "name": "stdout",
     "output_type": "stream",
     "text": [
      "CPU times: total: 4.92 s\n",
      "Wall time: 9.22 s\n"
     ]
    }
   ],
   "source": [
    "%%time\n",
    "gs_svd.fit(data)"
   ],
   "metadata": {
    "collapsed": false,
    "ExecuteTime": {
     "end_time": "2023-12-11T13:18:58.648668300Z",
     "start_time": "2023-12-11T13:18:49.406874400Z"
    }
   },
   "id": "fc262e8fe2929ba6"
  },
  {
   "cell_type": "code",
   "execution_count": 7,
   "outputs": [
    {
     "name": "stdout",
     "output_type": "stream",
     "text": [
      "CPU times: total: 6.56 s\n",
      "Wall time: 19.2 s\n"
     ]
    }
   ],
   "source": [
    "%%time\n",
    "gs_nmf.fit(data)"
   ],
   "metadata": {
    "collapsed": false,
    "ExecuteTime": {
     "end_time": "2023-12-11T13:19:17.836726200Z",
     "start_time": "2023-12-11T13:18:58.643565Z"
    }
   },
   "id": "b1a2639de7481225"
  },
  {
   "cell_type": "code",
   "execution_count": 8,
   "outputs": [
    {
     "name": "stdout",
     "output_type": "stream",
     "text": [
      "Best parameters SVD: {'n_epochs': 20, 'lr_all': 0.005, 'reg_all': 0.4}\n",
      "Best parameters NMF: {'n_factors': 20, 'n_epochs': 70, 'reg_pu': 0.08, 'reg_qi': 0.08}\n"
     ]
    }
   ],
   "source": [
    "best_params_svd = gs_svd.best_params['rmse']\n",
    "best_params_nmf = gs_nmf.best_params['rmse']\n",
    "print(f\"Best parameters SVD: {best_params_svd}\")\n",
    "print(f\"Best parameters NMF: {best_params_nmf}\")"
   ],
   "metadata": {
    "collapsed": false,
    "ExecuteTime": {
     "end_time": "2023-12-11T13:19:17.852860800Z",
     "start_time": "2023-12-11T13:19:17.839702300Z"
    }
   },
   "id": "98903c336d771e4d"
  },
  {
   "cell_type": "code",
   "execution_count": 9,
   "outputs": [],
   "source": [
    "model_svd = SVD(**best_params_svd)\n",
    "model_svdpp = SVDpp(**best_params_svd)\n",
    "model_nmf = NMF(**best_params_nmf)"
   ],
   "metadata": {
    "collapsed": false,
    "ExecuteTime": {
     "end_time": "2023-12-11T13:19:17.852860800Z",
     "start_time": "2023-12-11T13:19:17.845523100Z"
    }
   },
   "id": "510d368f39ce85c"
  },
  {
   "cell_type": "code",
   "execution_count": 10,
   "outputs": [
    {
     "name": "stdout",
     "output_type": "stream",
     "text": [
      "Evaluating RMSE of algorithm SVD on 5 split(s).\n",
      "\n",
      "                  Fold 1  Fold 2  Fold 3  Fold 4  Fold 5  Mean    Std     \n",
      "RMSE (testset)    0.9564  0.9581  0.9627  0.9521  0.9566  0.9572  0.0034  \n",
      "Fit time          0.99    1.04    1.06    1.03    1.02    1.03    0.02    \n",
      "Test time         0.28    0.30    0.29    0.29    0.27    0.29    0.01    \n",
      "CPU times: total: 1.3 s\n",
      "Wall time: 2.63 s\n"
     ]
    }
   ],
   "source": [
    "%%time\n",
    "cross_validate(model_svd, data, measures=['RMSE'], cv=5,n_jobs=-1,  verbose=True);"
   ],
   "metadata": {
    "collapsed": false,
    "ExecuteTime": {
     "end_time": "2023-12-11T13:19:20.487457Z",
     "start_time": "2023-12-11T13:19:17.853860400Z"
    }
   },
   "id": "ce55fd1ae51bda81"
  },
  {
   "cell_type": "code",
   "execution_count": 11,
   "outputs": [
    {
     "name": "stdout",
     "output_type": "stream",
     "text": [
      "Evaluating RMSE of algorithm SVDpp on 5 split(s).\n",
      "\n",
      "                  Fold 1  Fold 2  Fold 3  Fold 4  Fold 5  Mean    Std     \n",
      "RMSE (testset)    0.9516  0.9512  0.9585  0.9634  0.9573  0.9564  0.0045  \n",
      "Fit time          41.99   42.39   42.04   42.14   42.20   42.15   0.14    \n",
      "Test time         5.66    5.54    5.58    5.63    5.47    5.58    0.07    \n",
      "CPU times: total: 1.3 s\n",
      "Wall time: 49 s\n"
     ]
    }
   ],
   "source": [
    "%%time\n",
    "cross_validate(model_svdpp, data, measures=['RMSE'], cv=5, n_jobs=-1, verbose=True);"
   ],
   "metadata": {
    "collapsed": false,
    "ExecuteTime": {
     "end_time": "2023-12-11T13:20:09.534135Z",
     "start_time": "2023-12-11T13:19:20.490444200Z"
    }
   },
   "id": "d342a3835330ffb4"
  },
  {
   "cell_type": "code",
   "execution_count": 12,
   "outputs": [
    {
     "name": "stdout",
     "output_type": "stream",
     "text": [
      "Evaluating RMSE of algorithm NMF on 5 split(s).\n",
      "\n",
      "                  Fold 1  Fold 2  Fold 3  Fold 4  Fold 5  Mean    Std     \n",
      "RMSE (testset)    0.9424  0.9528  0.9451  0.9490  0.9536  0.9486  0.0043  \n",
      "Fit time          2.14    2.22    2.13    2.14    2.10    2.15    0.04    \n",
      "Test time         0.24    0.22    0.23    0.22    0.22    0.22    0.01    \n",
      "CPU times: total: 1.34 s\n",
      "Wall time: 3.61 s\n"
     ]
    }
   ],
   "source": [
    "%%time\n",
    "cross_validate(model_nmf, data, measures=['RMSE'], cv=5, n_jobs=-1, verbose=True);"
   ],
   "metadata": {
    "collapsed": false,
    "ExecuteTime": {
     "end_time": "2023-12-11T13:20:13.157855300Z",
     "start_time": "2023-12-11T13:20:09.535135900Z"
    }
   },
   "id": "ba0a1b39755b3b75"
  },
  {
   "cell_type": "markdown",
   "source": [
    "# Висновок\n",
    "Всі три алгоритми показують низьке стандартне відхилення результатів RMSE (приблизно від 0,0057 до 0,0062), що свідчить про стабільну продуктивність на різних ділянках тесту. NMF та SVD мають відносно схожий і короткий час тестування, близько 0,21 і 0,30 секунди відповідно. SVDpp займає більше часу, середній час тесту становить 6,00 секунд. Таким чином, якщо пріоритетом є точність прогнозування, NMF може бути кращим вибором, за ним слідує SVD. Однак, якщо часова ефективність є критичним фактором, SVD виділяється як більш ефективний вибір, пропонуючи хороший баланс між точністю і швидкістю. SVDpp, хоча і є конкурентоспроможним за точністю, не може бути ідеальним для сценаріїв, де ефективність використання часу має вирішальне значення через довший час тренування і тестування."
   ],
   "metadata": {
    "collapsed": false
   },
   "id": "4cd97f7644ccbfcd"
  },
  {
   "cell_type": "code",
   "execution_count": null,
   "outputs": [],
   "source": [],
   "metadata": {
    "collapsed": false
   },
   "id": "fb1f6c12b94a1d72"
  }
 ],
 "metadata": {
  "kernelspec": {
   "display_name": "Python 3",
   "language": "python",
   "name": "python3"
  },
  "language_info": {
   "codemirror_mode": {
    "name": "ipython",
    "version": 2
   },
   "file_extension": ".py",
   "mimetype": "text/x-python",
   "name": "python",
   "nbconvert_exporter": "python",
   "pygments_lexer": "ipython2",
   "version": "2.7.6"
  }
 },
 "nbformat": 4,
 "nbformat_minor": 5
}
