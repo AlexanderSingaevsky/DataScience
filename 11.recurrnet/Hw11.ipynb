{
  "cells": [
    {
      "cell_type": "code",
      "execution_count": 1,
      "id": "initial_id",
      "metadata": {
        "collapsed": true,
        "id": "initial_id"
      },
      "outputs": [],
      "source": [
        "from tensorflow.keras.datasets import imdb\n",
        "from tensorflow.keras.preprocessing.sequence import pad_sequences\n",
        "from tensorflow.keras.models import Sequential\n",
        "from tensorflow.keras.layers import Dropout, Embedding, SimpleRNN, LSTM, GRU, Bidirectional, Dense\n",
        "from tensorflow.keras.optimizers import Adam"
      ]
    },
    {
      "cell_type": "code",
      "execution_count": 2,
      "outputs": [
        {
          "output_type": "stream",
          "name": "stdout",
          "text": [
            "Downloading data from https://storage.googleapis.com/tensorflow/tf-keras-datasets/imdb.npz\n",
            "17464789/17464789 [==============================] - 0s 0us/step\n",
            "Downloading data from https://storage.googleapis.com/tensorflow/tf-keras-datasets/imdb_word_index.json\n",
            "1641221/1641221 [==============================] - 0s 0us/step\n"
          ]
        }
      ],
      "source": [
        "data = imdb.load_data(num_words=10000)\n",
        "\n",
        "word_index = imdb.get_word_index()\n",
        "word_index = dict([(value, key) for (key, value) in word_index.items()])"
      ],
      "metadata": {
        "colab": {
          "base_uri": "https://localhost:8080/"
        },
        "id": "672fec273c399d5f",
        "outputId": "843a120c-bb40-4416-a71a-77cdb99c0d62"
      },
      "id": "672fec273c399d5f"
    },
    {
      "cell_type": "code",
      "execution_count": 3,
      "outputs": [],
      "source": [
        "(x_train, y_train), (x_test, y_test) = data"
      ],
      "metadata": {
        "id": "eac31be82f4e8b5e"
      },
      "id": "eac31be82f4e8b5e"
    },
    {
      "cell_type": "code",
      "execution_count": 4,
      "outputs": [],
      "source": [
        "x_train = pad_sequences(x_train, maxlen=512)\n",
        "x_test = pad_sequences(x_test, maxlen=512)"
      ],
      "metadata": {
        "id": "135abd87d4af2615"
      },
      "id": "135abd87d4af2615"
    },
    {
      "cell_type": "code",
      "execution_count": 5,
      "outputs": [
        {
          "output_type": "stream",
          "name": "stdout",
          "text": [
            "Model: \"sequential\"\n",
            "_________________________________________________________________\n",
            " Layer (type)                Output Shape              Param #   \n",
            "=================================================================\n",
            " embedding (Embedding)       (None, None, 32)          320000    \n",
            "                                                                 \n",
            " dense (Dense)               (None, None, 1024)        33792     \n",
            "                                                                 \n",
            " simple_rnn (SimpleRNN)      (None, 128)               147584    \n",
            "                                                                 \n",
            " dropout (Dropout)           (None, 128)               0         \n",
            "                                                                 \n",
            " dense_1 (Dense)             (None, 512)               66048     \n",
            "                                                                 \n",
            " dense_2 (Dense)             (None, 1)                 513       \n",
            "                                                                 \n",
            "=================================================================\n",
            "Total params: 567937 (2.17 MB)\n",
            "Trainable params: 567937 (2.17 MB)\n",
            "Non-trainable params: 0 (0.00 Byte)\n",
            "_________________________________________________________________\n"
          ]
        }
      ],
      "source": [
        "model_rnn = Sequential()\n",
        "model_rnn.add(Embedding(10000, 32))\n",
        "model_rnn.add(Dense(1024, activation='relu'))\n",
        "model_rnn.add(SimpleRNN(128))\n",
        "model_rnn.add(Dropout(0.5))\n",
        "model_rnn.add(Dense(512, activation='relu'))\n",
        "model_rnn.add(Dense(1, activation='sigmoid'))\n",
        "model_rnn.summary()"
      ],
      "metadata": {
        "colab": {
          "base_uri": "https://localhost:8080/"
        },
        "id": "bbad22d4d71f1f8f",
        "outputId": "c06845a4-5398-4bbf-d64f-8d1fced02a9f"
      },
      "id": "bbad22d4d71f1f8f"
    },
    {
      "cell_type": "code",
      "execution_count": 6,
      "outputs": [],
      "source": [
        "model_rnn.compile(optimizer=Adam(learning_rate=0.0001, ema_momentum=1.9),\n",
        "                  loss='binary_crossentropy',\n",
        "                  metrics=['accuracy'])"
      ],
      "metadata": {
        "id": "fb171c23fbdb4302"
      },
      "id": "fb171c23fbdb4302"
    },
    {
      "cell_type": "code",
      "execution_count": 7,
      "outputs": [
        {
          "output_type": "stream",
          "name": "stdout",
          "text": [
            "Epoch 1/10\n",
            "98/98 [==============================] - 69s 655ms/step - loss: 0.6936 - accuracy: 0.5038 - val_loss: 0.6928 - val_accuracy: 0.5133\n",
            "Epoch 2/10\n",
            "98/98 [==============================] - 67s 684ms/step - loss: 0.6924 - accuracy: 0.5190 - val_loss: 0.6924 - val_accuracy: 0.5114\n",
            "Epoch 3/10\n",
            "98/98 [==============================] - 62s 634ms/step - loss: 0.6877 - accuracy: 0.5558 - val_loss: 0.6787 - val_accuracy: 0.5684\n",
            "Epoch 4/10\n",
            "98/98 [==============================] - 63s 650ms/step - loss: 0.6327 - accuracy: 0.6502 - val_loss: 0.5569 - val_accuracy: 0.7192\n",
            "Epoch 5/10\n",
            "98/98 [==============================] - 59s 600ms/step - loss: 0.4417 - accuracy: 0.8016 - val_loss: 0.4509 - val_accuracy: 0.7926\n",
            "Epoch 6/10\n",
            "98/98 [==============================] - 57s 582ms/step - loss: 0.3308 - accuracy: 0.8649 - val_loss: 0.3433 - val_accuracy: 0.8594\n",
            "Epoch 7/10\n",
            "98/98 [==============================] - 63s 646ms/step - loss: 0.2500 - accuracy: 0.9037 - val_loss: 0.3116 - val_accuracy: 0.8722\n",
            "Epoch 8/10\n",
            "98/98 [==============================] - 55s 568ms/step - loss: 0.2117 - accuracy: 0.9223 - val_loss: 0.3064 - val_accuracy: 0.8745\n",
            "Epoch 9/10\n",
            "98/98 [==============================] - 61s 628ms/step - loss: 0.1848 - accuracy: 0.9336 - val_loss: 0.3131 - val_accuracy: 0.8732\n",
            "Epoch 10/10\n",
            "98/98 [==============================] - 56s 578ms/step - loss: 0.1644 - accuracy: 0.9426 - val_loss: 0.3392 - val_accuracy: 0.8766\n"
          ]
        }
      ],
      "source": [
        "history_rnn = model_rnn.fit(x_train, y_train,validation_data=(x_test, y_test), epochs=10, batch_size=256)"
      ],
      "metadata": {
        "colab": {
          "base_uri": "https://localhost:8080/"
        },
        "id": "c419f7f43338c7af",
        "outputId": "0387675b-58c3-4ad6-b43d-74cb66e201e3"
      },
      "id": "c419f7f43338c7af"
    },
    {
      "cell_type": "code",
      "execution_count": 8,
      "outputs": [
        {
          "output_type": "execute_result",
          "data": {
            "text/plain": [
              "[0.33920174837112427, 0.8766000270843506]"
            ]
          },
          "metadata": {},
          "execution_count": 8
        }
      ],
      "source": [
        "model_rnn.evaluate(x_test, y_test, verbose=0)"
      ],
      "metadata": {
        "colab": {
          "base_uri": "https://localhost:8080/"
        },
        "id": "395b0308ae8a0ec9",
        "outputId": "b6b35034-4906-43f5-e034-5531ce798a5d"
      },
      "id": "395b0308ae8a0ec9"
    },
    {
      "cell_type": "code",
      "source": [
        "model_lstm = Sequential()\n",
        "model_lstm.add(Embedding(10000, 32))\n",
        "model_lstm.add(Dense(1024, activation='relu'))\n",
        "model_lstm.add(LSTM(128))\n",
        "model_lstm.add(Dropout(0.5))\n",
        "model_lstm.add(Dense(512, activation='relu'))\n",
        "model_lstm.add(Dense(1, activation='sigmoid'))\n",
        "model_lstm.summary()"
      ],
      "metadata": {
        "colab": {
          "base_uri": "https://localhost:8080/"
        },
        "id": "1poxGV3XOq3M",
        "outputId": "5b35010f-36b0-4337-c659-382aa347cca7"
      },
      "id": "1poxGV3XOq3M",
      "execution_count": 9,
      "outputs": [
        {
          "output_type": "stream",
          "name": "stdout",
          "text": [
            "Model: \"sequential_1\"\n",
            "_________________________________________________________________\n",
            " Layer (type)                Output Shape              Param #   \n",
            "=================================================================\n",
            " embedding_1 (Embedding)     (None, None, 32)          320000    \n",
            "                                                                 \n",
            " dense_3 (Dense)             (None, None, 1024)        33792     \n",
            "                                                                 \n",
            " lstm (LSTM)                 (None, 128)               590336    \n",
            "                                                                 \n",
            " dropout_1 (Dropout)         (None, 128)               0         \n",
            "                                                                 \n",
            " dense_4 (Dense)             (None, 512)               66048     \n",
            "                                                                 \n",
            " dense_5 (Dense)             (None, 1)                 513       \n",
            "                                                                 \n",
            "=================================================================\n",
            "Total params: 1010689 (3.86 MB)\n",
            "Trainable params: 1010689 (3.86 MB)\n",
            "Non-trainable params: 0 (0.00 Byte)\n",
            "_________________________________________________________________\n"
          ]
        }
      ]
    },
    {
      "cell_type": "code",
      "source": [
        "model_lstm.compile(optimizer=Adam(learning_rate=0.0001, ema_momentum=1.9),\n",
        "                  loss='binary_crossentropy',\n",
        "                  metrics=['accuracy'])"
      ],
      "metadata": {
        "id": "isLsUkvBPOI8"
      },
      "id": "isLsUkvBPOI8",
      "execution_count": 10,
      "outputs": []
    },
    {
      "cell_type": "code",
      "source": [
        "history_lstm = model_lstm.fit(x_train, y_train, validation_data=(x_test, y_test), epochs=15, batch_size=256)"
      ],
      "metadata": {
        "colab": {
          "base_uri": "https://localhost:8080/"
        },
        "id": "CrL9qnL3PqUQ",
        "outputId": "0c75f4c5-61dc-448e-96c8-db2526646770"
      },
      "id": "CrL9qnL3PqUQ",
      "execution_count": 12,
      "outputs": [
        {
          "output_type": "stream",
          "name": "stdout",
          "text": [
            "Epoch 1/15\n",
            "98/98 [==============================] - 25s 256ms/step - loss: 0.5428 - accuracy: 0.7405 - val_loss: 0.4210 - val_accuracy: 0.8075\n",
            "Epoch 2/15\n",
            "98/98 [==============================] - 29s 292ms/step - loss: 0.3278 - accuracy: 0.8653 - val_loss: 0.3307 - val_accuracy: 0.8602\n",
            "Epoch 3/15\n",
            "98/98 [==============================] - 29s 292ms/step - loss: 0.2581 - accuracy: 0.8992 - val_loss: 0.3053 - val_accuracy: 0.8693\n",
            "Epoch 4/15\n",
            "98/98 [==============================] - 29s 293ms/step - loss: 0.2139 - accuracy: 0.9193 - val_loss: 0.3040 - val_accuracy: 0.8787\n",
            "Epoch 5/15\n",
            "98/98 [==============================] - 24s 244ms/step - loss: 0.1949 - accuracy: 0.9272 - val_loss: 0.3060 - val_accuracy: 0.8686\n",
            "Epoch 6/15\n",
            "98/98 [==============================] - 24s 247ms/step - loss: 0.1693 - accuracy: 0.9393 - val_loss: 0.3543 - val_accuracy: 0.8648\n",
            "Epoch 7/15\n",
            "98/98 [==============================] - 28s 283ms/step - loss: 0.1536 - accuracy: 0.9460 - val_loss: 0.3208 - val_accuracy: 0.8774\n",
            "Epoch 8/15\n",
            "98/98 [==============================] - 28s 284ms/step - loss: 0.1316 - accuracy: 0.9568 - val_loss: 0.3567 - val_accuracy: 0.8748\n",
            "Epoch 9/15\n",
            "98/98 [==============================] - 28s 283ms/step - loss: 0.1194 - accuracy: 0.9622 - val_loss: 0.3442 - val_accuracy: 0.8727\n",
            "Epoch 10/15\n",
            "98/98 [==============================] - 28s 289ms/step - loss: 0.1056 - accuracy: 0.9672 - val_loss: 0.3736 - val_accuracy: 0.8703\n",
            "Epoch 11/15\n",
            "98/98 [==============================] - 28s 285ms/step - loss: 0.0946 - accuracy: 0.9720 - val_loss: 0.3782 - val_accuracy: 0.8676\n",
            "Epoch 12/15\n",
            "98/98 [==============================] - 24s 246ms/step - loss: 0.0876 - accuracy: 0.9742 - val_loss: 0.4444 - val_accuracy: 0.8659\n",
            "Epoch 13/15\n",
            "98/98 [==============================] - 28s 286ms/step - loss: 0.0791 - accuracy: 0.9774 - val_loss: 0.4729 - val_accuracy: 0.8541\n",
            "Epoch 14/15\n",
            "98/98 [==============================] - 24s 242ms/step - loss: 0.0741 - accuracy: 0.9773 - val_loss: 0.4786 - val_accuracy: 0.8607\n",
            "Epoch 15/15\n",
            "98/98 [==============================] - 28s 285ms/step - loss: 0.0684 - accuracy: 0.9805 - val_loss: 0.5174 - val_accuracy: 0.8564\n"
          ]
        }
      ]
    },
    {
      "cell_type": "code",
      "source": [
        "model_lstm.evaluate(x_test, y_test, verbose=0)"
      ],
      "metadata": {
        "colab": {
          "base_uri": "https://localhost:8080/"
        },
        "id": "fkSMOnUNRt_W",
        "outputId": "15688449-df50-447f-a38f-49cc59473d8e"
      },
      "id": "fkSMOnUNRt_W",
      "execution_count": 13,
      "outputs": [
        {
          "output_type": "execute_result",
          "data": {
            "text/plain": [
              "[0.51741623878479, 0.8564000129699707]"
            ]
          },
          "metadata": {},
          "execution_count": 13
        }
      ]
    },
    {
      "cell_type": "code",
      "source": [
        "model_bidirectional_rnn = Sequential()\n",
        "model_bidirectional_rnn.add(Embedding(10000, 32))\n",
        "model_bidirectional_rnn.add(Dense(1024, activation='relu'))\n",
        "model_bidirectional_rnn.add(Bidirectional(SimpleRNN(128)))\n",
        "model_bidirectional_rnn.add(Dropout(0.5))\n",
        "model_bidirectional_rnn.add(Dense(512, activation='relu'))\n",
        "model_bidirectional_rnn.add(Dense(1, activation='sigmoid'))\n",
        "model_bidirectional_rnn.summary()"
      ],
      "metadata": {
        "colab": {
          "base_uri": "https://localhost:8080/"
        },
        "id": "CD5WOk5hSKZI",
        "outputId": "caf5ae72-5fdc-46b2-b488-9ef0e361aec0"
      },
      "id": "CD5WOk5hSKZI",
      "execution_count": 14,
      "outputs": [
        {
          "output_type": "stream",
          "name": "stdout",
          "text": [
            "Model: \"sequential_2\"\n",
            "_________________________________________________________________\n",
            " Layer (type)                Output Shape              Param #   \n",
            "=================================================================\n",
            " embedding_2 (Embedding)     (None, None, 32)          320000    \n",
            "                                                                 \n",
            " dense_6 (Dense)             (None, None, 1024)        33792     \n",
            "                                                                 \n",
            " bidirectional (Bidirection  (None, 256)               295168    \n",
            " al)                                                             \n",
            "                                                                 \n",
            " dropout_2 (Dropout)         (None, 256)               0         \n",
            "                                                                 \n",
            " dense_7 (Dense)             (None, 512)               131584    \n",
            "                                                                 \n",
            " dense_8 (Dense)             (None, 1)                 513       \n",
            "                                                                 \n",
            "=================================================================\n",
            "Total params: 781057 (2.98 MB)\n",
            "Trainable params: 781057 (2.98 MB)\n",
            "Non-trainable params: 0 (0.00 Byte)\n",
            "_________________________________________________________________\n"
          ]
        }
      ]
    },
    {
      "cell_type": "code",
      "source": [
        "model_bidirectional_rnn.compile(optimizer=Adam(learning_rate=0.0001, ema_momentum=1.9),\n",
        "                  loss='binary_crossentropy',\n",
        "                  metrics=['accuracy'])"
      ],
      "metadata": {
        "id": "ioVz5cFXSl1D"
      },
      "id": "ioVz5cFXSl1D",
      "execution_count": 15,
      "outputs": []
    },
    {
      "cell_type": "code",
      "source": [
        "history_bidirectional_rnn = model_bidirectional_rnn.fit(x_train, y_train,validation_data=(x_test, y_test), epochs=10, batch_size=256)"
      ],
      "metadata": {
        "colab": {
          "base_uri": "https://localhost:8080/"
        },
        "id": "pIRbItuPTHWS",
        "outputId": "c9af20ec-5f2b-45e4-953c-c7741bca1f14"
      },
      "id": "pIRbItuPTHWS",
      "execution_count": 16,
      "outputs": [
        {
          "output_type": "stream",
          "name": "stdout",
          "text": [
            "Epoch 1/10\n",
            "98/98 [==============================] - 108s 1s/step - loss: 0.6940 - accuracy: 0.5038 - val_loss: 0.6931 - val_accuracy: 0.5038\n",
            "Epoch 2/10\n",
            "98/98 [==============================] - 105s 1s/step - loss: 0.6917 - accuracy: 0.5249 - val_loss: 0.6873 - val_accuracy: 0.5518\n",
            "Epoch 3/10\n",
            "98/98 [==============================] - 103s 1s/step - loss: 0.6902 - accuracy: 0.5354 - val_loss: 0.6881 - val_accuracy: 0.5453\n",
            "Epoch 4/10\n",
            "98/98 [==============================] - 102s 1s/step - loss: 0.6246 - accuracy: 0.6580 - val_loss: 0.6016 - val_accuracy: 0.6774\n",
            "Epoch 5/10\n",
            "98/98 [==============================] - 100s 1s/step - loss: 0.4185 - accuracy: 0.8138 - val_loss: 0.3679 - val_accuracy: 0.8392\n",
            "Epoch 6/10\n",
            "98/98 [==============================] - 101s 1s/step - loss: 0.3038 - accuracy: 0.8794 - val_loss: 0.3270 - val_accuracy: 0.8630\n",
            "Epoch 7/10\n",
            "98/98 [==============================] - 102s 1s/step - loss: 0.2417 - accuracy: 0.9080 - val_loss: 0.3185 - val_accuracy: 0.8645\n",
            "Epoch 8/10\n",
            "98/98 [==============================] - 105s 1s/step - loss: 0.2100 - accuracy: 0.9203 - val_loss: 0.3156 - val_accuracy: 0.8714\n",
            "Epoch 9/10\n",
            "98/98 [==============================] - 99s 1s/step - loss: 0.1787 - accuracy: 0.9355 - val_loss: 0.3333 - val_accuracy: 0.8730\n",
            "Epoch 10/10\n",
            "98/98 [==============================] - 99s 1s/step - loss: 0.1574 - accuracy: 0.9462 - val_loss: 0.3634 - val_accuracy: 0.8750\n"
          ]
        }
      ]
    },
    {
      "cell_type": "code",
      "source": [
        "model_bidirectional_rnn.evaluate(x_test, y_test, verbose=0)"
      ],
      "metadata": {
        "colab": {
          "base_uri": "https://localhost:8080/"
        },
        "id": "4tJ0amfaYZaS",
        "outputId": "625da961-ee63-4dbd-95cf-e1617820f5d5"
      },
      "id": "4tJ0amfaYZaS",
      "execution_count": 17,
      "outputs": [
        {
          "output_type": "execute_result",
          "data": {
            "text/plain": [
              "[0.3634265959262848, 0.8749600052833557]"
            ]
          },
          "metadata": {},
          "execution_count": 17
        }
      ]
    },
    {
      "cell_type": "code",
      "source": [
        "model_bidirectional_lstm = Sequential()\n",
        "model_bidirectional_lstm.add(Embedding(10000, 32))\n",
        "model_bidirectional_lstm.add(Dense(1024, activation='relu'))\n",
        "model_bidirectional_lstm.add(Bidirectional(LSTM(128)))\n",
        "model_bidirectional_lstm.add(Dropout(0.5))\n",
        "model_bidirectional_lstm.add(Dense(512, activation='relu'))\n",
        "model_bidirectional_lstm.add(Dense(1, activation='sigmoid'))\n",
        "model_bidirectional_lstm.summary()"
      ],
      "metadata": {
        "colab": {
          "base_uri": "https://localhost:8080/"
        },
        "id": "Z0XiU7V2V4j7",
        "outputId": "63f8bcb9-6634-4b13-cf5b-2e8024685c67"
      },
      "id": "Z0XiU7V2V4j7",
      "execution_count": 26,
      "outputs": [
        {
          "output_type": "stream",
          "name": "stdout",
          "text": [
            "Model: \"sequential_6\"\n",
            "_________________________________________________________________\n",
            " Layer (type)                Output Shape              Param #   \n",
            "=================================================================\n",
            " embedding_6 (Embedding)     (None, None, 32)          320000    \n",
            "                                                                 \n",
            " dense_18 (Dense)            (None, None, 1024)        33792     \n",
            "                                                                 \n",
            " bidirectional_1 (Bidirecti  (None, 256)               1180672   \n",
            " onal)                                                           \n",
            "                                                                 \n",
            " dropout_6 (Dropout)         (None, 256)               0         \n",
            "                                                                 \n",
            " dense_19 (Dense)            (None, 512)               131584    \n",
            "                                                                 \n",
            " dense_20 (Dense)            (None, 1)                 513       \n",
            "                                                                 \n",
            "=================================================================\n",
            "Total params: 1666561 (6.36 MB)\n",
            "Trainable params: 1666561 (6.36 MB)\n",
            "Non-trainable params: 0 (0.00 Byte)\n",
            "_________________________________________________________________\n"
          ]
        }
      ]
    },
    {
      "cell_type": "code",
      "source": [
        "model_bidirectional_lstm.compile(optimizer=Adam(learning_rate=0.0001, ema_momentum=1.9),\n",
        "                  loss='binary_crossentropy',\n",
        "                  metrics=['accuracy'])"
      ],
      "metadata": {
        "id": "gMnWQT7pZPZa"
      },
      "id": "gMnWQT7pZPZa",
      "execution_count": 27,
      "outputs": []
    },
    {
      "cell_type": "code",
      "source": [
        "history_bidirectional_lstm = model_bidirectional_lstm.fit(x_train, y_train,validation_data=(x_test, y_test), epochs=10, batch_size=256)"
      ],
      "metadata": {
        "colab": {
          "base_uri": "https://localhost:8080/"
        },
        "id": "mYmh96kWZpFd",
        "outputId": "b8b11a0f-1956-4233-a952-23c9c26ea8e9"
      },
      "id": "mYmh96kWZpFd",
      "execution_count": 29,
      "outputs": [
        {
          "output_type": "stream",
          "name": "stdout",
          "text": [
            "Epoch 1/10\n",
            "98/98 [==============================] - 56s 569ms/step - loss: 0.6915 - accuracy: 0.5406 - val_loss: 0.6783 - val_accuracy: 0.6591\n",
            "Epoch 2/10\n",
            "98/98 [==============================] - 54s 554ms/step - loss: 0.4937 - accuracy: 0.7704 - val_loss: 0.3733 - val_accuracy: 0.8356\n",
            "Epoch 3/10\n",
            "98/98 [==============================] - 54s 553ms/step - loss: 0.3089 - accuracy: 0.8727 - val_loss: 0.3543 - val_accuracy: 0.8493\n",
            "Epoch 4/10\n",
            "98/98 [==============================] - 54s 552ms/step - loss: 0.2488 - accuracy: 0.9012 - val_loss: 0.3152 - val_accuracy: 0.8712\n",
            "Epoch 5/10\n",
            "98/98 [==============================] - 54s 551ms/step - loss: 0.2099 - accuracy: 0.9184 - val_loss: 0.2970 - val_accuracy: 0.8793\n",
            "Epoch 6/10\n",
            "98/98 [==============================] - 54s 548ms/step - loss: 0.1784 - accuracy: 0.9341 - val_loss: 0.3088 - val_accuracy: 0.8812\n",
            "Epoch 7/10\n",
            "98/98 [==============================] - 45s 461ms/step - loss: 0.1622 - accuracy: 0.9419 - val_loss: 0.3140 - val_accuracy: 0.8786\n",
            "Epoch 8/10\n",
            "98/98 [==============================] - 53s 546ms/step - loss: 0.1417 - accuracy: 0.9506 - val_loss: 0.3374 - val_accuracy: 0.8783\n",
            "Epoch 9/10\n",
            "98/98 [==============================] - 54s 550ms/step - loss: 0.1317 - accuracy: 0.9545 - val_loss: 0.3526 - val_accuracy: 0.8746\n",
            "Epoch 10/10\n",
            "98/98 [==============================] - 54s 548ms/step - loss: 0.1159 - accuracy: 0.9624 - val_loss: 0.3983 - val_accuracy: 0.8608\n"
          ]
        }
      ]
    },
    {
      "cell_type": "code",
      "source": [
        "model_bidirectional_lstm.evaluate(x_test, y_test, verbose=0)"
      ],
      "metadata": {
        "colab": {
          "base_uri": "https://localhost:8080/"
        },
        "id": "MEwEtketZt2X",
        "outputId": "5a175f41-35c6-4431-fd4f-e35961cab1db"
      },
      "id": "MEwEtketZt2X",
      "execution_count": 30,
      "outputs": [
        {
          "output_type": "execute_result",
          "data": {
            "text/plain": [
              "[0.39826032519340515, 0.8608400225639343]"
            ]
          },
          "metadata": {},
          "execution_count": 30
        }
      ]
    }
  ],
  "metadata": {
    "kernelspec": {
      "display_name": "Python 3",
      "name": "python3"
    },
    "language_info": {
      "codemirror_mode": {
        "name": "ipython",
        "version": 2
      },
      "file_extension": ".py",
      "mimetype": "text/x-python",
      "name": "python",
      "nbconvert_exporter": "python",
      "pygments_lexer": "ipython2",
      "version": "2.7.6"
    },
    "colab": {
      "provenance": [],
      "gpuType": "T4"
    },
    "accelerator": "GPU"
  },
  "nbformat": 4,
  "nbformat_minor": 5
}