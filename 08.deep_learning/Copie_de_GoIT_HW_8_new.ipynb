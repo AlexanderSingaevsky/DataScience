{
 "cells": [
  {
   "cell_type": "markdown",
   "metadata": {
    "id": "b0Yf4NBJUSNM"
   },
   "source": [
    "# Створення нейронної мережі\n",
    "\n",
    "У цьому завданні ми створимо повнозв'язну нейронну мережу, використовуючи при цьому низькорівневі механізми tensorflow.\n",
    "\n",
    "Архітектура нейромережі представлена на наступному малюнку. Як бачиш, у ній є один вхідний шар, два приховані, а також вихідний шар. В якості активаційної функції у прихованих шарах буде використовуватись сигмоїда. На вихідному шарі ми використовуємо softmax.\n",
    "\n",
    "Частина коду зі створення мережі вже написана, тобі потрібно заповнити пропуски у вказаних місцях."
   ]
  },
  {
   "cell_type": "markdown",
   "metadata": {
    "id": "01rZWUu0USNQ"
   },
   "source": [
    "## Архітектура нейронної мережі\n",
    "\n",
    "<img src=\"http://cs231n.github.io/assets/nn1/neural_net2.jpeg\" alt=\"nn\" style=\"width: 400px;\"/>\n"
   ]
  },
  {
   "cell_type": "markdown",
   "metadata": {
    "id": "LLvIZ705Qw_V"
   },
   "source": [
    "## Про датасет MNIST\n",
    "\n",
    "Дану нейромережу ми будемо вивчати на датасеті MNIST. Цей датасет являє собою велику кількість зображень рукописних цифр розміром $28 \\times 28$ пікселів. Кожен піксель приймає значення від 0 до 255.\n",
    "\n",
    "Як і раніше, датасет буде розділений на навчальну та тестову вибірки. При цьому ми виконаємо нормалізацію всіх зображень, щоб значення пікселів знаходилось у проміжку від 0 до 1, розділивши яскравість кожного пікселя на 255.\n",
    "\n",
    "Окрім того, архітектура нейронної мережі очікує на вхід вектор. У нашому ж випадку кожен об'єкт вибірки являє собою матрицю. Що ж робити? У цьому завданні ми \"розтягнемо\" матрицю $28 \\times 28$, отримавши при цьому вектор, що складається з 784 елементів.\n",
    "\n",
    "![MNIST Dataset](https://www.researchgate.net/profile/Steven-Young-5/publication/306056875/figure/fig1/AS:393921575309346@1470929630835/Example-images-from-the-MNIST-dataset.png)\n",
    "\n",
    "Більше інформації про датасет можна знайти [тут](http://yann.lecun.com/exdb/mnist/)."
   ]
  },
  {
   "cell_type": "code",
   "execution_count": 5,
   "metadata": {
    "id": "il_0_5OyUSNR",
    "ExecuteTime": {
     "end_time": "2023-12-11T22:02:06.615983500Z",
     "start_time": "2023-12-11T22:02:06.387984500Z"
    }
   },
   "outputs": [],
   "source": [
    "import tensorflow as tf\n",
    "import numpy as np\n",
    "import pandas as pd\n",
    "import matplotlib.pyplot as plt\n",
    "import random\n",
    "import keras as K\n",
    "import seaborn as sns\n",
    "from sklearn.metrics import confusion_matrix"
   ]
  },
  {
   "cell_type": "code",
   "execution_count": 6,
   "metadata": {
    "id": "cd-1_abTUSNS",
    "ExecuteTime": {
     "end_time": "2023-12-11T22:02:08.774373900Z",
     "start_time": "2023-12-11T22:02:08.745374500Z"
    }
   },
   "outputs": [],
   "source": [
    "num_classes = 10 # загальна кількість класів, у нашому випадку це цифри від 0 до 9\n",
    "num_features = 784 # кількість атрибутів вхідного вектора 28 * 28 = 784\n",
    "\n",
    "learning_rate = 0.001 # швидкість навчання нейронної мережі\n",
    "training_steps = 3000 # максимальне число епох\n",
    "batch_size = 256 # перераховувати ваги мережі ми будемо не на всій вибірці, а на її випадковій підмножині з batch_size елементів\n",
    "display_step = 100 # кожні 100 ітерацій ми будемо показувати поточне значення функції втрат і точності\n",
    "\n",
    "n_hidden_1 = 128 # кількість нейронів 1-го шару\n",
    "n_hidden_2 = 256 # кількість нейронів 2-го шару"
   ]
  },
  {
   "cell_type": "code",
   "execution_count": 7,
   "metadata": {
    "colab": {
     "base_uri": "https://localhost:8080/"
    },
    "id": "pGTXiRyTUSNT",
    "outputId": "048e14cc-c863-4ea4-c436-e8c3c24601e0",
    "ExecuteTime": {
     "end_time": "2023-12-11T22:02:13.524252100Z",
     "start_time": "2023-12-11T22:02:11.124719600Z"
    }
   },
   "outputs": [
    {
     "name": "stdout",
     "output_type": "stream",
     "text": [
      "Downloading data from https://storage.googleapis.com/tensorflow/tf-keras-datasets/mnist.npz\n",
      "11490434/11490434 [==============================] - 1s 0us/step\n"
     ]
    }
   ],
   "source": [
    "# from tensorflow.keras.datasets import mnist\n",
    "from keras.datasets import mnist\n",
    "\n",
    "# Завантажуємо датасет\n",
    "(x_train, y_train), (x_test, y_test) = mnist.load_data()\n",
    "\n",
    "# Перетворюємо цілочисельні пікселі на тип float32\n",
    "x_train, x_test = np.array(x_train, np.float32), np.array(x_test, np.float32)\n",
    "\n",
    "# Перетворюємо матриці розміром 28x28 пікселів у вектор з 784 елементів\n",
    "x_train, x_test = x_train.reshape([-1, num_features]), x_test.reshape([-1, num_features])\n",
    "\n",
    "# Нормалізуємо значення пікселів\n",
    "x_train, x_test = x_train / 255., x_test / 255.\n",
    "\n",
    "# Перемішаємо тренувальні дані\n",
    "train_data = tf.data.Dataset.from_tensor_slices((x_train, y_train))\n",
    "train_data = train_data.repeat().shuffle(5000).batch(batch_size).prefetch(1)"
   ]
  },
  {
   "cell_type": "code",
   "execution_count": 8,
   "metadata": {
    "id": "FkRmCQjnUSNV",
    "ExecuteTime": {
     "end_time": "2023-12-11T22:02:22.335887600Z",
     "start_time": "2023-12-11T22:02:22.307146500Z"
    }
   },
   "outputs": [],
   "source": [
    "# Створимо нейронну мережу\n",
    "\n",
    "class DenseLayer(tf.Module):\n",
    "    def __init__(self, in_features, out_features, name=None):\n",
    "        super().__init__(name=name)\n",
    "        self.w = tf.Variable(\n",
    "            tf.random.normal([in_features, out_features]), name=\"w\"\n",
    "        )\n",
    "        self.b = tf.Variable(tf.zeros([out_features]), name=\"b\")\n",
    "\n",
    "    def __call__(self, x, activation=0):\n",
    "        y = tf.matmul(x, self.w) + self.b\n",
    "        if activation != 0:\n",
    "            return tf.nn.softmax(y)\n",
    "        else:\n",
    "            return tf.nn.sigmoid(y)\n",
    "\n",
    "class NN(tf.Module):\n",
    "  def __init__(self, name=None):\n",
    "    super().__init__(name=name)\n",
    "    # Перший шар, який складається з 128 нейронів\n",
    "    self.layer_1 = DenseLayer(in_features=num_features, out_features=n_hidden_1)\n",
    "    # Другий шар, який складається з 256 нейронів\n",
    "    self.layer_2 = DenseLayer(in_features=n_hidden_1, out_features=n_hidden_2)\n",
    "    # Вихідний шар\n",
    "    self.layer_3 = DenseLayer(in_features=n_hidden_2, out_features=num_classes)\n",
    "\n",
    "\n",
    "  def __call__(self, x):\n",
    "    # Передача даних через перші два шари та вихідний шар з функцією активації softmax\n",
    "    x1 = self.layer_1(x, activation=0)\n",
    "    x2 = self.layer_2(x1, activation=0)\n",
    "    x3 = self.layer_3(x2, activation=1)\n",
    "\n",
    "\n",
    "    return x3"
   ]
  },
  {
   "cell_type": "code",
   "execution_count": 9,
   "metadata": {
    "id": "LIf3o7VAUSNV",
    "ExecuteTime": {
     "end_time": "2023-12-11T22:02:26.131156700Z",
     "start_time": "2023-12-11T22:02:26.111156100Z"
    }
   },
   "outputs": [],
   "source": [
    "# В якості функції помилки в даному випадку зручно взяти крос-ентропію\n",
    "def cross_entropy(y_pred, y_true):\n",
    "    # Закодувати label в one hot vector\n",
    "    y_true = tf.one_hot(y_true, depth=num_classes)\n",
    "\n",
    "    # Значення передбачення, щоб уникнути помилки log(0).\n",
    "    y_pred = tf.clip_by_value(y_pred, 1e-9, 1.)\n",
    "\n",
    "    # Обчислення крос-ентропії\n",
    "    return tf.reduce_mean(-tf.reduce_sum(y_true * tf.math.log(y_pred)))\n",
    "\n",
    "# Як метрику якості використовуємо точність\n",
    "def accuracy(y_pred, y_true):\n",
    "    accuracy = tf.metrics.Accuracy()\n",
    "    accuracy.update_state(y_true, tf.argmax(y_pred, axis=1))\n",
    "    return accuracy.result()"
   ]
  },
  {
   "cell_type": "code",
   "execution_count": 10,
   "metadata": {
    "id": "MQeT1yatUSNW",
    "ExecuteTime": {
     "end_time": "2023-12-11T22:02:31.844874900Z",
     "start_time": "2023-12-11T22:02:31.791871700Z"
    }
   },
   "outputs": [],
   "source": [
    "# Створимо екземпляр нейронної мережі\n",
    "neural_net = NN(name=\"mnist\")\n",
    "\n",
    "# Функція навчання нейромережі\n",
    "def train(neural_net, input_x, output_y):\n",
    "  # Для налаштування вагів мережі будемо використовувати стохастичний градієнтний спуск\n",
    "  optimizer = tf.optimizers.SGD(learning_rate)\n",
    "\n",
    "  # Активація автоматичного диференціювання\n",
    "  with tf.GradientTape() as g:\n",
    "    pred = neural_net(input_x)\n",
    "    loss = cross_entropy(pred, output_y)\n",
    "\n",
    "    # Отримаємо список оптимізованих параметрів\n",
    "    trainable_variables = neural_net.trainable_variables\n",
    "    # Обчислимо за ними значення градієнта\n",
    "    gradients = g.gradient(loss, trainable_variables)\n",
    "    # Модифікуємо параметри\n",
    "    optimizer.apply_gradients(zip(gradients, trainable_variables))"
   ]
  },
  {
   "cell_type": "code",
   "execution_count": 11,
   "metadata": {
    "id": "fnyns9lBfpQZ",
    "outputId": "3c088569-3815-41bd-9d91-2789544d0be2",
    "colab": {
     "base_uri": "https://localhost:8080/"
    },
    "ExecuteTime": {
     "end_time": "2023-12-11T22:03:37.909632500Z",
     "start_time": "2023-12-11T22:02:34.300520700Z"
    }
   },
   "outputs": [
    {
     "name": "stdout",
     "output_type": "stream",
     "text": [
      "step=100\tloss=327.4779052734375\taccuracy=0.66796875\n",
      "step=200\tloss=214.29904174804688\taccuracy=0.77734375\n",
      "step=300\tloss=169.32632446289062\taccuracy=0.81640625\n",
      "step=400\tloss=195.31851196289062\taccuracy=0.8125\n",
      "step=500\tloss=129.3414306640625\taccuracy=0.85546875\n",
      "step=600\tloss=126.53202056884766\taccuracy=0.875\n",
      "step=700\tloss=120.165283203125\taccuracy=0.8671875\n",
      "step=800\tloss=135.142333984375\taccuracy=0.875\n",
      "step=900\tloss=110.02440643310547\taccuracy=0.89453125\n",
      "step=1000\tloss=92.02362823486328\taccuracy=0.89453125\n",
      "step=1100\tloss=110.13692474365234\taccuracy=0.86328125\n",
      "step=1200\tloss=88.15621948242188\taccuracy=0.88671875\n",
      "step=1300\tloss=111.52235412597656\taccuracy=0.86328125\n",
      "step=1400\tloss=85.48591613769531\taccuracy=0.90234375\n",
      "step=1500\tloss=88.49581909179688\taccuracy=0.8984375\n",
      "step=1600\tloss=59.17574691772461\taccuracy=0.921875\n",
      "step=1700\tloss=67.19908142089844\taccuracy=0.91796875\n",
      "step=1800\tloss=97.5362548828125\taccuracy=0.90625\n",
      "step=1900\tloss=83.12083435058594\taccuracy=0.890625\n",
      "step=2000\tloss=67.11189270019531\taccuracy=0.91796875\n",
      "step=2100\tloss=69.74954223632812\taccuracy=0.921875\n",
      "step=2200\tloss=80.20746612548828\taccuracy=0.91015625\n",
      "step=2300\tloss=79.44035339355469\taccuracy=0.921875\n",
      "step=2400\tloss=62.002506256103516\taccuracy=0.9296875\n",
      "step=2500\tloss=53.77967834472656\taccuracy=0.9296875\n",
      "step=2600\tloss=61.88579559326172\taccuracy=0.9296875\n",
      "step=2700\tloss=42.65936279296875\taccuracy=0.94921875\n",
      "step=2800\tloss=43.70532989501953\taccuracy=0.94921875\n",
      "step=2900\tloss=79.21452331542969\taccuracy=0.91015625\n",
      "step=3000\tloss=72.23125457763672\taccuracy=0.90625\n"
     ]
    }
   ],
   "source": [
    "# Тренування мережі\n",
    "\n",
    "loss_history = []  # кожні display_step кроків зберігай в цьому списку поточну помилку нейромережі\n",
    "accuracy_history = [] # кожні display_step кроків зберігай в цьому списку поточну точність нейромережі\n",
    "\n",
    "# У цьому циклі ми будемо проводити навчання нейронної мережі\n",
    "# із тренувального датасета train_data вилучи випадкову підмножину, на якій\n",
    "# відбудеться тренування. Використовуй метод take, доступний для тренувального датасета.\n",
    "for step, (batch_x, batch_y) in enumerate(train_data.take(training_steps), 1):\n",
    "    # Оновлюємо ваги нейронної мережі\n",
    "    train(neural_net, batch_x, batch_y)\n",
    "\n",
    "    if step % display_step == 0:\n",
    "        pred = neural_net(batch_x)\n",
    "        current_loss = cross_entropy(pred, batch_y)\n",
    "        loss_history.append(current_loss)\n",
    "\n",
    "        current_accuracy = accuracy(pred, batch_y)\n",
    "        accuracy_history.append(current_accuracy)\n",
    "        print(f\"step={int(step)}\\tloss={current_loss}\\taccuracy={current_accuracy}\")\n"
   ]
  },
  {
   "cell_type": "code",
   "execution_count": 12,
   "metadata": {
    "id": "_yCBfG6MbQB2",
    "outputId": "0abb4bb5-47b8-4f0f-d274-8436d4a817e9",
    "colab": {
     "base_uri": "https://localhost:8080/",
     "height": 887
    },
    "ExecuteTime": {
     "end_time": "2023-12-11T22:03:45.080885100Z",
     "start_time": "2023-12-11T22:03:44.546884900Z"
    }
   },
   "outputs": [
    {
     "data": {
      "text/plain": "<Figure size 640x480 with 1 Axes>",
      "image/png": "[encoded data removed]"
     },
     "metadata": {},
     "output_type": "display_data"
    },
    {
     "data": {
      "text/plain": "<Figure size 640x480 with 1 Axes>",
      "image/png": "[encoded data removed]"
     },
     "metadata": {},
     "output_type": "display_data"
    }
   ],
   "source": [
    "# Виведіть графіки залежності зміни точності і втрат від кроку\n",
    "# Якщо все зроблено правильно, то точність повинна зростати, а втрати зменшуватись\n",
    "\n",
    "import matplotlib.pyplot as plt\n",
    "\n",
    "\n",
    "x_axis = range(len(loss_history))\n",
    "\n",
    "\n",
    "plt.plot(x_axis, loss_history)\n",
    "plt.title('loss')\n",
    "plt.show()\n",
    "plt.plot(x_axis, accuracy_history)\n",
    "plt.title('accuracy')\n",
    "plt.show()\n"
   ]
  },
  {
   "cell_type": "code",
   "execution_count": 13,
   "metadata": {
    "id": "LE3g4gDyUSNY",
    "outputId": "99c88d15-dc81-487b-aef6-c6c1df0241b9",
    "colab": {
     "base_uri": "https://localhost:8080/"
    },
    "ExecuteTime": {
     "end_time": "2023-12-11T22:03:52.033655300Z",
     "start_time": "2023-12-11T22:03:51.692659800Z"
    }
   },
   "outputs": [
    {
     "name": "stdout",
     "output_type": "stream",
     "text": [
      "0.9230499863624573\n"
     ]
    }
   ],
   "source": [
    "# Обчисліть точність навченої нейромережі\n",
    "# Місце для вашого коду\n",
    "# Тестування моделі на тестових даних\n",
    "print(float(accuracy(neural_net(x_train), y_train)))"
   ]
  },
  {
   "cell_type": "code",
   "execution_count": 14,
   "metadata": {
    "id": "_EEHAubOUSNY",
    "outputId": "df3e9489-ec74-491d-d2ad-536bd028891c",
    "colab": {
     "base_uri": "https://localhost:8080/",
     "height": 214
    },
    "ExecuteTime": {
     "end_time": "2023-12-11T22:03:56.887106500Z",
     "start_time": "2023-12-11T22:03:55.119561100Z"
    }
   },
   "outputs": [
    {
     "data": {
      "text/plain": "<Figure size 1600x600 with 10 Axes>",
      "image/png": "[encoded data removed]"
     },
     "metadata": {},
     "output_type": "display_data"
    }
   ],
   "source": [
    "# Протестуйте навчену нейромережу на 10 зображеннях. З тестової вибірки візьміть 5\n",
    "# випадкових зображень і передайте їх у нейронну мережу.\n",
    "# Виведіть зображення та випишіть  поруч відповідь нейромережі.\n",
    "# Зробіть висновок про те, чи помиляється твоя нейронна мережа, і якщо так, то як часто?\n",
    "\n",
    "plt.figure(figsize=(16, 6))\n",
    "for i in range(1,11):\n",
    "    rn = np.random.randint(x_test.shape[0])\n",
    "    test_digit = y_test[rn]\n",
    "    predicted_digit = np.argmax(neural_net([x_test[rn]]))\n",
    "    plt.subplot(1, 10, i)\n",
    "    plt.imshow(x_test[rn].reshape(28, 28))\n",
    "    plt.text(x=0, y=-5, s=f\"{predicted_digit}\", fontsize=17)\n",
    "\n",
    "plt.tight_layout()\n",
    "plt.show()\n",
    "\n"
   ]
  },
  {
   "cell_type": "code",
   "execution_count": 14,
   "outputs": [],
   "source": [],
   "metadata": {
    "collapsed": false,
    "ExecuteTime": {
     "end_time": "2023-12-11T22:04:00.934154200Z",
     "start_time": "2023-12-11T22:04:00.857155700Z"
    }
   }
  },
  {
   "cell_type": "code",
   "execution_count": null,
   "outputs": [],
   "source": [],
   "metadata": {
    "collapsed": false
   }
  }
 ],
 "metadata": {
  "colab": {
   "provenance": []
  },
  "kernelspec": {
   "display_name": "Python 3 (ipykernel)",
   "language": "python",
   "name": "python3"
  },
  "language_info": {
   "codemirror_mode": {
    "name": "ipython",
    "version": 3
   },
   "file_extension": ".py",
   "mimetype": "text/x-python",
   "name": "python",
   "nbconvert_exporter": "python",
   "pygments_lexer": "ipython3",
   "version": "3.9.2"
  }
 },
 "nbformat": 4,
 "nbformat_minor": 0
}
