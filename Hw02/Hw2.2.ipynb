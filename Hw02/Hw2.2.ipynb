{
 "cells": [
  {
   "cell_type": "code",
   "execution_count": 15,
   "outputs": [],
   "source": [
    "%matplotlib inline\n",
    "import numpy as np\n",
    "import pandas as pd\n",
    "import matplotlib.pyplot as plt"
   ],
   "metadata": {
    "collapsed": false,
    "ExecuteTime": {
     "end_time": "2023-09-27T14:32:47.862981900Z",
     "start_time": "2023-09-27T14:32:47.756350500Z"
    }
   },
   "id": "initial_id"
  },
  {
   "cell_type": "markdown",
   "source": [
    "Прочитайте файл 2017_jun_final.csv за допомогою методу read_csv"
   ],
   "metadata": {
    "collapsed": false
   },
   "id": "6717d30c74d2ce7d"
  },
  {
   "cell_type": "code",
   "execution_count": 16,
   "outputs": [],
   "source": [
    "data = pd.read_csv('2017_jun_final.csv')"
   ],
   "metadata": {
    "collapsed": false,
    "ExecuteTime": {
     "end_time": "2023-09-27T14:32:48.054820200Z",
     "start_time": "2023-09-27T14:32:47.767371400Z"
    }
   },
   "id": "2d049292e21d740d"
  },
  {
   "cell_type": "markdown",
   "source": [
    "Прочитайте отриману таблицю, використовуючи метод head"
   ],
   "metadata": {
    "collapsed": false
   },
   "id": "e91c0c53bd23b1c9"
  },
  {
   "cell_type": "code",
   "execution_count": 17,
   "outputs": [
    {
     "data": {
      "text/plain": "   N                 Должность Язык.программирования Специализация  \\\n0  1        Junior QA engineer                   NaN     Manual QA   \n1  2        Junior QA engineer                   NaN     Manual QA   \n2  3         Software Engineer               C#/.NET           NaN   \n3  4         Software Engineer            JavaScript           NaN   \n4  5  Senior Software Engineer            JavaScript           NaN   \n\n  Общий.опыт.работы Опыт.работы.на.текущем.месте  Зарплата.в.месяц  \\\n0               0.5                          0.5               400   \n1  меньше 3 месяцев             меньше 3 месяцев               430   \n2                 4                            1              2500   \n3                 5                            4              2000   \n4    10 и более лет                          0.5              4500   \n\n   Изменение.зарплаты.за.12.месяцев    Город     Размер.компании  ...  \\\n0                                 0  Харьков       до 10 человек  ...   \n1                               130  Харьков  свыше 1000 человек  ...   \n2                               800     Киев     до 1000 человек  ...   \n3                               400   Одесса      до 200 человек  ...   \n4                               500   Другой       до 10 человек  ...   \n\n  Еще.студент Уровень.английского                    Предметная.область  \\\n0        True       ниже среднего                         iOS,eCommerce   \n1        True       выше среднего                        Веб-разработка   \n2       False             средний  Веб-разработка,Корпоративные системы   \n3       False       ниже среднего   Desktop Applications,Веб-разработка   \n4       False             средний   Desktop Applications,Веб-разработка   \n\n       Дата.заполнения                                         User.Agent  \\\n0  12/06/2017 12:38:08  Mozilla/5.0 (Windows NT 10.0; Win64; x64) Appl...   \n1  12/06/2017 12:42:51  Mozilla/5.0 (iPad; CPU OS 10_2_1 like Mac OS X...   \n2  12/06/2017 13:02:47  Mozilla/5.0 (Windows NT 10.0; Win64; x64) Appl...   \n3  12/06/2017 13:03:01  Mozilla/5.0 (Windows NT 6.1; Win64; x64) Apple...   \n4  12/06/2017 13:03:47  Mozilla/5.0 (iPhone; CPU iPhone OS 10_3_2 like...   \n\n    exp current_job_exp salary Валюта  cls  \n0   0.5             0.5    400    NaN   QA  \n1   0.0             0.0    430    NaN   QA  \n2   4.0             1.0   2500    NaN  DEV  \n3   5.0             4.0   2000    NaN  DEV  \n4  10.0             0.5   4500    NaN  DEV  \n\n[5 rows x 25 columns]",
      "text/html": "<div>\n<style scoped>\n    .dataframe tbody tr th:only-of-type {\n        vertical-align: middle;\n    }\n\n    .dataframe tbody tr th {\n        vertical-align: top;\n    }\n\n    .dataframe thead th {\n        text-align: right;\n    }\n</style>\n<table border=\"1\" class=\"dataframe\">\n  <thead>\n    <tr style=\"text-align: right;\">\n      <th></th>\n      <th>N</th>\n      <th>Должность</th>\n      <th>Язык.программирования</th>\n      <th>Специализация</th>\n      <th>Общий.опыт.работы</th>\n      <th>Опыт.работы.на.текущем.месте</th>\n      <th>Зарплата.в.месяц</th>\n      <th>Изменение.зарплаты.за.12.месяцев</th>\n      <th>Город</th>\n      <th>Размер.компании</th>\n      <th>...</th>\n      <th>Еще.студент</th>\n      <th>Уровень.английского</th>\n      <th>Предметная.область</th>\n      <th>Дата.заполнения</th>\n      <th>User.Agent</th>\n      <th>exp</th>\n      <th>current_job_exp</th>\n      <th>salary</th>\n      <th>Валюта</th>\n      <th>cls</th>\n    </tr>\n  </thead>\n  <tbody>\n    <tr>\n      <th>0</th>\n      <td>1</td>\n      <td>Junior QA engineer</td>\n      <td>NaN</td>\n      <td>Manual QA</td>\n      <td>0.5</td>\n      <td>0.5</td>\n      <td>400</td>\n      <td>0</td>\n      <td>Харьков</td>\n      <td>до 10 человек</td>\n      <td>...</td>\n      <td>True</td>\n      <td>ниже среднего</td>\n      <td>iOS,eCommerce</td>\n      <td>12/06/2017 12:38:08</td>\n      <td>Mozilla/5.0 (Windows NT 10.0; Win64; x64) Appl...</td>\n      <td>0.5</td>\n      <td>0.5</td>\n      <td>400</td>\n      <td>NaN</td>\n      <td>QA</td>\n    </tr>\n    <tr>\n      <th>1</th>\n      <td>2</td>\n      <td>Junior QA engineer</td>\n      <td>NaN</td>\n      <td>Manual QA</td>\n      <td>меньше 3 месяцев</td>\n      <td>меньше 3 месяцев</td>\n      <td>430</td>\n      <td>130</td>\n      <td>Харьков</td>\n      <td>свыше 1000 человек</td>\n      <td>...</td>\n      <td>True</td>\n      <td>выше среднего</td>\n      <td>Веб-разработка</td>\n      <td>12/06/2017 12:42:51</td>\n      <td>Mozilla/5.0 (iPad; CPU OS 10_2_1 like Mac OS X...</td>\n      <td>0.0</td>\n      <td>0.0</td>\n      <td>430</td>\n      <td>NaN</td>\n      <td>QA</td>\n    </tr>\n    <tr>\n      <th>2</th>\n      <td>3</td>\n      <td>Software Engineer</td>\n      <td>C#/.NET</td>\n      <td>NaN</td>\n      <td>4</td>\n      <td>1</td>\n      <td>2500</td>\n      <td>800</td>\n      <td>Киев</td>\n      <td>до 1000 человек</td>\n      <td>...</td>\n      <td>False</td>\n      <td>средний</td>\n      <td>Веб-разработка,Корпоративные системы</td>\n      <td>12/06/2017 13:02:47</td>\n      <td>Mozilla/5.0 (Windows NT 10.0; Win64; x64) Appl...</td>\n      <td>4.0</td>\n      <td>1.0</td>\n      <td>2500</td>\n      <td>NaN</td>\n      <td>DEV</td>\n    </tr>\n    <tr>\n      <th>3</th>\n      <td>4</td>\n      <td>Software Engineer</td>\n      <td>JavaScript</td>\n      <td>NaN</td>\n      <td>5</td>\n      <td>4</td>\n      <td>2000</td>\n      <td>400</td>\n      <td>Одесса</td>\n      <td>до 200 человек</td>\n      <td>...</td>\n      <td>False</td>\n      <td>ниже среднего</td>\n      <td>Desktop Applications,Веб-разработка</td>\n      <td>12/06/2017 13:03:01</td>\n      <td>Mozilla/5.0 (Windows NT 6.1; Win64; x64) Apple...</td>\n      <td>5.0</td>\n      <td>4.0</td>\n      <td>2000</td>\n      <td>NaN</td>\n      <td>DEV</td>\n    </tr>\n    <tr>\n      <th>4</th>\n      <td>5</td>\n      <td>Senior Software Engineer</td>\n      <td>JavaScript</td>\n      <td>NaN</td>\n      <td>10 и более лет</td>\n      <td>0.5</td>\n      <td>4500</td>\n      <td>500</td>\n      <td>Другой</td>\n      <td>до 10 человек</td>\n      <td>...</td>\n      <td>False</td>\n      <td>средний</td>\n      <td>Desktop Applications,Веб-разработка</td>\n      <td>12/06/2017 13:03:47</td>\n      <td>Mozilla/5.0 (iPhone; CPU iPhone OS 10_3_2 like...</td>\n      <td>10.0</td>\n      <td>0.5</td>\n      <td>4500</td>\n      <td>NaN</td>\n      <td>DEV</td>\n    </tr>\n  </tbody>\n</table>\n<p>5 rows × 25 columns</p>\n</div>"
     },
     "execution_count": 17,
     "metadata": {},
     "output_type": "execute_result"
    }
   ],
   "source": [
    "data.head()"
   ],
   "metadata": {
    "collapsed": false,
    "ExecuteTime": {
     "end_time": "2023-09-27T14:32:48.076820300Z",
     "start_time": "2023-09-27T14:32:47.844982900Z"
    }
   },
   "id": "b9d1700901fcf47f"
  },
  {
   "cell_type": "markdown",
   "source": [
    "Визначте розмір таблиці за допомогою методу shape"
   ],
   "metadata": {
    "collapsed": false
   },
   "id": "4d7c298fa961a762"
  },
  {
   "cell_type": "code",
   "execution_count": 18,
   "outputs": [
    {
     "data": {
      "text/plain": "(8704, 25)"
     },
     "execution_count": 18,
     "metadata": {},
     "output_type": "execute_result"
    }
   ],
   "source": [
    "data.shape"
   ],
   "metadata": {
    "collapsed": false,
    "ExecuteTime": {
     "end_time": "2023-09-27T14:32:48.077820500Z",
     "start_time": "2023-09-27T14:32:47.868982600Z"
    }
   },
   "id": "3e491a732608d55f"
  },
  {
   "cell_type": "markdown",
   "source": [
    "Визначте типи всіх стовпців за допомогою dataframe.dtypes"
   ],
   "metadata": {
    "collapsed": false
   },
   "id": "8c2019add499e53d"
  },
  {
   "cell_type": "code",
   "execution_count": 19,
   "outputs": [
    {
     "data": {
      "text/plain": "N                                     int64\nДолжность                            object\nЯзык.программирования                object\nСпециализация                        object\nОбщий.опыт.работы                    object\nОпыт.работы.на.текущем.месте         object\nЗарплата.в.месяц                      int64\nИзменение.зарплаты.за.12.месяцев      int64\nГород                                object\nРазмер.компании                      object\nТип.компании                         object\nПол                                  object\nВозраст                               int64\nОбразование                          object\nУниверситет                          object\nЕще.студент                            bool\nУровень.английского                  object\nПредметная.область                   object\nДата.заполнения                      object\nUser.Agent                           object\nexp                                 float64\ncurrent_job_exp                     float64\nsalary                                int64\nВалюта                               object\ncls                                  object\ndtype: object"
     },
     "execution_count": 19,
     "metadata": {},
     "output_type": "execute_result"
    }
   ],
   "source": [
    "data.dtypes"
   ],
   "metadata": {
    "collapsed": false,
    "ExecuteTime": {
     "end_time": "2023-09-27T14:32:48.078910600Z",
     "start_time": "2023-09-27T14:32:47.877433100Z"
    }
   },
   "id": "648be2d22760690f"
  },
  {
   "cell_type": "markdown",
   "source": [
    "Порахуйте, яка частка пропусків міститься в кожній колонці (використовуйте методи isnull та sum)"
   ],
   "metadata": {
    "collapsed": false
   },
   "id": "ffd7d3ba232f12f7"
  },
  {
   "cell_type": "code",
   "execution_count": 20,
   "outputs": [
    {
     "data": {
      "text/plain": "N                                      0\nДолжность                              0\nЯзык.программирования               3850\nСпециализация                       7219\nОбщий.опыт.работы                      0\nОпыт.работы.на.текущем.месте           0\nЗарплата.в.месяц                       0\nИзменение.зарплаты.за.12.месяцев       0\nГород                                  0\nРазмер.компании                        0\nТип.компании                           0\nПол                                    0\nВозраст                                0\nОбразование                            0\nУниверситет                          358\nЕще.студент                            0\nУровень.английского                    0\nПредметная.область                   223\nДата.заполнения                        0\nUser.Agent                             0\nexp                                    0\ncurrent_job_exp                        0\nsalary                                 0\nВалюта                              8694\ncls                                 1574\ndtype: int64"
     },
     "execution_count": 20,
     "metadata": {},
     "output_type": "execute_result"
    }
   ],
   "source": [
    "data.isnull().sum()"
   ],
   "metadata": {
    "collapsed": false,
    "ExecuteTime": {
     "end_time": "2023-09-27T14:32:48.078910600Z",
     "start_time": "2023-09-27T14:32:47.886723400Z"
    }
   },
   "id": "80e334905a986a8d"
  },
  {
   "cell_type": "markdown",
   "source": [
    "Видаліть усі стовпці з пропусками, крім стовпця \"Мова програмування\""
   ],
   "metadata": {
    "collapsed": false
   },
   "id": "c72537c9e6b62a23"
  },
  {
   "cell_type": "code",
   "execution_count": 21,
   "outputs": [
    {
     "data": {
      "text/plain": "   N                 Должность Язык.программирования Общий.опыт.работы  \\\n0  1        Junior QA engineer                   NaN               0.5   \n1  2        Junior QA engineer                   NaN  меньше 3 месяцев   \n2  3         Software Engineer               C#/.NET                 4   \n3  4         Software Engineer            JavaScript                 5   \n4  5  Senior Software Engineer            JavaScript    10 и более лет   \n\n  Опыт.работы.на.текущем.месте  Зарплата.в.месяц  \\\n0                          0.5               400   \n1             меньше 3 месяцев               430   \n2                            1              2500   \n3                            4              2000   \n4                          0.5              4500   \n\n   Изменение.зарплаты.за.12.месяцев    Город     Размер.компании  \\\n0                                 0  Харьков       до 10 человек   \n1                               130  Харьков  свыше 1000 человек   \n2                               800     Киев     до 1000 человек   \n3                               400   Одесса      до 200 человек   \n4                               500   Другой       до 10 человек   \n\n     Тип.компании      Пол  Возраст           Образование  Еще.студент  \\\n0  Аутсорсинговая  женский       20  Незаконченное высшее         True   \n1  Аутсорсинговая  женский       21  Незаконченное высшее         True   \n2  Аутсорсинговая  мужской       26                Высшее        False   \n3     Продуктовая  мужской       30               Среднее        False   \n4     Продуктовая  мужской       30    Техникум / Колледж        False   \n\n  Уровень.английского      Дата.заполнения  \\\n0       ниже среднего  12/06/2017 12:38:08   \n1       выше среднего  12/06/2017 12:42:51   \n2             средний  12/06/2017 13:02:47   \n3       ниже среднего  12/06/2017 13:03:01   \n4             средний  12/06/2017 13:03:47   \n\n                                          User.Agent   exp  current_job_exp  \\\n0  Mozilla/5.0 (Windows NT 10.0; Win64; x64) Appl...   0.5              0.5   \n1  Mozilla/5.0 (iPad; CPU OS 10_2_1 like Mac OS X...   0.0              0.0   \n2  Mozilla/5.0 (Windows NT 10.0; Win64; x64) Appl...   4.0              1.0   \n3  Mozilla/5.0 (Windows NT 6.1; Win64; x64) Apple...   5.0              4.0   \n4  Mozilla/5.0 (iPhone; CPU iPhone OS 10_3_2 like...  10.0              0.5   \n\n   salary  \n0     400  \n1     430  \n2    2500  \n3    2000  \n4    4500  ",
      "text/html": "<div>\n<style scoped>\n    .dataframe tbody tr th:only-of-type {\n        vertical-align: middle;\n    }\n\n    .dataframe tbody tr th {\n        vertical-align: top;\n    }\n\n    .dataframe thead th {\n        text-align: right;\n    }\n</style>\n<table border=\"1\" class=\"dataframe\">\n  <thead>\n    <tr style=\"text-align: right;\">\n      <th></th>\n      <th>N</th>\n      <th>Должность</th>\n      <th>Язык.программирования</th>\n      <th>Общий.опыт.работы</th>\n      <th>Опыт.работы.на.текущем.месте</th>\n      <th>Зарплата.в.месяц</th>\n      <th>Изменение.зарплаты.за.12.месяцев</th>\n      <th>Город</th>\n      <th>Размер.компании</th>\n      <th>Тип.компании</th>\n      <th>Пол</th>\n      <th>Возраст</th>\n      <th>Образование</th>\n      <th>Еще.студент</th>\n      <th>Уровень.английского</th>\n      <th>Дата.заполнения</th>\n      <th>User.Agent</th>\n      <th>exp</th>\n      <th>current_job_exp</th>\n      <th>salary</th>\n    </tr>\n  </thead>\n  <tbody>\n    <tr>\n      <th>0</th>\n      <td>1</td>\n      <td>Junior QA engineer</td>\n      <td>NaN</td>\n      <td>0.5</td>\n      <td>0.5</td>\n      <td>400</td>\n      <td>0</td>\n      <td>Харьков</td>\n      <td>до 10 человек</td>\n      <td>Аутсорсинговая</td>\n      <td>женский</td>\n      <td>20</td>\n      <td>Незаконченное высшее</td>\n      <td>True</td>\n      <td>ниже среднего</td>\n      <td>12/06/2017 12:38:08</td>\n      <td>Mozilla/5.0 (Windows NT 10.0; Win64; x64) Appl...</td>\n      <td>0.5</td>\n      <td>0.5</td>\n      <td>400</td>\n    </tr>\n    <tr>\n      <th>1</th>\n      <td>2</td>\n      <td>Junior QA engineer</td>\n      <td>NaN</td>\n      <td>меньше 3 месяцев</td>\n      <td>меньше 3 месяцев</td>\n      <td>430</td>\n      <td>130</td>\n      <td>Харьков</td>\n      <td>свыше 1000 человек</td>\n      <td>Аутсорсинговая</td>\n      <td>женский</td>\n      <td>21</td>\n      <td>Незаконченное высшее</td>\n      <td>True</td>\n      <td>выше среднего</td>\n      <td>12/06/2017 12:42:51</td>\n      <td>Mozilla/5.0 (iPad; CPU OS 10_2_1 like Mac OS X...</td>\n      <td>0.0</td>\n      <td>0.0</td>\n      <td>430</td>\n    </tr>\n    <tr>\n      <th>2</th>\n      <td>3</td>\n      <td>Software Engineer</td>\n      <td>C#/.NET</td>\n      <td>4</td>\n      <td>1</td>\n      <td>2500</td>\n      <td>800</td>\n      <td>Киев</td>\n      <td>до 1000 человек</td>\n      <td>Аутсорсинговая</td>\n      <td>мужской</td>\n      <td>26</td>\n      <td>Высшее</td>\n      <td>False</td>\n      <td>средний</td>\n      <td>12/06/2017 13:02:47</td>\n      <td>Mozilla/5.0 (Windows NT 10.0; Win64; x64) Appl...</td>\n      <td>4.0</td>\n      <td>1.0</td>\n      <td>2500</td>\n    </tr>\n    <tr>\n      <th>3</th>\n      <td>4</td>\n      <td>Software Engineer</td>\n      <td>JavaScript</td>\n      <td>5</td>\n      <td>4</td>\n      <td>2000</td>\n      <td>400</td>\n      <td>Одесса</td>\n      <td>до 200 человек</td>\n      <td>Продуктовая</td>\n      <td>мужской</td>\n      <td>30</td>\n      <td>Среднее</td>\n      <td>False</td>\n      <td>ниже среднего</td>\n      <td>12/06/2017 13:03:01</td>\n      <td>Mozilla/5.0 (Windows NT 6.1; Win64; x64) Apple...</td>\n      <td>5.0</td>\n      <td>4.0</td>\n      <td>2000</td>\n    </tr>\n    <tr>\n      <th>4</th>\n      <td>5</td>\n      <td>Senior Software Engineer</td>\n      <td>JavaScript</td>\n      <td>10 и более лет</td>\n      <td>0.5</td>\n      <td>4500</td>\n      <td>500</td>\n      <td>Другой</td>\n      <td>до 10 человек</td>\n      <td>Продуктовая</td>\n      <td>мужской</td>\n      <td>30</td>\n      <td>Техникум / Колледж</td>\n      <td>False</td>\n      <td>средний</td>\n      <td>12/06/2017 13:03:47</td>\n      <td>Mozilla/5.0 (iPhone; CPU iPhone OS 10_3_2 like...</td>\n      <td>10.0</td>\n      <td>0.5</td>\n      <td>4500</td>\n    </tr>\n  </tbody>\n</table>\n</div>"
     },
     "execution_count": 21,
     "metadata": {},
     "output_type": "execute_result"
    }
   ],
   "source": [
    "columns_with_nulls = data.isnull().sum() == 0 # looking for columns which have no NaN\n",
    "columns_with_nulls['Язык.программирования'] = True # setting Язык.программирования as column that we want to leave\n",
    "filtered_data = data.loc[:, columns_with_nulls] # creating new df without columns with nulls (Язык.программирования excluded) \n",
    "filtered_data.head()"
   ],
   "metadata": {
    "collapsed": false,
    "ExecuteTime": {
     "end_time": "2023-09-27T14:32:48.079909200Z",
     "start_time": "2023-09-27T14:32:47.922310Z"
    }
   },
   "id": "255351c83d496415"
  },
  {
   "cell_type": "markdown",
   "source": [
    "Видаліть усі рядки у вихідній таблиці за допомогою методу dropna"
   ],
   "metadata": {
    "collapsed": false
   },
   "id": "46611555a44d822a"
  },
  {
   "cell_type": "code",
   "execution_count": 22,
   "outputs": [],
   "source": [
    "filtered_data = filtered_data.dropna(how= 'any')"
   ],
   "metadata": {
    "collapsed": false,
    "ExecuteTime": {
     "end_time": "2023-09-27T14:32:48.079909200Z",
     "start_time": "2023-09-27T14:32:47.972081100Z"
    }
   },
   "id": "a0a75eb11b1a5d9f"
  },
  {
   "cell_type": "markdown",
   "source": [
    "Визначте новий розмір таблиці за допомогою методу shape"
   ],
   "metadata": {
    "collapsed": false
   },
   "id": "e200483dbc9d493"
  },
  {
   "cell_type": "code",
   "execution_count": 23,
   "outputs": [
    {
     "name": "stdout",
     "output_type": "stream",
     "text": [
      "data: rows - 8704, columns - 25.\n",
      "filtered data: rows - 4854, columns - 20.\n"
     ]
    }
   ],
   "source": [
    "data_shape = data.shape\n",
    "filtered_data_shape = filtered_data.shape\n",
    "print(f'data: rows - {data_shape[0]}, columns - {data_shape[1]}.')\n",
    "print(f'filtered data: rows - {filtered_data_shape[0]}, columns - {filtered_data_shape[1]}.')"
   ],
   "metadata": {
    "collapsed": false,
    "ExecuteTime": {
     "end_time": "2023-09-27T14:32:48.079909200Z",
     "start_time": "2023-09-27T14:32:47.999081400Z"
    }
   },
   "id": "78a303924e62d68a"
  },
  {
   "cell_type": "code",
   "execution_count": 24,
   "outputs": [
    {
     "data": {
      "text/plain": "       N                 Должность Язык.программирования Общий.опыт.работы  \\\n12    13         Software Engineer                Python                 1   \n68    69         Software Engineer                Python               1.5   \n87    88  Junior Software Engineer                Python               0.5   \n114  115  Junior Software Engineer                Python               1.5   \n143  144  Junior Software Engineer                Python                 1   \n\n    Опыт.работы.на.текущем.месте  Зарплата.в.месяц  \\\n12              меньше 3 месяцев               800   \n68                           0.5               900   \n87                           0.5               600   \n114                          0.5               685   \n143                            1               750   \n\n     Изменение.зарплаты.за.12.месяцев Город  Размер.компании    Тип.компании  \\\n12                                200  Киев    до 50 человек  Аутсорсинговая   \n68                                900  Киев    до 10 человек         Стартап   \n87                                  0  Киев    до 10 человек  Аутсорсинговая   \n114                               250  Киев  до 1000 человек  Аутсорсинговая   \n143                               250  Киев    до 10 человек  Аутсорсинговая   \n\n         Пол  Возраст           Образование  Еще.студент Уровень.английского  \\\n12   мужской       26                Высшее        False       ниже среднего   \n68   мужской       21  Незаконченное высшее         True       выше среднего   \n87   мужской       19  Незаконченное высшее         True       выше среднего   \n114  мужской       21  Незаконченное высшее        False             средний   \n143  мужской       21  Незаконченное высшее         True       выше среднего   \n\n         Дата.заполнения                                         User.Agent  \\\n12   12/06/2017 13:05:54  Mozilla/5.0 (Windows NT 6.1; Win64; x64) Apple...   \n68   12/06/2017 13:11:17  Mozilla/5.0 (Windows NT 10.0; Win64; x64) Appl...   \n87   12/06/2017 13:12:25  Mozilla/5.0 (X11; Linux x86_64) AppleWebKit/53...   \n114  12/06/2017 13:14:52  Mozilla/5.0 (X11; Linux x86_64) AppleWebKit/53...   \n143  12/06/2017 13:19:10  Mozilla/5.0 (X11; Linux x86_64) AppleWebKit/53...   \n\n     exp  current_job_exp  salary  \n12   1.0              0.0     800  \n68   1.5              0.5     900  \n87   0.5              0.5     600  \n114  1.5              0.5     685  \n143  1.0              1.0     750  ",
      "text/html": "<div>\n<style scoped>\n    .dataframe tbody tr th:only-of-type {\n        vertical-align: middle;\n    }\n\n    .dataframe tbody tr th {\n        vertical-align: top;\n    }\n\n    .dataframe thead th {\n        text-align: right;\n    }\n</style>\n<table border=\"1\" class=\"dataframe\">\n  <thead>\n    <tr style=\"text-align: right;\">\n      <th></th>\n      <th>N</th>\n      <th>Должность</th>\n      <th>Язык.программирования</th>\n      <th>Общий.опыт.работы</th>\n      <th>Опыт.работы.на.текущем.месте</th>\n      <th>Зарплата.в.месяц</th>\n      <th>Изменение.зарплаты.за.12.месяцев</th>\n      <th>Город</th>\n      <th>Размер.компании</th>\n      <th>Тип.компании</th>\n      <th>Пол</th>\n      <th>Возраст</th>\n      <th>Образование</th>\n      <th>Еще.студент</th>\n      <th>Уровень.английского</th>\n      <th>Дата.заполнения</th>\n      <th>User.Agent</th>\n      <th>exp</th>\n      <th>current_job_exp</th>\n      <th>salary</th>\n    </tr>\n  </thead>\n  <tbody>\n    <tr>\n      <th>12</th>\n      <td>13</td>\n      <td>Software Engineer</td>\n      <td>Python</td>\n      <td>1</td>\n      <td>меньше 3 месяцев</td>\n      <td>800</td>\n      <td>200</td>\n      <td>Киев</td>\n      <td>до 50 человек</td>\n      <td>Аутсорсинговая</td>\n      <td>мужской</td>\n      <td>26</td>\n      <td>Высшее</td>\n      <td>False</td>\n      <td>ниже среднего</td>\n      <td>12/06/2017 13:05:54</td>\n      <td>Mozilla/5.0 (Windows NT 6.1; Win64; x64) Apple...</td>\n      <td>1.0</td>\n      <td>0.0</td>\n      <td>800</td>\n    </tr>\n    <tr>\n      <th>68</th>\n      <td>69</td>\n      <td>Software Engineer</td>\n      <td>Python</td>\n      <td>1.5</td>\n      <td>0.5</td>\n      <td>900</td>\n      <td>900</td>\n      <td>Киев</td>\n      <td>до 10 человек</td>\n      <td>Стартап</td>\n      <td>мужской</td>\n      <td>21</td>\n      <td>Незаконченное высшее</td>\n      <td>True</td>\n      <td>выше среднего</td>\n      <td>12/06/2017 13:11:17</td>\n      <td>Mozilla/5.0 (Windows NT 10.0; Win64; x64) Appl...</td>\n      <td>1.5</td>\n      <td>0.5</td>\n      <td>900</td>\n    </tr>\n    <tr>\n      <th>87</th>\n      <td>88</td>\n      <td>Junior Software Engineer</td>\n      <td>Python</td>\n      <td>0.5</td>\n      <td>0.5</td>\n      <td>600</td>\n      <td>0</td>\n      <td>Киев</td>\n      <td>до 10 человек</td>\n      <td>Аутсорсинговая</td>\n      <td>мужской</td>\n      <td>19</td>\n      <td>Незаконченное высшее</td>\n      <td>True</td>\n      <td>выше среднего</td>\n      <td>12/06/2017 13:12:25</td>\n      <td>Mozilla/5.0 (X11; Linux x86_64) AppleWebKit/53...</td>\n      <td>0.5</td>\n      <td>0.5</td>\n      <td>600</td>\n    </tr>\n    <tr>\n      <th>114</th>\n      <td>115</td>\n      <td>Junior Software Engineer</td>\n      <td>Python</td>\n      <td>1.5</td>\n      <td>0.5</td>\n      <td>685</td>\n      <td>250</td>\n      <td>Киев</td>\n      <td>до 1000 человек</td>\n      <td>Аутсорсинговая</td>\n      <td>мужской</td>\n      <td>21</td>\n      <td>Незаконченное высшее</td>\n      <td>False</td>\n      <td>средний</td>\n      <td>12/06/2017 13:14:52</td>\n      <td>Mozilla/5.0 (X11; Linux x86_64) AppleWebKit/53...</td>\n      <td>1.5</td>\n      <td>0.5</td>\n      <td>685</td>\n    </tr>\n    <tr>\n      <th>143</th>\n      <td>144</td>\n      <td>Junior Software Engineer</td>\n      <td>Python</td>\n      <td>1</td>\n      <td>1</td>\n      <td>750</td>\n      <td>250</td>\n      <td>Киев</td>\n      <td>до 10 человек</td>\n      <td>Аутсорсинговая</td>\n      <td>мужской</td>\n      <td>21</td>\n      <td>Незаконченное высшее</td>\n      <td>True</td>\n      <td>выше среднего</td>\n      <td>12/06/2017 13:19:10</td>\n      <td>Mozilla/5.0 (X11; Linux x86_64) AppleWebKit/53...</td>\n      <td>1.0</td>\n      <td>1.0</td>\n      <td>750</td>\n    </tr>\n  </tbody>\n</table>\n</div>"
     },
     "execution_count": 24,
     "metadata": {},
     "output_type": "execute_result"
    }
   ],
   "source": [
    "python_data = filtered_data[filtered_data['Язык.программирования'] == 'Python']\n",
    "python_data.head()"
   ],
   "metadata": {
    "collapsed": false,
    "ExecuteTime": {
     "end_time": "2023-09-27T14:32:48.080909500Z",
     "start_time": "2023-09-27T14:32:48.005648600Z"
    }
   },
   "id": "5ad2d4c6c45f12"
  },
  {
   "cell_type": "markdown",
   "source": [
    "Визначте розмір таблиці python_data за допомогою методу shape"
   ],
   "metadata": {
    "collapsed": false
   },
   "id": "a392cb00b5c7e1e1"
  },
  {
   "cell_type": "code",
   "execution_count": 25,
   "outputs": [
    {
     "name": "stdout",
     "output_type": "stream",
     "text": [
      "python data: rows - 207, columns - 20.\n"
     ]
    }
   ],
   "source": [
    "python_data_shape = python_data.shape\n",
    "print(f'python data: rows - {python_data_shape[0]}, columns - {python_data_shape[1]}.')"
   ],
   "metadata": {
    "collapsed": false,
    "ExecuteTime": {
     "end_time": "2023-09-27T14:32:48.081915500Z",
     "start_time": "2023-09-27T14:32:48.031648600Z"
    }
   },
   "id": "bf525c33f04b5d4b"
  },
  {
   "cell_type": "markdown",
   "source": [
    "Використовуючи метод groupby, виконайте групування за стовпчиком \"Посада\"\n",
    "\n",
    "Створіть новий DataFrame, де для згрупованих даних за стовпчиком \"Посада\", виконайте агрегацію даних за допомогою методу agg і знайдіть мінімальне та максимальне значення у стовпчику \"Зарплата.в.місяць\""
   ],
   "metadata": {
    "collapsed": false
   },
   "id": "a510f433c51720d5"
  },
  {
   "cell_type": "code",
   "execution_count": 26,
   "outputs": [
    {
     "data": {
      "text/plain": "                           min   max         mean  count\nДолжность                                               \nJunior Software Engineer   100  1250   560.841270     63\nSenior Software Engineer  1300  9200  3387.096774     31\nSoftware Engineer          500  5400  1799.070000    100\nSystem Architect          3000  5000  4000.000000      2\nTechnical Lead            1425  6200  3165.909091     11",
      "text/html": "<div>\n<style scoped>\n    .dataframe tbody tr th:only-of-type {\n        vertical-align: middle;\n    }\n\n    .dataframe tbody tr th {\n        vertical-align: top;\n    }\n\n    .dataframe thead th {\n        text-align: right;\n    }\n</style>\n<table border=\"1\" class=\"dataframe\">\n  <thead>\n    <tr style=\"text-align: right;\">\n      <th></th>\n      <th>min</th>\n      <th>max</th>\n      <th>mean</th>\n      <th>count</th>\n    </tr>\n    <tr>\n      <th>Должность</th>\n      <th></th>\n      <th></th>\n      <th></th>\n      <th></th>\n    </tr>\n  </thead>\n  <tbody>\n    <tr>\n      <th>Junior Software Engineer</th>\n      <td>100</td>\n      <td>1250</td>\n      <td>560.841270</td>\n      <td>63</td>\n    </tr>\n    <tr>\n      <th>Senior Software Engineer</th>\n      <td>1300</td>\n      <td>9200</td>\n      <td>3387.096774</td>\n      <td>31</td>\n    </tr>\n    <tr>\n      <th>Software Engineer</th>\n      <td>500</td>\n      <td>5400</td>\n      <td>1799.070000</td>\n      <td>100</td>\n    </tr>\n    <tr>\n      <th>System Architect</th>\n      <td>3000</td>\n      <td>5000</td>\n      <td>4000.000000</td>\n      <td>2</td>\n    </tr>\n    <tr>\n      <th>Technical Lead</th>\n      <td>1425</td>\n      <td>6200</td>\n      <td>3165.909091</td>\n      <td>11</td>\n    </tr>\n  </tbody>\n</table>\n</div>"
     },
     "execution_count": 26,
     "metadata": {},
     "output_type": "execute_result"
    }
   ],
   "source": [
    "grouped = python_data.groupby('Должность')\n",
    "position_aggregated_data = grouped['Зарплата.в.месяц'].agg(['min', 'max', 'mean', 'count'])\n",
    "position_aggregated_data"
   ],
   "metadata": {
    "collapsed": false,
    "ExecuteTime": {
     "end_time": "2023-09-27T14:32:48.081915500Z",
     "start_time": "2023-09-27T14:32:48.037820600Z"
    }
   },
   "id": "4b94bf266c535d36"
  },
  {
   "cell_type": "markdown",
   "source": [
    "Створіть функцію fill_avg_salary, яка повертатиме середнє значення заробітної плати на місяць. Використовуйте її для методу apply та створіть новий стовпчик \"avg\""
   ],
   "metadata": {
    "collapsed": false
   },
   "id": "7cfcc006da69146e"
  },
  {
   "cell_type": "code",
   "execution_count": 27,
   "outputs": [],
   "source": [
    "# я не знаю що тут робити\n",
    "# середнє значення зарплати є у попередній таблиці\n",
    "def fill_avg_salary():\n",
    "    pass"
   ],
   "metadata": {
    "collapsed": false,
    "ExecuteTime": {
     "end_time": "2023-09-27T14:32:48.106914400Z",
     "start_time": "2023-09-27T14:32:48.052819300Z"
    }
   },
   "id": "56a002147d4e9f92"
  },
  {
   "cell_type": "markdown",
   "source": [
    "Створіть описову статистику за допомогою методу describe для нового стовпчика."
   ],
   "metadata": {
    "collapsed": false
   },
   "id": "a0d2ffc03d6bab0c"
  },
  {
   "cell_type": "code",
   "execution_count": 28,
   "outputs": [
    {
     "data": {
      "text/plain": "count       5.000000\nmean     2582.583427\nstd      1387.255829\nmin       560.841270\n25%      1799.070000\n50%      3165.909091\n75%      3387.096774\nmax      4000.000000\nName: mean, dtype: float64"
     },
     "execution_count": 28,
     "metadata": {},
     "output_type": "execute_result"
    }
   ],
   "source": [
    "statistics = position_aggregated_data['mean'].describe()\n",
    "statistics"
   ],
   "metadata": {
    "collapsed": false,
    "ExecuteTime": {
     "end_time": "2023-09-27T14:32:48.125908800Z",
     "start_time": "2023-09-27T14:32:48.058820100Z"
    }
   },
   "id": "228b4bb542401c10"
  },
  {
   "cell_type": "markdown",
   "source": [
    "Збережіть отриману таблицю в CSV файл"
   ],
   "metadata": {
    "collapsed": false
   },
   "id": "1a8c641049c63cc3"
  },
  {
   "cell_type": "code",
   "execution_count": 29,
   "outputs": [
    {
     "name": "stdout",
     "output_type": "stream",
     "text": [
      "Data saved to position_salary_statistics.csv.\n"
     ]
    }
   ],
   "source": [
    "filename: str = 'position_salary_statistics.csv'\n",
    "position_aggregated_data.to_csv(filename, index=True)\n",
    "print(f'Data saved to {filename}.')\n"
   ],
   "metadata": {
    "collapsed": false,
    "ExecuteTime": {
     "end_time": "2023-09-27T14:32:48.276909200Z",
     "start_time": "2023-09-27T14:32:48.069819900Z"
    }
   },
   "id": "f8a7c6b9f6f42d67"
  },
  {
   "cell_type": "code",
   "execution_count": 29,
   "outputs": [],
   "source": [],
   "metadata": {
    "collapsed": false,
    "ExecuteTime": {
     "end_time": "2023-09-27T14:32:48.323930600Z",
     "start_time": "2023-09-27T14:32:48.078395300Z"
    }
   },
   "id": "16cf074f01bd2b79"
  }
 ],
 "metadata": {
  "kernelspec": {
   "display_name": "Python 3",
   "language": "python",
   "name": "python3"
  },
  "language_info": {
   "codemirror_mode": {
    "name": "ipython",
    "version": 2
   },
   "file_extension": ".py",
   "mimetype": "text/x-python",
   "name": "python",
   "nbconvert_exporter": "python",
   "pygments_lexer": "ipython2",
   "version": "2.7.6"
  }
 },
 "nbformat": 4,
 "nbformat_minor": 5
}
