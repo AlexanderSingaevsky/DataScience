{
 "cells": [
  {
   "cell_type": "code",
   "execution_count": 2,
   "id": "initial_id",
   "metadata": {
    "collapsed": true,
    "ExecuteTime": {
     "end_time": "2023-09-27T16:32:46.235356200Z",
     "start_time": "2023-09-27T16:32:44.555882500Z"
    }
   },
   "outputs": [],
   "source": [
    "%matplotlib inline\n",
    "import numpy as np\n",
    "import pandas as pd\n",
    "import matplotlib.pyplot as plt"
   ]
  },
  {
   "cell_type": "code",
   "execution_count": 3,
   "outputs": [],
   "source": [
    "books_data = pd.read_csv('bestsellers with categories.csv')"
   ],
   "metadata": {
    "collapsed": false,
    "ExecuteTime": {
     "end_time": "2023-09-27T16:32:46.259675300Z",
     "start_time": "2023-09-27T16:32:46.239355100Z"
    }
   },
   "id": "1ad65b77e7263f8b"
  },
  {
   "cell_type": "code",
   "execution_count": 4,
   "outputs": [
    {
     "data": {
      "text/plain": "                                                Name  \\\n0                      10-Day Green Smoothie Cleanse   \n1                                  11/22/63: A Novel   \n2            12 Rules for Life: An Antidote to Chaos   \n3                             1984 (Signet Classics)   \n4  5,000 Awesome Facts (About Everything!) (Natio...   \n\n                     Author  User Rating  Reviews  Price  Year        Genre  \n0                  JJ Smith          4.7    17350      8  2016  Non Fiction  \n1              Stephen King          4.6     2052     22  2011      Fiction  \n2        Jordan B. Peterson          4.7    18979     15  2018  Non Fiction  \n3             George Orwell          4.7    21424      6  2017      Fiction  \n4  National Geographic Kids          4.8     7665     12  2019  Non Fiction  ",
      "text/html": "<div>\n<style scoped>\n    .dataframe tbody tr th:only-of-type {\n        vertical-align: middle;\n    }\n\n    .dataframe tbody tr th {\n        vertical-align: top;\n    }\n\n    .dataframe thead th {\n        text-align: right;\n    }\n</style>\n<table border=\"1\" class=\"dataframe\">\n  <thead>\n    <tr style=\"text-align: right;\">\n      <th></th>\n      <th>Name</th>\n      <th>Author</th>\n      <th>User Rating</th>\n      <th>Reviews</th>\n      <th>Price</th>\n      <th>Year</th>\n      <th>Genre</th>\n    </tr>\n  </thead>\n  <tbody>\n    <tr>\n      <th>0</th>\n      <td>10-Day Green Smoothie Cleanse</td>\n      <td>JJ Smith</td>\n      <td>4.7</td>\n      <td>17350</td>\n      <td>8</td>\n      <td>2016</td>\n      <td>Non Fiction</td>\n    </tr>\n    <tr>\n      <th>1</th>\n      <td>11/22/63: A Novel</td>\n      <td>Stephen King</td>\n      <td>4.6</td>\n      <td>2052</td>\n      <td>22</td>\n      <td>2011</td>\n      <td>Fiction</td>\n    </tr>\n    <tr>\n      <th>2</th>\n      <td>12 Rules for Life: An Antidote to Chaos</td>\n      <td>Jordan B. Peterson</td>\n      <td>4.7</td>\n      <td>18979</td>\n      <td>15</td>\n      <td>2018</td>\n      <td>Non Fiction</td>\n    </tr>\n    <tr>\n      <th>3</th>\n      <td>1984 (Signet Classics)</td>\n      <td>George Orwell</td>\n      <td>4.7</td>\n      <td>21424</td>\n      <td>6</td>\n      <td>2017</td>\n      <td>Fiction</td>\n    </tr>\n    <tr>\n      <th>4</th>\n      <td>5,000 Awesome Facts (About Everything!) (Natio...</td>\n      <td>National Geographic Kids</td>\n      <td>4.8</td>\n      <td>7665</td>\n      <td>12</td>\n      <td>2019</td>\n      <td>Non Fiction</td>\n    </tr>\n  </tbody>\n</table>\n</div>"
     },
     "execution_count": 4,
     "metadata": {},
     "output_type": "execute_result"
    }
   ],
   "source": [
    "books_data.head()"
   ],
   "metadata": {
    "collapsed": false,
    "ExecuteTime": {
     "end_time": "2023-09-27T16:32:46.277555300Z",
     "start_time": "2023-09-27T16:32:46.256675900Z"
    }
   },
   "id": "673cbe5dfbf68cf7"
  },
  {
   "cell_type": "code",
   "execution_count": 5,
   "outputs": [
    {
     "data": {
      "text/plain": "(550, 7)"
     },
     "execution_count": 5,
     "metadata": {},
     "output_type": "execute_result"
    }
   ],
   "source": [
    "books_data.shape"
   ],
   "metadata": {
    "collapsed": false,
    "ExecuteTime": {
     "end_time": "2023-09-27T16:32:46.289332900Z",
     "start_time": "2023-09-27T16:32:46.276554700Z"
    }
   },
   "id": "a950c1ec55903e15"
  },
  {
   "cell_type": "code",
   "execution_count": 6,
   "outputs": [],
   "source": [
    "books_data = books_data.drop_duplicates(subset='Name')"
   ],
   "metadata": {
    "collapsed": false,
    "ExecuteTime": {
     "end_time": "2023-09-27T16:32:46.317068Z",
     "start_time": "2023-09-27T16:32:46.286054Z"
    }
   },
   "id": "6ce9ecc8b508e7e4"
  },
  {
   "cell_type": "code",
   "execution_count": 7,
   "outputs": [
    {
     "data": {
      "text/plain": "(351, 7)"
     },
     "execution_count": 7,
     "metadata": {},
     "output_type": "execute_result"
    }
   ],
   "source": [
    "books_data.shape"
   ],
   "metadata": {
    "collapsed": false,
    "ExecuteTime": {
     "end_time": "2023-09-27T16:32:46.317068Z",
     "start_time": "2023-09-27T16:32:46.293357500Z"
    }
   },
   "id": "82243f854795ca54"
  },
  {
   "cell_type": "code",
   "execution_count": 8,
   "outputs": [],
   "source": [
    "books_data.columns = ['name', 'author', 'user_rating', 'reviews', 'price', 'year', 'genre']"
   ],
   "metadata": {
    "collapsed": false,
    "ExecuteTime": {
     "end_time": "2023-09-27T16:32:46.354586500Z",
     "start_time": "2023-09-27T16:32:46.301390800Z"
    }
   },
   "id": "406bd50dec762479"
  },
  {
   "cell_type": "markdown",
   "source": [
    "# Первинне дослідження даних"
   ],
   "metadata": {
    "collapsed": false
   },
   "id": "60e0dff2f0dcaca8"
  },
  {
   "cell_type": "code",
   "execution_count": 9,
   "outputs": [
    {
     "data": {
      "text/plain": "name            object\nauthor          object\nuser_rating    float64\nreviews          int64\nprice            int64\nyear             int64\ngenre           object\ndtype: object"
     },
     "execution_count": 9,
     "metadata": {},
     "output_type": "execute_result"
    }
   ],
   "source": [
    "books_data.dtypes"
   ],
   "metadata": {
    "collapsed": false,
    "ExecuteTime": {
     "end_time": "2023-09-27T16:32:46.354586500Z",
     "start_time": "2023-09-27T16:32:46.307903700Z"
    }
   },
   "id": "aad86095e8ecdb7d"
  },
  {
   "cell_type": "code",
   "execution_count": 10,
   "outputs": [
    {
     "data": {
      "text/plain": "name           0\nauthor         0\nuser_rating    0\nreviews        0\nprice          0\nyear           0\ngenre          0\ndtype: int64"
     },
     "execution_count": 10,
     "metadata": {},
     "output_type": "execute_result"
    }
   ],
   "source": [
    "books_data_nans = books_data.isna().sum()\n",
    "books_data_nans"
   ],
   "metadata": {
    "collapsed": false,
    "ExecuteTime": {
     "end_time": "2023-09-27T16:32:46.392587800Z",
     "start_time": "2023-09-27T16:32:46.317068Z"
    }
   },
   "id": "ceec64f5e93014a5"
  },
  {
   "cell_type": "code",
   "execution_count": 11,
   "outputs": [
    {
     "data": {
      "text/plain": "array(['Non Fiction', 'Fiction'], dtype=object)"
     },
     "execution_count": 11,
     "metadata": {},
     "output_type": "execute_result"
    }
   ],
   "source": [
    "unique_genres = books_data[\"genre\"].unique()\n",
    "unique_genres"
   ],
   "metadata": {
    "collapsed": false,
    "ExecuteTime": {
     "end_time": "2023-09-27T16:32:46.448586900Z",
     "start_time": "2023-09-27T16:32:46.326274Z"
    }
   },
   "id": "9f8b3249a696ce7"
  },
  {
   "cell_type": "code",
   "execution_count": 12,
   "outputs": [
    {
     "data": {
      "text/plain": "<Figure size 640x480 with 1 Axes>",
      "image/png": "[encoded data removed]"
     },
     "metadata": {},
     "output_type": "display_data"
    }
   ],
   "source": [
    "# Тепер подивіться на розподіл цін: побудуйте діаграму (використовуйте kind='hist')\n",
    "books_data['price'] = pd.to_numeric(books_data['price'], errors='coerce')\n",
    "books_data['price'].plot(kind='hist', bins='fd', edgecolor='black' )\n",
    "plt.title('Розподіл цін')\n",
    "plt.xlabel('Ціна')\n",
    "plt.ylabel('Кількість книг')\n",
    "plt.show()"
   ],
   "metadata": {
    "collapsed": false,
    "ExecuteTime": {
     "end_time": "2023-09-27T16:32:46.770127900Z",
     "start_time": "2023-09-27T16:32:46.335588600Z"
    }
   },
   "id": "8b6dbda0c3202a67"
  },
  {
   "cell_type": "code",
   "execution_count": 13,
   "outputs": [
    {
     "data": {
      "text/plain": "max       105.000000\nmin         0.000000\nmean       13.076923\nmedian     12.000000\nName: price, dtype: float64"
     },
     "execution_count": 13,
     "metadata": {},
     "output_type": "execute_result"
    }
   ],
   "source": [
    "price_stats = books_data['price'].agg(['max', 'min', 'mean', 'median'])\n",
    "price_stats"
   ],
   "metadata": {
    "collapsed": false,
    "ExecuteTime": {
     "end_time": "2023-09-27T16:32:46.786570400Z",
     "start_time": "2023-09-27T16:32:46.771127700Z"
    }
   },
   "id": "f3bdc57ae0a852d5"
  },
  {
   "cell_type": "markdown",
   "source": [
    "# Первинне дослідження даних (Summary)"
   ],
   "metadata": {
    "collapsed": false
   },
   "id": "e2de2198342d914c"
  },
  {
   "cell_type": "code",
   "execution_count": 14,
   "outputs": [
    {
     "name": "stdout",
     "output_type": "stream",
     "text": [
      "Чи є в якихось змінних пропуски? Відповідь: Ні\n",
      "Які є унікальні жанри?  Відповідь:  Non Fiction, Fiction\n",
      "Максимальна ціна? Відповідь: 105.0\n",
      "Мінімальна ціна? Відповідь: 0.0\n",
      "Середня ціна? Відповідь: 13.077\n",
      "Медіанна ціна? Відповідь: 12.0\n"
     ]
    }
   ],
   "source": [
    "print(f'Чи є в якихось змінних пропуски? Відповідь: {\"Так\" if books_data_nans.sum() !=0 else \"Ні\"}')\n",
    "print(f'Які є унікальні жанри?  Відповідь:  {\", \".join(unique_genres)}')\n",
    "print(f'Максимальна ціна? Відповідь: {price_stats[0]}')\n",
    "print(f'Мінімальна ціна? Відповідь: {price_stats[1]}')\n",
    "print(f'Середня ціна? Відповідь: {price_stats[2].round(3)}')\n",
    "print(f'Медіанна ціна? Відповідь: {price_stats[3]}')\n"
   ],
   "metadata": {
    "collapsed": false,
    "ExecuteTime": {
     "end_time": "2023-09-27T16:32:46.791570200Z",
     "start_time": "2023-09-27T16:32:46.781862100Z"
    }
   },
   "id": "4ae468ac1a375e29"
  },
  {
   "cell_type": "markdown",
   "source": [
    "# Пошук та сортування даних"
   ],
   "metadata": {
    "collapsed": false
   },
   "id": "ae1b6b574dd261a9"
  },
  {
   "cell_type": "code",
   "execution_count": 15,
   "outputs": [
    {
     "data": {
      "text/plain": "4.9"
     },
     "execution_count": 15,
     "metadata": {},
     "output_type": "execute_result"
    }
   ],
   "source": [
    "# Який рейтинг у датасеті найвищий?\n",
    "max_rating = books_data['user_rating'].max()\n",
    "max_rating"
   ],
   "metadata": {
    "collapsed": false,
    "ExecuteTime": {
     "end_time": "2023-09-27T16:32:46.904551500Z",
     "start_time": "2023-09-27T16:32:46.792569400Z"
    }
   },
   "id": "aff034a1bf354ab8"
  },
  {
   "cell_type": "code",
   "execution_count": 16,
   "outputs": [
    {
     "data": {
      "text/plain": "28"
     },
     "execution_count": 16,
     "metadata": {},
     "output_type": "execute_result"
    }
   ],
   "source": [
    "# Скільки книг мають такий рейтинг?\n",
    "books_max_rating = (books_data[books_data['user_rating'] == max_rating])\n",
    "books_max_rating_count = len(books_max_rating)\n",
    "books_max_rating_count"
   ],
   "metadata": {
    "collapsed": false,
    "ExecuteTime": {
     "end_time": "2023-09-27T16:32:46.904551500Z",
     "start_time": "2023-09-27T16:32:46.800885600Z"
    }
   },
   "id": "9c27cb080d4966f5"
  },
  {
   "cell_type": "code",
   "execution_count": 17,
   "outputs": [
    {
     "data": {
      "text/plain": "                        name       author  user_rating  reviews  price  year  \\\n534  Where the Crawdads Sing  Delia Owens          4.8    87841     15  2019   \n\n       genre  \n534  Fiction  ",
      "text/html": "<div>\n<style scoped>\n    .dataframe tbody tr th:only-of-type {\n        vertical-align: middle;\n    }\n\n    .dataframe tbody tr th {\n        vertical-align: top;\n    }\n\n    .dataframe thead th {\n        text-align: right;\n    }\n</style>\n<table border=\"1\" class=\"dataframe\">\n  <thead>\n    <tr style=\"text-align: right;\">\n      <th></th>\n      <th>name</th>\n      <th>author</th>\n      <th>user_rating</th>\n      <th>reviews</th>\n      <th>price</th>\n      <th>year</th>\n      <th>genre</th>\n    </tr>\n  </thead>\n  <tbody>\n    <tr>\n      <th>534</th>\n      <td>Where the Crawdads Sing</td>\n      <td>Delia Owens</td>\n      <td>4.8</td>\n      <td>87841</td>\n      <td>15</td>\n      <td>2019</td>\n      <td>Fiction</td>\n    </tr>\n  </tbody>\n</table>\n</div>"
     },
     "execution_count": 17,
     "metadata": {},
     "output_type": "execute_result"
    }
   ],
   "source": [
    "# Яка книга має найбільше відгуків?\n",
    "max_reviews = books_data['reviews'].max()\n",
    "book_with_max_reviews = books_data[books_data['reviews']==max_reviews]\n",
    "book_with_max_reviews"
   ],
   "metadata": {
    "collapsed": false,
    "ExecuteTime": {
     "end_time": "2023-09-27T16:32:46.904551500Z",
     "start_time": "2023-09-27T16:32:46.813955700Z"
    }
   },
   "id": "f748d7cba319b633"
  },
  {
   "cell_type": "code",
   "execution_count": 18,
   "outputs": [
    {
     "data": {
      "text/plain": "                           name      author  user_rating  reviews  price  \\\n132  Go Set a Watchman: A Novel  Harper Lee          3.6    14982     19   \n\n     year    genre  \n132  2015  Fiction  ",
      "text/html": "<div>\n<style scoped>\n    .dataframe tbody tr th:only-of-type {\n        vertical-align: middle;\n    }\n\n    .dataframe tbody tr th {\n        vertical-align: top;\n    }\n\n    .dataframe thead th {\n        text-align: right;\n    }\n</style>\n<table border=\"1\" class=\"dataframe\">\n  <thead>\n    <tr style=\"text-align: right;\">\n      <th></th>\n      <th>name</th>\n      <th>author</th>\n      <th>user_rating</th>\n      <th>reviews</th>\n      <th>price</th>\n      <th>year</th>\n      <th>genre</th>\n    </tr>\n  </thead>\n  <tbody>\n    <tr>\n      <th>132</th>\n      <td>Go Set a Watchman: A Novel</td>\n      <td>Harper Lee</td>\n      <td>3.6</td>\n      <td>14982</td>\n      <td>19</td>\n      <td>2015</td>\n      <td>Fiction</td>\n    </tr>\n  </tbody>\n</table>\n</div>"
     },
     "execution_count": 18,
     "metadata": {},
     "output_type": "execute_result"
    }
   ],
   "source": [
    "# З тих книг, що потрапили до Топ-50 у 2015 році, яка книга найдорожча (можна використати проміжний датафрейм)?\n",
    "year = 2015\n",
    "top_50_year = books_data[books_data['year'] == year].head(50)\n",
    "max_price = top_50_year['price'].max()\n",
    "book_with_max_price_year = top_50_year[top_50_year['price'] == max_price]\n",
    "book_with_max_price_year"
   ],
   "metadata": {
    "collapsed": false,
    "ExecuteTime": {
     "end_time": "2023-09-27T16:32:46.905551600Z",
     "start_time": "2023-09-27T16:32:46.827410200Z"
    }
   },
   "id": "84f5e878cb75e08f"
  },
  {
   "cell_type": "code",
   "execution_count": 19,
   "outputs": [
    {
     "data": {
      "text/plain": "17"
     },
     "execution_count": 19,
     "metadata": {},
     "output_type": "execute_result"
    }
   ],
   "source": [
    "# Скільки книг жанру Fiction потрапили до Топ-50 у 2010 році (використовуйте &)? \n",
    "year = 2010\n",
    "genre = 'Fiction'\n",
    "genre_in_year = books_data[(books_data['year'] == year) & (books_data['genre']== genre)]\n",
    "genre_in_year_count = len(genre_in_year)\n",
    "genre_in_year_count"
   ],
   "metadata": {
    "collapsed": false,
    "ExecuteTime": {
     "end_time": "2023-09-27T16:32:46.905551600Z",
     "start_time": "2023-09-27T16:32:46.851202400Z"
    }
   },
   "id": "ada4700018a717ce"
  },
  {
   "cell_type": "code",
   "execution_count": 20,
   "outputs": [
    {
     "data": {
      "text/plain": "1"
     },
     "execution_count": 20,
     "metadata": {},
     "output_type": "execute_result"
    }
   ],
   "source": [
    "# Скільки книг з рейтингом 4.9 потрапило до рейтингу у 2010 та 2011 роках (використовуйте | або функцію isin)?\n",
    "years = [2010, 2011]\n",
    "rating = 4.9\n",
    "books_with_rating_in_years = books_data[(books_data['user_rating'] == float(rating)) & (books_data['year'].isin(years))]\n",
    "books_with_rating_in_years_count = len(books_with_rating_in_years)\n",
    "books_with_rating_in_years_count"
   ],
   "metadata": {
    "collapsed": false,
    "ExecuteTime": {
     "end_time": "2023-09-27T16:32:46.906643800Z",
     "start_time": "2023-09-27T16:32:46.861374300Z"
    }
   },
   "id": "26aa36ef7a78ceff"
  },
  {
   "cell_type": "code",
   "execution_count": 21,
   "outputs": [
    {
     "data": {
      "text/plain": "                                                  name           author  \\\n54   Creative Haven Creative Cats Coloring Book (Ad...  Marjorie Sarnat   \n123                               Giraffes Can't Dance    Giles Andreae   \n28                        Baby Touch and Feel: Animals               DK   \n55   Creative Haven Owls Coloring Book (Adult Color...  Marjorie Sarnat   \n63                      Dear Zoo: A Lift-the-Flap Book     Rod Campbell   \n\n     user_rating  reviews  price  year        genre  \n54           4.8     4022      4  2015  Non Fiction  \n123          4.8    14038      4  2015      Fiction  \n28           4.6     5360      5  2015  Non Fiction  \n55           4.8     3871      5  2015  Non Fiction  \n63           4.8    10922      5  2015      Fiction  ",
      "text/html": "<div>\n<style scoped>\n    .dataframe tbody tr th:only-of-type {\n        vertical-align: middle;\n    }\n\n    .dataframe tbody tr th {\n        vertical-align: top;\n    }\n\n    .dataframe thead th {\n        text-align: right;\n    }\n</style>\n<table border=\"1\" class=\"dataframe\">\n  <thead>\n    <tr style=\"text-align: right;\">\n      <th></th>\n      <th>name</th>\n      <th>author</th>\n      <th>user_rating</th>\n      <th>reviews</th>\n      <th>price</th>\n      <th>year</th>\n      <th>genre</th>\n    </tr>\n  </thead>\n  <tbody>\n    <tr>\n      <th>54</th>\n      <td>Creative Haven Creative Cats Coloring Book (Ad...</td>\n      <td>Marjorie Sarnat</td>\n      <td>4.8</td>\n      <td>4022</td>\n      <td>4</td>\n      <td>2015</td>\n      <td>Non Fiction</td>\n    </tr>\n    <tr>\n      <th>123</th>\n      <td>Giraffes Can't Dance</td>\n      <td>Giles Andreae</td>\n      <td>4.8</td>\n      <td>14038</td>\n      <td>4</td>\n      <td>2015</td>\n      <td>Fiction</td>\n    </tr>\n    <tr>\n      <th>28</th>\n      <td>Baby Touch and Feel: Animals</td>\n      <td>DK</td>\n      <td>4.6</td>\n      <td>5360</td>\n      <td>5</td>\n      <td>2015</td>\n      <td>Non Fiction</td>\n    </tr>\n    <tr>\n      <th>55</th>\n      <td>Creative Haven Owls Coloring Book (Adult Color...</td>\n      <td>Marjorie Sarnat</td>\n      <td>4.8</td>\n      <td>3871</td>\n      <td>5</td>\n      <td>2015</td>\n      <td>Non Fiction</td>\n    </tr>\n    <tr>\n      <th>63</th>\n      <td>Dear Zoo: A Lift-the-Flap Book</td>\n      <td>Rod Campbell</td>\n      <td>4.8</td>\n      <td>10922</td>\n      <td>5</td>\n      <td>2015</td>\n      <td>Fiction</td>\n    </tr>\n  </tbody>\n</table>\n</div>"
     },
     "execution_count": 21,
     "metadata": {},
     "output_type": "execute_result"
    }
   ],
   "source": [
    "# І насамкінець, давайте відсортуємо за зростанням ціни всі книги, які потрапили до рейтингу в 2015 році і коштують дешевше за 8 доларів (використовуйте функцію sort_values).\n",
    "year = 2015\n",
    "max_price = 8\n",
    "books_with_max_cost_in_year = books_data[(books_data['year']==year) & (books_data['price'] < max_price)].sort_values(by='price', ascending=True)\n",
    "books_with_max_cost_in_year.head()"
   ],
   "metadata": {
    "collapsed": false,
    "ExecuteTime": {
     "end_time": "2023-09-27T16:32:46.907641200Z",
     "start_time": "2023-09-27T16:32:46.870488100Z"
    }
   },
   "id": "1ba4123c047ee98c"
  },
  {
   "cell_type": "code",
   "execution_count": 22,
   "outputs": [
    {
     "data": {
      "text/plain": "                                      name       author  user_rating  reviews  \\\n253  Old School (Diary of a Wimpy Kid #10)  Jeff Kinney          4.8     6169   \n\n     price  year    genre  \n253      7  2015  Fiction  ",
      "text/html": "<div>\n<style scoped>\n    .dataframe tbody tr th:only-of-type {\n        vertical-align: middle;\n    }\n\n    .dataframe tbody tr th {\n        vertical-align: top;\n    }\n\n    .dataframe thead th {\n        text-align: right;\n    }\n</style>\n<table border=\"1\" class=\"dataframe\">\n  <thead>\n    <tr style=\"text-align: right;\">\n      <th></th>\n      <th>name</th>\n      <th>author</th>\n      <th>user_rating</th>\n      <th>reviews</th>\n      <th>price</th>\n      <th>year</th>\n      <th>genre</th>\n    </tr>\n  </thead>\n  <tbody>\n    <tr>\n      <th>253</th>\n      <td>Old School (Diary of a Wimpy Kid #10)</td>\n      <td>Jeff Kinney</td>\n      <td>4.8</td>\n      <td>6169</td>\n      <td>7</td>\n      <td>2015</td>\n      <td>Fiction</td>\n    </tr>\n  </tbody>\n</table>\n</div>"
     },
     "execution_count": 22,
     "metadata": {},
     "output_type": "execute_result"
    }
   ],
   "source": [
    "#  Яка книга остання у відсортованому списку?\n",
    "books_with_max_cost_in_year[-1:]"
   ],
   "metadata": {
    "collapsed": false,
    "ExecuteTime": {
     "end_time": "2023-09-27T16:32:46.907641200Z",
     "start_time": "2023-09-27T16:32:46.887552100Z"
    }
   },
   "id": "2404285a1f293307"
  },
  {
   "cell_type": "markdown",
   "source": [
    "# Пошук та сортування даних (Summary)"
   ],
   "metadata": {
    "collapsed": false
   },
   "id": "75ee4f1027805f47"
  },
  {
   "cell_type": "code",
   "execution_count": 23,
   "outputs": [
    {
     "name": "stdout",
     "output_type": "stream",
     "text": [
      "Який рейтинг у датасеті найвищий? Відповідь: 4.9\n",
      "Скільки книг мають такий рейтинг? Відповідь: 28\n",
      "Яка книга має найбільше відгуків? Відповідь: Where the Crawdads Sing\n",
      "З тих книг, що потрапили до Топ-50 у 2015 році, яка книга найдорожча? Відповідь: Go Set a Watchman: A Novel\n",
      "Скільки книг жанру Fiction потрапили до Топ-50 у 2010 році? Відповідь: 17\n",
      "Скільки книг з рейтингом 4.9 потрапило до рейтингу у 2010 та 2011 роках? Відповідь: 1\n",
      "Яка книга остання у відсортованому списку? Відповідь: Old School (Diary of a Wimpy Kid #10)\n"
     ]
    }
   ],
   "source": [
    "print(f'Який рейтинг у датасеті найвищий? Відповідь: {max_rating}')\n",
    "print(f'Скільки книг мають такий рейтинг? Відповідь: {books_max_rating_count}')\n",
    "print(f'Яка книга має найбільше відгуків? Відповідь: {book_with_max_reviews[\"name\"].iloc[0]}')\n",
    "print(f'З тих книг, що потрапили до Топ-50 у 2015 році, яка книга найдорожча? Відповідь: {book_with_max_price_year[\"name\"].iloc[0]}')\n",
    "print(f'Скільки книг жанру Fiction потрапили до Топ-50 у 2010 році? Відповідь: {genre_in_year_count}')\n",
    "print(f'Скільки книг з рейтингом 4.9 потрапило до рейтингу у 2010 та 2011 роках? Відповідь: {books_with_rating_in_years_count}')\n",
    "print(f'Яка книга остання у відсортованому списку? Відповідь: {books_with_max_cost_in_year[-1:][\"name\"].iloc[0]}')"
   ],
   "metadata": {
    "collapsed": false,
    "ExecuteTime": {
     "end_time": "2023-09-27T16:32:46.983149700Z",
     "start_time": "2023-09-27T16:32:46.901552Z"
    }
   },
   "id": "6ec28967eea13103"
  }
 ],
 "metadata": {
  "kernelspec": {
   "display_name": "Python 3",
   "language": "python",
   "name": "python3"
  },
  "language_info": {
   "codemirror_mode": {
    "name": "ipython",
    "version": 2
   },
   "file_extension": ".py",
   "mimetype": "text/x-python",
   "name": "python",
   "nbconvert_exporter": "python",
   "pygments_lexer": "ipython2",
   "version": "2.7.6"
  }
 },
 "nbformat": 4,
 "nbformat_minor": 5
}
