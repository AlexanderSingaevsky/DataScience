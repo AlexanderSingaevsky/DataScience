{
 "cells": [
  {
   "cell_type": "markdown",
   "source": [
    "# Частина третя: Аналіз датасет c Kaggle.com\n",
    "dataset link: https://www.kaggle.com/datasets/sootersaalu/amazon-top-50-bestselling-books-2009-2019"
   ],
   "metadata": {
    "collapsed": false
   },
   "id": "4d190f8bd2bd4ae"
  },
  {
   "cell_type": "code",
   "execution_count": 1,
   "id": "initial_id",
   "metadata": {
    "collapsed": true,
    "ExecuteTime": {
     "end_time": "2023-09-28T09:58:08.076756400Z",
     "start_time": "2023-09-28T09:58:06.513092200Z"
    }
   },
   "outputs": [],
   "source": [
    "%matplotlib inline\n",
    "import pandas as pd\n",
    "import matplotlib.pyplot as plt"
   ]
  },
  {
   "cell_type": "markdown",
   "source": [
    "Для цієї вправи ми використовуємо дані за Топ-50 рейтингом книг, що найбільше продаються на Amazon за 11 років (з 2009 по 2019). Датасет знаходиться у відкритому доступі на Kaggle.com. Завантажте файл csv за посиланням і перемістіть його в ту саму директорію, де знаходиться ваш робочий ноутбук (для зручності"
   ],
   "metadata": {
    "collapsed": false
   },
   "id": "c4d4c9001eb4ede8"
  },
  {
   "cell_type": "markdown",
   "source": [
    "books_data.head()"
   ],
   "metadata": {
    "collapsed": false
   },
   "id": "b97b2ef8c72a7b42"
  },
  {
   "cell_type": "code",
   "execution_count": 2,
   "outputs": [
    {
     "data": {
      "text/plain": "                                                Name  \\\n0                      10-Day Green Smoothie Cleanse   \n1                                  11/22/63: A Novel   \n2            12 Rules for Life: An Antidote to Chaos   \n3                             1984 (Signet Classics)   \n4  5,000 Awesome Facts (About Everything!) (Natio...   \n\n                     Author  User Rating  Reviews  Price  Year        Genre  \n0                  JJ Smith          4.7    17350      8  2016  Non Fiction  \n1              Stephen King          4.6     2052     22  2011      Fiction  \n2        Jordan B. Peterson          4.7    18979     15  2018  Non Fiction  \n3             George Orwell          4.7    21424      6  2017      Fiction  \n4  National Geographic Kids          4.8     7665     12  2019  Non Fiction  ",
      "text/html": "<div>\n<style scoped>\n    .dataframe tbody tr th:only-of-type {\n        vertical-align: middle;\n    }\n\n    .dataframe tbody tr th {\n        vertical-align: top;\n    }\n\n    .dataframe thead th {\n        text-align: right;\n    }\n</style>\n<table border=\"1\" class=\"dataframe\">\n  <thead>\n    <tr style=\"text-align: right;\">\n      <th></th>\n      <th>Name</th>\n      <th>Author</th>\n      <th>User Rating</th>\n      <th>Reviews</th>\n      <th>Price</th>\n      <th>Year</th>\n      <th>Genre</th>\n    </tr>\n  </thead>\n  <tbody>\n    <tr>\n      <th>0</th>\n      <td>10-Day Green Smoothie Cleanse</td>\n      <td>JJ Smith</td>\n      <td>4.7</td>\n      <td>17350</td>\n      <td>8</td>\n      <td>2016</td>\n      <td>Non Fiction</td>\n    </tr>\n    <tr>\n      <th>1</th>\n      <td>11/22/63: A Novel</td>\n      <td>Stephen King</td>\n      <td>4.6</td>\n      <td>2052</td>\n      <td>22</td>\n      <td>2011</td>\n      <td>Fiction</td>\n    </tr>\n    <tr>\n      <th>2</th>\n      <td>12 Rules for Life: An Antidote to Chaos</td>\n      <td>Jordan B. Peterson</td>\n      <td>4.7</td>\n      <td>18979</td>\n      <td>15</td>\n      <td>2018</td>\n      <td>Non Fiction</td>\n    </tr>\n    <tr>\n      <th>3</th>\n      <td>1984 (Signet Classics)</td>\n      <td>George Orwell</td>\n      <td>4.7</td>\n      <td>21424</td>\n      <td>6</td>\n      <td>2017</td>\n      <td>Fiction</td>\n    </tr>\n    <tr>\n      <th>4</th>\n      <td>5,000 Awesome Facts (About Everything!) (Natio...</td>\n      <td>National Geographic Kids</td>\n      <td>4.8</td>\n      <td>7665</td>\n      <td>12</td>\n      <td>2019</td>\n      <td>Non Fiction</td>\n    </tr>\n  </tbody>\n</table>\n</div>"
     },
     "execution_count": 2,
     "metadata": {},
     "output_type": "execute_result"
    }
   ],
   "source": [
    "books_data = pd.read_csv('bestsellers with categories.csv')\n",
    "books_data.head()"
   ],
   "metadata": {
    "collapsed": false,
    "ExecuteTime": {
     "end_time": "2023-09-28T09:58:08.126818300Z",
     "start_time": "2023-09-28T09:58:08.079756700Z"
    }
   },
   "id": "1ad65b77e7263f8b"
  },
  {
   "cell_type": "code",
   "execution_count": 3,
   "outputs": [
    {
     "data": {
      "text/plain": "(550, 7)"
     },
     "execution_count": 3,
     "metadata": {},
     "output_type": "execute_result"
    }
   ],
   "source": [
    "books_data.shape"
   ],
   "metadata": {
    "collapsed": false,
    "ExecuteTime": {
     "end_time": "2023-09-28T09:58:08.127818300Z",
     "start_time": "2023-09-28T09:58:08.106895Z"
    }
   },
   "id": "a950c1ec55903e15"
  },
  {
   "cell_type": "code",
   "execution_count": 4,
   "outputs": [],
   "source": [
    "# remove duplicates by name\n",
    "books_data = books_data.drop_duplicates(subset='Name')"
   ],
   "metadata": {
    "collapsed": false,
    "ExecuteTime": {
     "end_time": "2023-09-28T09:58:08.128100100Z",
     "start_time": "2023-09-28T09:58:08.114832200Z"
    }
   },
   "id": "6ce9ecc8b508e7e4"
  },
  {
   "cell_type": "code",
   "execution_count": 5,
   "outputs": [
    {
     "data": {
      "text/plain": "(351, 7)"
     },
     "execution_count": 5,
     "metadata": {},
     "output_type": "execute_result"
    }
   ],
   "source": [
    "books_data.shape"
   ],
   "metadata": {
    "collapsed": false,
    "ExecuteTime": {
     "end_time": "2023-09-28T09:58:08.161883200Z",
     "start_time": "2023-09-28T09:58:08.124818Z"
    }
   },
   "id": "82243f854795ca54"
  },
  {
   "cell_type": "markdown",
   "source": [
    "Для спрощення подальшої роботи давайте трохи підправимо назви змінних. Як бачите, тут усі назви починаються з великої літери, а одна - навіть містить пробіл. Це дуже небажано і може бути досить незручним. Давайте змінимо регістр на малий, а пробіл замінимо на нижнє підкреслення (snake_style). А заразом і вивчимо корисний атрибут датафрейму: columns (можна просто присвоїти список нових імен цьому атрибуту)"
   ],
   "metadata": {
    "collapsed": false
   },
   "id": "fcbaec497fc3cf39"
  },
  {
   "cell_type": "code",
   "execution_count": 6,
   "outputs": [],
   "source": [
    "books_data.columns = ['name', 'author', 'user_rating', 'reviews', 'price', 'year', 'genre']"
   ],
   "metadata": {
    "collapsed": false,
    "ExecuteTime": {
     "end_time": "2023-09-28T09:58:08.161883200Z",
     "start_time": "2023-09-28T09:58:08.132615Z"
    }
   },
   "id": "406bd50dec762479"
  },
  {
   "cell_type": "markdown",
   "source": [
    "## Первинне дослідження даних"
   ],
   "metadata": {
    "collapsed": false
   },
   "id": "60e0dff2f0dcaca8"
  },
  {
   "cell_type": "code",
   "execution_count": 7,
   "outputs": [
    {
     "data": {
      "text/plain": "name            object\nauthor          object\nuser_rating    float64\nreviews          int64\nprice            int64\nyear             int64\ngenre           object\ndtype: object"
     },
     "execution_count": 7,
     "metadata": {},
     "output_type": "execute_result"
    }
   ],
   "source": [
    "books_data.dtypes"
   ],
   "metadata": {
    "collapsed": false,
    "ExecuteTime": {
     "end_time": "2023-09-28T09:58:08.162790400Z",
     "start_time": "2023-09-28T09:58:08.137749700Z"
    }
   },
   "id": "aad86095e8ecdb7d"
  },
  {
   "cell_type": "code",
   "execution_count": 8,
   "outputs": [
    {
     "data": {
      "text/plain": "name           0\nauthor         0\nuser_rating    0\nreviews        0\nprice          0\nyear           0\ngenre          0\ndtype: int64"
     },
     "execution_count": 8,
     "metadata": {},
     "output_type": "execute_result"
    }
   ],
   "source": [
    "books_data_nans = books_data.isna().sum()\n",
    "books_data_nans"
   ],
   "metadata": {
    "collapsed": false,
    "ExecuteTime": {
     "end_time": "2023-09-28T09:58:08.218790900Z",
     "start_time": "2023-09-28T09:58:08.146913100Z"
    }
   },
   "id": "ceec64f5e93014a5"
  },
  {
   "cell_type": "code",
   "execution_count": 9,
   "outputs": [
    {
     "data": {
      "text/plain": "array(['Non Fiction', 'Fiction'], dtype=object)"
     },
     "execution_count": 9,
     "metadata": {},
     "output_type": "execute_result"
    }
   ],
   "source": [
    "unique_genres = books_data[\"genre\"].unique()\n",
    "unique_genres"
   ],
   "metadata": {
    "collapsed": false,
    "ExecuteTime": {
     "end_time": "2023-09-28T09:58:08.220791200Z",
     "start_time": "2023-09-28T09:58:08.155276500Z"
    }
   },
   "id": "9f8b3249a696ce7"
  },
  {
   "cell_type": "code",
   "execution_count": 10,
   "outputs": [
    {
     "data": {
      "text/plain": "<Figure size 640x480 with 1 Axes>",
      "image/png": "[encoded data removed]"
     },
     "metadata": {},
     "output_type": "display_data"
    }
   ],
   "source": [
    "# Тепер подивіться на розподіл цін: побудуйте діаграму (використовуйте kind='hist')\n",
    "books_data['price'] = pd.to_numeric(books_data['price'], errors='coerce')\n",
    "books_data['price'].plot(kind='hist', bins='fd', edgecolor='black' )\n",
    "plt.title('Розподіл цін')\n",
    "plt.xlabel('Ціна')\n",
    "plt.ylabel('Кількість книг')\n",
    "plt.show()"
   ],
   "metadata": {
    "collapsed": false,
    "ExecuteTime": {
     "end_time": "2023-09-28T09:58:08.503474100Z",
     "start_time": "2023-09-28T09:58:08.164791100Z"
    }
   },
   "id": "8b6dbda0c3202a67"
  },
  {
   "cell_type": "code",
   "execution_count": 11,
   "outputs": [
    {
     "data": {
      "text/plain": "max       105.000000\nmin         0.000000\nmean       13.076923\nmedian     12.000000\nName: price, dtype: float64"
     },
     "execution_count": 11,
     "metadata": {},
     "output_type": "execute_result"
    }
   ],
   "source": [
    "price_stats = books_data['price'].agg(['max', 'min', 'mean', 'median'])\n",
    "price_stats"
   ],
   "metadata": {
    "collapsed": false,
    "ExecuteTime": {
     "end_time": "2023-09-28T09:58:08.516379200Z",
     "start_time": "2023-09-28T09:58:08.503474100Z"
    }
   },
   "id": "f3bdc57ae0a852d5"
  },
  {
   "cell_type": "markdown",
   "source": [
    "## Первинне дослідження даних (Summary)"
   ],
   "metadata": {
    "collapsed": false
   },
   "id": "e2de2198342d914c"
  },
  {
   "cell_type": "code",
   "execution_count": 12,
   "outputs": [
    {
     "name": "stdout",
     "output_type": "stream",
     "text": [
      "Про скільки книг зберігає дані датасет?\n",
      "\tВідповідь: 351\n",
      "Чи є в якихось змінних пропуски?\n",
      "\tВідповідь: Ні\n",
      "Які є унікальні жанри?\n",
      "\tВідповідь:  Non Fiction, Fiction\n",
      "Максимальна ціна?\n",
      "\tВідповідь: 105.0\n",
      "Мінімальна ціна?\n",
      "\tВідповідь: 0.0\n",
      "Середня ціна?\n",
      "\tВідповідь: 13.077\n",
      "Медіанна ціна?\n",
      "\tВідповідь: 12.0\n"
     ]
    }
   ],
   "source": [
    "print(f'Про скільки книг зберігає дані датасет?\\n\\tВідповідь: {books_data.shape[0]}')\n",
    "print(f'Чи є в якихось змінних пропуски?\\n\\tВідповідь: {\"Так\" if books_data_nans.sum() !=0 else \"Ні\"}')\n",
    "print(f'Які є унікальні жанри?\\n\\tВідповідь:  {\", \".join(unique_genres)}')\n",
    "print(f'Максимальна ціна?\\n\\tВідповідь: {price_stats[0]}')\n",
    "print(f'Мінімальна ціна?\\n\\tВідповідь: {price_stats[1]}')\n",
    "print(f'Середня ціна?\\n\\tВідповідь: {price_stats[2].round(3)}')\n",
    "print(f'Медіанна ціна?\\n\\tВідповідь: {price_stats[3]}')\n"
   ],
   "metadata": {
    "collapsed": false,
    "ExecuteTime": {
     "end_time": "2023-09-28T09:58:08.523792700Z",
     "start_time": "2023-09-28T09:58:08.515379200Z"
    }
   },
   "id": "4ae468ac1a375e29"
  },
  {
   "cell_type": "markdown",
   "source": [
    "## Пошук та сортування даних"
   ],
   "metadata": {
    "collapsed": false
   },
   "id": "ae1b6b574dd261a9"
  },
  {
   "cell_type": "code",
   "execution_count": 13,
   "outputs": [
    {
     "data": {
      "text/plain": "4.9"
     },
     "execution_count": 13,
     "metadata": {},
     "output_type": "execute_result"
    }
   ],
   "source": [
    "# Який рейтинг у датасеті найвищий?\n",
    "max_rating = books_data['user_rating'].max()\n",
    "max_rating"
   ],
   "metadata": {
    "collapsed": false,
    "ExecuteTime": {
     "end_time": "2023-09-28T09:58:08.657185800Z",
     "start_time": "2023-09-28T09:58:08.524791700Z"
    }
   },
   "id": "aff034a1bf354ab8"
  },
  {
   "cell_type": "code",
   "execution_count": 14,
   "outputs": [
    {
     "data": {
      "text/plain": "28"
     },
     "execution_count": 14,
     "metadata": {},
     "output_type": "execute_result"
    }
   ],
   "source": [
    "# Скільки книг мають такий рейтинг?\n",
    "books_max_rating = (books_data[books_data['user_rating'] == max_rating])\n",
    "books_max_rating_count = len(books_max_rating)\n",
    "books_max_rating_count"
   ],
   "metadata": {
    "collapsed": false,
    "ExecuteTime": {
     "end_time": "2023-09-28T09:58:08.659182500Z",
     "start_time": "2023-09-28T09:58:08.535324100Z"
    }
   },
   "id": "9c27cb080d4966f5"
  },
  {
   "cell_type": "code",
   "execution_count": 15,
   "outputs": [
    {
     "data": {
      "text/plain": "                        name       author  user_rating  reviews  price  year  \\\n534  Where the Crawdads Sing  Delia Owens          4.8    87841     15  2019   \n\n       genre  \n534  Fiction  ",
      "text/html": "<div>\n<style scoped>\n    .dataframe tbody tr th:only-of-type {\n        vertical-align: middle;\n    }\n\n    .dataframe tbody tr th {\n        vertical-align: top;\n    }\n\n    .dataframe thead th {\n        text-align: right;\n    }\n</style>\n<table border=\"1\" class=\"dataframe\">\n  <thead>\n    <tr style=\"text-align: right;\">\n      <th></th>\n      <th>name</th>\n      <th>author</th>\n      <th>user_rating</th>\n      <th>reviews</th>\n      <th>price</th>\n      <th>year</th>\n      <th>genre</th>\n    </tr>\n  </thead>\n  <tbody>\n    <tr>\n      <th>534</th>\n      <td>Where the Crawdads Sing</td>\n      <td>Delia Owens</td>\n      <td>4.8</td>\n      <td>87841</td>\n      <td>15</td>\n      <td>2019</td>\n      <td>Fiction</td>\n    </tr>\n  </tbody>\n</table>\n</div>"
     },
     "execution_count": 15,
     "metadata": {},
     "output_type": "execute_result"
    }
   ],
   "source": [
    "# Яка книга має найбільше відгуків?\n",
    "max_reviews = books_data['reviews'].max()\n",
    "book_with_max_reviews = books_data[books_data['reviews']==max_reviews]\n",
    "book_with_max_reviews"
   ],
   "metadata": {
    "collapsed": false,
    "ExecuteTime": {
     "end_time": "2023-09-28T09:58:08.660183400Z",
     "start_time": "2023-09-28T09:58:08.544107600Z"
    }
   },
   "id": "f748d7cba319b633"
  },
  {
   "cell_type": "code",
   "execution_count": 16,
   "outputs": [
    {
     "data": {
      "text/plain": "                           name      author  user_rating  reviews  price  \\\n132  Go Set a Watchman: A Novel  Harper Lee          3.6    14982     19   \n\n     year    genre  \n132  2015  Fiction  ",
      "text/html": "<div>\n<style scoped>\n    .dataframe tbody tr th:only-of-type {\n        vertical-align: middle;\n    }\n\n    .dataframe tbody tr th {\n        vertical-align: top;\n    }\n\n    .dataframe thead th {\n        text-align: right;\n    }\n</style>\n<table border=\"1\" class=\"dataframe\">\n  <thead>\n    <tr style=\"text-align: right;\">\n      <th></th>\n      <th>name</th>\n      <th>author</th>\n      <th>user_rating</th>\n      <th>reviews</th>\n      <th>price</th>\n      <th>year</th>\n      <th>genre</th>\n    </tr>\n  </thead>\n  <tbody>\n    <tr>\n      <th>132</th>\n      <td>Go Set a Watchman: A Novel</td>\n      <td>Harper Lee</td>\n      <td>3.6</td>\n      <td>14982</td>\n      <td>19</td>\n      <td>2015</td>\n      <td>Fiction</td>\n    </tr>\n  </tbody>\n</table>\n</div>"
     },
     "execution_count": 16,
     "metadata": {},
     "output_type": "execute_result"
    }
   ],
   "source": [
    "# З тих книг, що потрапили до Топ-50 у 2015 році, яка книга найдорожча (можна використати проміжний датафрейм)?\n",
    "year = 2015\n",
    "top_50_year = books_data[books_data['year'] == year].sort_values(by='price', ascending=False).head(50)\n",
    "max_price = top_50_year['price'].max()\n",
    "book_with_max_price_year = top_50_year[top_50_year['price'] == max_price]\n",
    "book_with_max_price_year"
   ],
   "metadata": {
    "collapsed": false,
    "ExecuteTime": {
     "end_time": "2023-09-28T09:58:08.660183400Z",
     "start_time": "2023-09-28T09:58:08.558145900Z"
    }
   },
   "id": "84f5e878cb75e08f"
  },
  {
   "cell_type": "code",
   "execution_count": 17,
   "outputs": [
    {
     "data": {
      "text/plain": "17"
     },
     "execution_count": 17,
     "metadata": {},
     "output_type": "execute_result"
    }
   ],
   "source": [
    "# Скільки книг жанру Fiction потрапили до Топ-50 у 2010 році? \n",
    "year = 2010\n",
    "genre = 'Fiction'\n",
    "top_50_year = books_data[books_data['year'] == year].sort_values(by='price', ascending=False).head(50)\n",
    "genre_in_top_50_year = top_50_year[top_50_year['genre']== genre]\n",
    "genre_in_top_50_year_count = len(genre_in_top_50_year)\n",
    "genre_in_top_50_year_count"
   ],
   "metadata": {
    "collapsed": false,
    "ExecuteTime": {
     "end_time": "2023-09-28T09:58:08.661184300Z",
     "start_time": "2023-09-28T09:58:08.572500400Z"
    }
   },
   "id": "ada4700018a717ce"
  },
  {
   "cell_type": "code",
   "execution_count": 18,
   "outputs": [
    {
     "data": {
      "text/plain": "1"
     },
     "execution_count": 18,
     "metadata": {},
     "output_type": "execute_result"
    }
   ],
   "source": [
    "# Скільки книг з рейтингом 4.9 потрапило до рейтингу у 2010 та 2011 роках (використовуйте | або функцію isin)?\n",
    "years = [2010, 2011]\n",
    "rating = 4.9\n",
    "books_with_rating_in_years = books_data[(books_data['user_rating'] == float(rating)) & (books_data['year'].isin(years))]\n",
    "books_with_rating_in_years_count = len(books_with_rating_in_years)\n",
    "books_with_rating_in_years_count"
   ],
   "metadata": {
    "collapsed": false,
    "ExecuteTime": {
     "end_time": "2023-09-28T09:58:08.661184300Z",
     "start_time": "2023-09-28T09:58:08.585014500Z"
    }
   },
   "id": "26aa36ef7a78ceff"
  },
  {
   "cell_type": "code",
   "execution_count": 19,
   "outputs": [
    {
     "data": {
      "text/plain": "                                                  name           author  \\\n54   Creative Haven Creative Cats Coloring Book (Ad...  Marjorie Sarnat   \n123                               Giraffes Can't Dance    Giles Andreae   \n28                        Baby Touch and Feel: Animals               DK   \n55   Creative Haven Owls Coloring Book (Adult Color...  Marjorie Sarnat   \n63                      Dear Zoo: A Lift-the-Flap Book     Rod Campbell   \n\n     user_rating  reviews  price  year        genre  \n54           4.8     4022      4  2015  Non Fiction  \n123          4.8    14038      4  2015      Fiction  \n28           4.6     5360      5  2015  Non Fiction  \n55           4.8     3871      5  2015  Non Fiction  \n63           4.8    10922      5  2015      Fiction  ",
      "text/html": "<div>\n<style scoped>\n    .dataframe tbody tr th:only-of-type {\n        vertical-align: middle;\n    }\n\n    .dataframe tbody tr th {\n        vertical-align: top;\n    }\n\n    .dataframe thead th {\n        text-align: right;\n    }\n</style>\n<table border=\"1\" class=\"dataframe\">\n  <thead>\n    <tr style=\"text-align: right;\">\n      <th></th>\n      <th>name</th>\n      <th>author</th>\n      <th>user_rating</th>\n      <th>reviews</th>\n      <th>price</th>\n      <th>year</th>\n      <th>genre</th>\n    </tr>\n  </thead>\n  <tbody>\n    <tr>\n      <th>54</th>\n      <td>Creative Haven Creative Cats Coloring Book (Ad...</td>\n      <td>Marjorie Sarnat</td>\n      <td>4.8</td>\n      <td>4022</td>\n      <td>4</td>\n      <td>2015</td>\n      <td>Non Fiction</td>\n    </tr>\n    <tr>\n      <th>123</th>\n      <td>Giraffes Can't Dance</td>\n      <td>Giles Andreae</td>\n      <td>4.8</td>\n      <td>14038</td>\n      <td>4</td>\n      <td>2015</td>\n      <td>Fiction</td>\n    </tr>\n    <tr>\n      <th>28</th>\n      <td>Baby Touch and Feel: Animals</td>\n      <td>DK</td>\n      <td>4.6</td>\n      <td>5360</td>\n      <td>5</td>\n      <td>2015</td>\n      <td>Non Fiction</td>\n    </tr>\n    <tr>\n      <th>55</th>\n      <td>Creative Haven Owls Coloring Book (Adult Color...</td>\n      <td>Marjorie Sarnat</td>\n      <td>4.8</td>\n      <td>3871</td>\n      <td>5</td>\n      <td>2015</td>\n      <td>Non Fiction</td>\n    </tr>\n    <tr>\n      <th>63</th>\n      <td>Dear Zoo: A Lift-the-Flap Book</td>\n      <td>Rod Campbell</td>\n      <td>4.8</td>\n      <td>10922</td>\n      <td>5</td>\n      <td>2015</td>\n      <td>Fiction</td>\n    </tr>\n  </tbody>\n</table>\n</div>"
     },
     "execution_count": 19,
     "metadata": {},
     "output_type": "execute_result"
    }
   ],
   "source": [
    "# І насамкінець, давайте відсортуємо за зростанням ціни всі книги, які потрапили до рейтингу в 2015 році і коштують дешевше за 8 доларів (використовуйте функцію sort_values).\n",
    "year = 2015\n",
    "max_price = 8\n",
    "books_with_max_cost_in_year = books_data[(books_data['year'] == year) & (books_data['price'] < max_price)].sort_values(by='price', ascending=True)\n",
    "books_with_max_cost_in_year.head()"
   ],
   "metadata": {
    "collapsed": false,
    "ExecuteTime": {
     "end_time": "2023-09-28T09:58:08.662183400Z",
     "start_time": "2023-09-28T09:58:08.595016Z"
    }
   },
   "id": "1ba4123c047ee98c"
  },
  {
   "cell_type": "code",
   "execution_count": 20,
   "outputs": [
    {
     "data": {
      "text/plain": "                                      name       author  user_rating  reviews  \\\n253  Old School (Diary of a Wimpy Kid #10)  Jeff Kinney          4.8     6169   \n\n     price  year    genre  \n253      7  2015  Fiction  ",
      "text/html": "<div>\n<style scoped>\n    .dataframe tbody tr th:only-of-type {\n        vertical-align: middle;\n    }\n\n    .dataframe tbody tr th {\n        vertical-align: top;\n    }\n\n    .dataframe thead th {\n        text-align: right;\n    }\n</style>\n<table border=\"1\" class=\"dataframe\">\n  <thead>\n    <tr style=\"text-align: right;\">\n      <th></th>\n      <th>name</th>\n      <th>author</th>\n      <th>user_rating</th>\n      <th>reviews</th>\n      <th>price</th>\n      <th>year</th>\n      <th>genre</th>\n    </tr>\n  </thead>\n  <tbody>\n    <tr>\n      <th>253</th>\n      <td>Old School (Diary of a Wimpy Kid #10)</td>\n      <td>Jeff Kinney</td>\n      <td>4.8</td>\n      <td>6169</td>\n      <td>7</td>\n      <td>2015</td>\n      <td>Fiction</td>\n    </tr>\n  </tbody>\n</table>\n</div>"
     },
     "execution_count": 20,
     "metadata": {},
     "output_type": "execute_result"
    }
   ],
   "source": [
    "#  Яка книга остання у відсортованому списку?\n",
    "books_with_max_cost_in_year[-1:]"
   ],
   "metadata": {
    "collapsed": false,
    "ExecuteTime": {
     "end_time": "2023-09-28T09:58:08.686520300Z",
     "start_time": "2023-09-28T09:58:08.610406700Z"
    }
   },
   "id": "2404285a1f293307"
  },
  {
   "cell_type": "markdown",
   "source": [
    "## Пошук та сортування даних (Summary)"
   ],
   "metadata": {
    "collapsed": false
   },
   "id": "75ee4f1027805f47"
  },
  {
   "cell_type": "code",
   "execution_count": 21,
   "outputs": [
    {
     "name": "stdout",
     "output_type": "stream",
     "text": [
      "Який рейтинг у датасеті найвищий?\n",
      "\tВідповідь: 4.9\n",
      "Скільки книг мають такий рейтинг?\n",
      "\tВідповідь: 28\n",
      "Яка книга має найбільше відгуків?\n",
      "\tВідповідь: Where the Crawdads Sing\n",
      "З тих книг, що потрапили до Топ-50 у 2015 році, яка книга найдорожча?\n",
      "\tВідповідь: Go Set a Watchman: A Novel\n",
      "Скільки книг жанру Fiction потрапили до Топ-50 у 2010 році?\n",
      "\tВідповідь: 17\n",
      "Скільки книг з рейтингом 4.9 потрапило до рейтингу у 2010 та 2011 роках?\n",
      "\tВідповідь: 1\n",
      "Яка книга остання у відсортованому списку?\n",
      "\tВідповідь: Old School (Diary of a Wimpy Kid #10)\n"
     ]
    }
   ],
   "source": [
    "print(f'Який рейтинг у датасеті найвищий?\\n\\tВідповідь: {max_rating}')\n",
    "print(f'Скільки книг мають такий рейтинг?\\n\\tВідповідь: {books_max_rating_count}')\n",
    "print(f'Яка книга має найбільше відгуків?\\n\\tВідповідь: {book_with_max_reviews[\"name\"].iloc[0]}')\n",
    "print(f'З тих книг, що потрапили до Топ-50 у 2015 році, яка книга найдорожча?\\n\\tВідповідь: {book_with_max_price_year[\"name\"].iloc[0]}')\n",
    "print(f'Скільки книг жанру Fiction потрапили до Топ-50 у 2010 році?\\n\\tВідповідь: {genre_in_top_50_year_count}')\n",
    "print(f'Скільки книг з рейтингом 4.9 потрапило до рейтингу у 2010 та 2011 роках?\\n\\tВідповідь: {books_with_rating_in_years_count}')\n",
    "print(f'Яка книга остання у відсортованому списку?\\n\\tВідповідь: {books_with_max_cost_in_year[-1:][\"name\"].iloc[0]}')"
   ],
   "metadata": {
    "collapsed": false,
    "ExecuteTime": {
     "end_time": "2023-09-28T09:58:08.687521100Z",
     "start_time": "2023-09-28T09:58:08.623494800Z"
    }
   },
   "id": "6ec28967eea13103"
  },
  {
   "cell_type": "markdown",
   "source": [
    "## Агрегування даних та з'єднання таблиць"
   ],
   "metadata": {
    "collapsed": false
   },
   "id": "ef03d329c0e93f9d"
  },
  {
   "cell_type": "code",
   "execution_count": 22,
   "outputs": [
    {
     "data": {
      "text/plain": "             max  min\ngenre                \nFiction       82    0\nNon Fiction  105    0",
      "text/html": "<div>\n<style scoped>\n    .dataframe tbody tr th:only-of-type {\n        vertical-align: middle;\n    }\n\n    .dataframe tbody tr th {\n        vertical-align: top;\n    }\n\n    .dataframe thead th {\n        text-align: right;\n    }\n</style>\n<table border=\"1\" class=\"dataframe\">\n  <thead>\n    <tr style=\"text-align: right;\">\n      <th></th>\n      <th>max</th>\n      <th>min</th>\n    </tr>\n    <tr>\n      <th>genre</th>\n      <th></th>\n      <th></th>\n    </tr>\n  </thead>\n  <tbody>\n    <tr>\n      <th>Fiction</th>\n      <td>82</td>\n      <td>0</td>\n    </tr>\n    <tr>\n      <th>Non Fiction</th>\n      <td>105</td>\n      <td>0</td>\n    </tr>\n  </tbody>\n</table>\n</div>"
     },
     "execution_count": 22,
     "metadata": {},
     "output_type": "execute_result"
    }
   ],
   "source": [
    "# Максимальна ціна для жанру Fiction\n",
    "# Мінімальна ціна для жанру Fiction\n",
    "# Максимальна ціна для жанру Non Fiction\n",
    "# Мінімальна ціна для жанру Non Fiction\n",
    "genre_stats = books_data.groupby('genre')['price'].agg(['max', 'min'])\n",
    "genre_stats"
   ],
   "metadata": {
    "collapsed": false,
    "ExecuteTime": {
     "end_time": "2023-09-28T09:58:08.687521100Z",
     "start_time": "2023-09-28T09:58:08.630911Z"
    }
   },
   "id": "39e209dea15cbfe3"
  },
  {
   "cell_type": "code",
   "execution_count": 23,
   "outputs": [
    {
     "data": {
      "text/plain": "                       author  book_count\n0            Abraham Verghese           1\n1              Adam Gasiewski           1\n2               Adam Mansbach           1\n3                   Adir Levy           1\n4  Admiral William H. McRaven           1",
      "text/html": "<div>\n<style scoped>\n    .dataframe tbody tr th:only-of-type {\n        vertical-align: middle;\n    }\n\n    .dataframe tbody tr th {\n        vertical-align: top;\n    }\n\n    .dataframe thead th {\n        text-align: right;\n    }\n</style>\n<table border=\"1\" class=\"dataframe\">\n  <thead>\n    <tr style=\"text-align: right;\">\n      <th></th>\n      <th>author</th>\n      <th>book_count</th>\n    </tr>\n  </thead>\n  <tbody>\n    <tr>\n      <th>0</th>\n      <td>Abraham Verghese</td>\n      <td>1</td>\n    </tr>\n    <tr>\n      <th>1</th>\n      <td>Adam Gasiewski</td>\n      <td>1</td>\n    </tr>\n    <tr>\n      <th>2</th>\n      <td>Adam Mansbach</td>\n      <td>1</td>\n    </tr>\n    <tr>\n      <th>3</th>\n      <td>Adir Levy</td>\n      <td>1</td>\n    </tr>\n    <tr>\n      <th>4</th>\n      <td>Admiral William H. McRaven</td>\n      <td>1</td>\n    </tr>\n  </tbody>\n</table>\n</div>"
     },
     "execution_count": 23,
     "metadata": {},
     "output_type": "execute_result"
    }
   ],
   "source": [
    "# створіть новий датафрейм, який вміщатиме кількість книг для кожного з авторів\n",
    "author_book_count = books_data.groupby('author')['name'].count().reset_index()\n",
    "author_book_count.columns = ['author', 'book_count']\n",
    "author_book_count.head()"
   ],
   "metadata": {
    "collapsed": false,
    "ExecuteTime": {
     "end_time": "2023-09-28T09:58:08.688521300Z",
     "start_time": "2023-09-28T09:58:08.642339Z"
    }
   },
   "id": "3ce1dab95b792ef6"
  },
  {
   "cell_type": "code",
   "execution_count": 24,
   "outputs": [
    {
     "data": {
      "text/plain": "(248, 2)"
     },
     "execution_count": 24,
     "metadata": {},
     "output_type": "execute_result"
    }
   ],
   "source": [
    "# Якої розмірності вийшла таблиця\n",
    "author_book_count.shape"
   ],
   "metadata": {
    "collapsed": false,
    "ExecuteTime": {
     "end_time": "2023-09-28T09:58:08.690525200Z",
     "start_time": "2023-09-28T09:58:08.653852500Z"
    }
   },
   "id": "fdde7d70a14b9379"
  },
  {
   "cell_type": "code",
   "execution_count": 25,
   "outputs": [
    {
     "data": {
      "text/plain": "          author  book_count\n120  Jeff Kinney          12",
      "text/html": "<div>\n<style scoped>\n    .dataframe tbody tr th:only-of-type {\n        vertical-align: middle;\n    }\n\n    .dataframe tbody tr th {\n        vertical-align: top;\n    }\n\n    .dataframe thead th {\n        text-align: right;\n    }\n</style>\n<table border=\"1\" class=\"dataframe\">\n  <thead>\n    <tr style=\"text-align: right;\">\n      <th></th>\n      <th>author</th>\n      <th>book_count</th>\n    </tr>\n  </thead>\n  <tbody>\n    <tr>\n      <th>120</th>\n      <td>Jeff Kinney</td>\n      <td>12</td>\n    </tr>\n  </tbody>\n</table>\n</div>"
     },
     "execution_count": 25,
     "metadata": {},
     "output_type": "execute_result"
    }
   ],
   "source": [
    "# Який автор має найбільше книг?\n",
    "# Скільки книг цього автора?\n",
    "max_book_count = author_book_count['book_count'].max()\n",
    "max_book_author = author_book_count[author_book_count['book_count'] == max_book_count]\n",
    "max_book_author"
   ],
   "metadata": {
    "collapsed": false,
    "ExecuteTime": {
     "end_time": "2023-09-28T09:58:08.747400600Z",
     "start_time": "2023-09-28T09:58:08.661184300Z"
    }
   },
   "id": "f3f637632775b93"
  },
  {
   "cell_type": "code",
   "execution_count": 26,
   "outputs": [
    {
     "data": {
      "text/plain": "                       author  avg_rating\n0            Abraham Verghese         4.6\n1              Adam Gasiewski         4.4\n2               Adam Mansbach         4.8\n3                   Adir Levy         4.8\n4  Admiral William H. McRaven         4.7",
      "text/html": "<div>\n<style scoped>\n    .dataframe tbody tr th:only-of-type {\n        vertical-align: middle;\n    }\n\n    .dataframe tbody tr th {\n        vertical-align: top;\n    }\n\n    .dataframe thead th {\n        text-align: right;\n    }\n</style>\n<table border=\"1\" class=\"dataframe\">\n  <thead>\n    <tr style=\"text-align: right;\">\n      <th></th>\n      <th>author</th>\n      <th>avg_rating</th>\n    </tr>\n  </thead>\n  <tbody>\n    <tr>\n      <th>0</th>\n      <td>Abraham Verghese</td>\n      <td>4.6</td>\n    </tr>\n    <tr>\n      <th>1</th>\n      <td>Adam Gasiewski</td>\n      <td>4.4</td>\n    </tr>\n    <tr>\n      <th>2</th>\n      <td>Adam Mansbach</td>\n      <td>4.8</td>\n    </tr>\n    <tr>\n      <th>3</th>\n      <td>Adir Levy</td>\n      <td>4.8</td>\n    </tr>\n    <tr>\n      <th>4</th>\n      <td>Admiral William H. McRaven</td>\n      <td>4.7</td>\n    </tr>\n  </tbody>\n</table>\n</div>"
     },
     "execution_count": 26,
     "metadata": {},
     "output_type": "execute_result"
    }
   ],
   "source": [
    "# створіть другий датафрейм, який буде вміщати середній рейтинг для кожного автора\n",
    "author_avg_rating = books_data.groupby('author')['user_rating'].mean().reset_index()\n",
    "author_avg_rating.columns = ['author', 'avg_rating']\n",
    "author_avg_rating.head()"
   ],
   "metadata": {
    "collapsed": false,
    "ExecuteTime": {
     "end_time": "2023-09-28T09:58:08.747400600Z",
     "start_time": "2023-09-28T09:58:08.672328800Z"
    }
   },
   "id": "3b35cb2d026df48a"
  },
  {
   "cell_type": "code",
   "execution_count": 27,
   "outputs": [
    {
     "data": {
      "text/plain": "         author  avg_rating\n71  Donna Tartt         3.9",
      "text/html": "<div>\n<style scoped>\n    .dataframe tbody tr th:only-of-type {\n        vertical-align: middle;\n    }\n\n    .dataframe tbody tr th {\n        vertical-align: top;\n    }\n\n    .dataframe thead th {\n        text-align: right;\n    }\n</style>\n<table border=\"1\" class=\"dataframe\">\n  <thead>\n    <tr style=\"text-align: right;\">\n      <th></th>\n      <th>author</th>\n      <th>avg_rating</th>\n    </tr>\n  </thead>\n  <tbody>\n    <tr>\n      <th>71</th>\n      <td>Donna Tartt</td>\n      <td>3.9</td>\n    </tr>\n  </tbody>\n</table>\n</div>"
     },
     "execution_count": 27,
     "metadata": {},
     "output_type": "execute_result"
    }
   ],
   "source": [
    "# У якого автора середній рейтинг мінімальний?\n",
    "# Який у цього автора середній рейтинг?\n",
    "min_avg_rating = author_avg_rating['avg_rating'].min()\n",
    "author_min_avg_rating = author_avg_rating[author_avg_rating['avg_rating']== min_avg_rating]\n",
    "author_min_avg_rating"
   ],
   "metadata": {
    "collapsed": false,
    "ExecuteTime": {
     "end_time": "2023-09-28T09:58:08.948395800Z",
     "start_time": "2023-09-28T09:58:08.686520300Z"
    }
   },
   "id": "f25b395800fe45e9"
  },
  {
   "cell_type": "code",
   "execution_count": 28,
   "outputs": [
    {
     "data": {
      "text/plain": "                       author  book_count  avg_rating\n0            Abraham Verghese           1         4.6\n1              Adam Gasiewski           1         4.4\n2               Adam Mansbach           1         4.8\n3                   Adir Levy           1         4.8\n4  Admiral William H. McRaven           1         4.7",
      "text/html": "<div>\n<style scoped>\n    .dataframe tbody tr th:only-of-type {\n        vertical-align: middle;\n    }\n\n    .dataframe tbody tr th {\n        vertical-align: top;\n    }\n\n    .dataframe thead th {\n        text-align: right;\n    }\n</style>\n<table border=\"1\" class=\"dataframe\">\n  <thead>\n    <tr style=\"text-align: right;\">\n      <th></th>\n      <th>author</th>\n      <th>book_count</th>\n      <th>avg_rating</th>\n    </tr>\n  </thead>\n  <tbody>\n    <tr>\n      <th>0</th>\n      <td>Abraham Verghese</td>\n      <td>1</td>\n      <td>4.6</td>\n    </tr>\n    <tr>\n      <th>1</th>\n      <td>Adam Gasiewski</td>\n      <td>1</td>\n      <td>4.4</td>\n    </tr>\n    <tr>\n      <th>2</th>\n      <td>Adam Mansbach</td>\n      <td>1</td>\n      <td>4.8</td>\n    </tr>\n    <tr>\n      <th>3</th>\n      <td>Adir Levy</td>\n      <td>1</td>\n      <td>4.8</td>\n    </tr>\n    <tr>\n      <th>4</th>\n      <td>Admiral William H. McRaven</td>\n      <td>1</td>\n      <td>4.7</td>\n    </tr>\n  </tbody>\n</table>\n</div>"
     },
     "execution_count": 28,
     "metadata": {},
     "output_type": "execute_result"
    }
   ],
   "source": [
    "# З'єднайте останні два датафрейми так, щоб для кожного автора було видно кількість книг та середній рейтинг\n",
    "author_book_count_avg_rating = pd.concat([author_book_count, author_avg_rating['avg_rating']], axis=1)\n",
    "author_book_count_avg_rating.head()"
   ],
   "metadata": {
    "collapsed": false,
    "ExecuteTime": {
     "end_time": "2023-09-28T09:58:08.949396200Z",
     "start_time": "2023-09-28T09:58:08.697294600Z"
    }
   },
   "id": "2602a98508368548"
  },
  {
   "cell_type": "code",
   "execution_count": 29,
   "outputs": [
    {
     "data": {
      "text/plain": "             author  book_count  avg_rating\n71      Donna Tartt           1         3.9\n90           Gallup           1         4.0\n100   Gillian Flynn           1         4.0\n171  Muriel Barbery           1         4.0\n43     Chris Cleave           1         4.1",
      "text/html": "<div>\n<style scoped>\n    .dataframe tbody tr th:only-of-type {\n        vertical-align: middle;\n    }\n\n    .dataframe tbody tr th {\n        vertical-align: top;\n    }\n\n    .dataframe thead th {\n        text-align: right;\n    }\n</style>\n<table border=\"1\" class=\"dataframe\">\n  <thead>\n    <tr style=\"text-align: right;\">\n      <th></th>\n      <th>author</th>\n      <th>book_count</th>\n      <th>avg_rating</th>\n    </tr>\n  </thead>\n  <tbody>\n    <tr>\n      <th>71</th>\n      <td>Donna Tartt</td>\n      <td>1</td>\n      <td>3.9</td>\n    </tr>\n    <tr>\n      <th>90</th>\n      <td>Gallup</td>\n      <td>1</td>\n      <td>4.0</td>\n    </tr>\n    <tr>\n      <th>100</th>\n      <td>Gillian Flynn</td>\n      <td>1</td>\n      <td>4.0</td>\n    </tr>\n    <tr>\n      <th>171</th>\n      <td>Muriel Barbery</td>\n      <td>1</td>\n      <td>4.0</td>\n    </tr>\n    <tr>\n      <th>43</th>\n      <td>Chris Cleave</td>\n      <td>1</td>\n      <td>4.1</td>\n    </tr>\n  </tbody>\n</table>\n</div>"
     },
     "execution_count": 29,
     "metadata": {},
     "output_type": "execute_result"
    }
   ],
   "source": [
    "# Відсортуйте датафрейм за зростаючою кількістю книг та зростаючим рейтингом\n",
    "author_book_count_avg_rating_sorted = author_book_count_avg_rating.sort_values(by=['book_count', 'avg_rating'], ascending=[True, True])\n",
    "author_book_count_avg_rating_sorted.head()"
   ],
   "metadata": {
    "collapsed": false,
    "ExecuteTime": {
     "end_time": "2023-09-28T09:58:08.951396400Z",
     "start_time": "2023-09-28T09:58:08.709822600Z"
    }
   },
   "id": "72fe9046544e98ff"
  },
  {
   "cell_type": "markdown",
   "source": [
    "## Агрегування даних та з'єднання таблиць (summary)"
   ],
   "metadata": {
    "collapsed": false
   },
   "id": "80fd57fe94d408cf"
  },
  {
   "cell_type": "code",
   "execution_count": 30,
   "outputs": [
    {
     "name": "stdout",
     "output_type": "stream",
     "text": [
      "Максимальна ціна для жанру Fiction\n",
      "\tВідповідь: 82\n",
      "Мінімальна ціна для жанру Fiction\n",
      "\tВідповідь: 0\n",
      "Максимальна ціна для жанру Non Fiction\n",
      "\tВідповідь: 105\n",
      "Мінімальна ціна для жанру Non Fiction:\n",
      "\tВідповідь: 0\n",
      "Якої розмірності вийшла таблиця?\n",
      "\tВідповідь: (248, 2)\n",
      "Який автор має найбільше книг?\n",
      "\tВідповідь: Jeff Kinney\n",
      "Скільки книг цього автора?\n",
      "\tВідповідь: 12\n",
      "У якого автора середній рейтинг мінімальний?\n",
      "\tВідповідь: Donna Tartt\n",
      "Який у цього автора середній рейтинг?\n",
      "\tВідповідь: 3.9\n",
      "Який автор перший у списку?\n",
      "\tВідповідь: Donna Tartt\n"
     ]
    }
   ],
   "source": [
    "print(f'Максимальна ціна для жанру Fiction\\n\\tВідповідь: {genre_stats[\"max\"].loc[\"Fiction\"]}')\n",
    "print(f'Мінімальна ціна для жанру Fiction\\n\\tВідповідь: {genre_stats[\"min\"].loc[\"Fiction\"]}')\n",
    "print(f'Максимальна ціна для жанру Non Fiction\\n\\tВідповідь: {genre_stats[\"max\"].loc[\"Non Fiction\"]}')\n",
    "print(f'Мінімальна ціна для жанру Non Fiction:\\n\\tВідповідь: {genre_stats[\"min\"].loc[\"Non Fiction\"]}')\n",
    "print(f'Якої розмірності вийшла таблиця?\\n\\tВідповідь: {author_book_count.shape}')\n",
    "print(f'Який автор має найбільше книг?\\n\\tВідповідь: {max_book_author[\"author\"].iloc[0]}')\n",
    "print(f'Скільки книг цього автора?\\n\\tВідповідь: {max_book_author[\"book_count\"].iloc[0]}')\n",
    "print(f'У якого автора середній рейтинг мінімальний?\\n\\tВідповідь: {author_min_avg_rating[\"author\"].iloc[0]}')\n",
    "print(f'Який у цього автора середній рейтинг?\\n\\tВідповідь: {author_min_avg_rating[\"avg_rating\"].iloc[0]}')\n",
    "print(f'Який автор перший у списку?\\n\\tВідповідь: {author_book_count_avg_rating_sorted[\"author\"].iloc[0]}')"
   ],
   "metadata": {
    "collapsed": false,
    "ExecuteTime": {
     "end_time": "2023-09-28T09:58:08.952394700Z",
     "start_time": "2023-09-28T09:58:08.725323Z"
    }
   },
   "id": "2451b21fdafc43af"
  }
 ],
 "metadata": {
  "kernelspec": {
   "display_name": "Python 3",
   "language": "python",
   "name": "python3"
  },
  "language_info": {
   "codemirror_mode": {
    "name": "ipython",
    "version": 2
   },
   "file_extension": ".py",
   "mimetype": "text/x-python",
   "name": "python",
   "nbconvert_exporter": "python",
   "pygments_lexer": "ipython2",
   "version": "2.7.6"
  }
 },
 "nbformat": 4,
 "nbformat_minor": 5
}
